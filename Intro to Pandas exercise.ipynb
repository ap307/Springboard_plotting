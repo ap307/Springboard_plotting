{
 "cells": [
  {
   "cell_type": "code",
   "execution_count": 1,
   "metadata": {
    "collapsed": true
   },
   "outputs": [],
   "source": [
    "import pandas as pd\n",
    "import numpy as np\n",
    "import matplotlib.pyplot as plt\n",
    "%matplotlib inline "
   ]
  },
  {
   "cell_type": "code",
   "execution_count": 1,
   "metadata": {
    "collapsed": false
   },
   "outputs": [
    {
     "name": "stdout",
     "output_type": "stream",
     "text": [
      "This is a new line\n"
     ]
    }
   ],
   "source": [
    "print \"This is a new line\""
   ]
  },
  {
   "cell_type": "code",
   "execution_count": 2,
   "metadata": {
    "collapsed": false
   },
   "outputs": [
    {
     "name": "stdout",
     "output_type": "stream",
     "text": [
      "0    1.0\n",
      "1    3.0\n",
      "2    5.0\n",
      "3    NaN\n",
      "4    6.0\n",
      "5    8.0\n",
      "dtype: float64\n"
     ]
    }
   ],
   "source": [
    "s = pd.Series([1,3,5,np.nan,6,8])\n",
    "print s"
   ]
  },
  {
   "cell_type": "code",
   "execution_count": 3,
   "metadata": {
    "collapsed": false
   },
   "outputs": [
    {
     "name": "stdout",
     "output_type": "stream",
     "text": [
      "DatetimeIndex(['2013-01-01', '2013-01-02', '2013-01-03', '2013-01-04',\n",
      "               '2013-01-05', '2013-01-06'],\n",
      "              dtype='datetime64[ns]', freq='D')\n"
     ]
    }
   ],
   "source": [
    "dates = pd.date_range('20130101',periods=6)\n",
    "print dates"
   ]
  },
  {
   "cell_type": "code",
   "execution_count": 4,
   "metadata": {
    "collapsed": false
   },
   "outputs": [
    {
     "name": "stdout",
     "output_type": "stream",
     "text": [
      "                   A         B         C         D\n",
      "2013-01-01  3.371331  0.181070  0.172445 -1.622486\n",
      "2013-01-02  0.618569  0.041230  0.037552  1.023502\n",
      "2013-01-03  0.622823 -0.623377 -0.110476 -0.374927\n",
      "2013-01-04 -1.416661  1.107422  0.443217  0.829629\n",
      "2013-01-05 -0.139711 -1.154465  0.082175  0.438361\n",
      "2013-01-06  1.157053  0.341404 -1.231877  0.504853\n"
     ]
    }
   ],
   "source": [
    "df = pd.DataFrame(np.random.randn(6,4), index=dates, columns=list('ABCD'))\n",
    "print df"
   ]
  },
  {
   "cell_type": "code",
   "execution_count": 5,
   "metadata": {
    "collapsed": false
   },
   "outputs": [
    {
     "name": "stdout",
     "output_type": "stream",
     "text": [
      "     A          B    C  D      E    F          G\n",
      "0  1.0 2013-01-02  1.0  3   test  foo 2013-01-01\n",
      "1  1.0 2013-01-02  1.0  3  train  foo 2013-01-02\n",
      "2  1.0 2013-01-02  1.0  3   test  foo 2013-01-03\n",
      "3  1.0 2013-01-02  1.0  3  train  foo 2013-01-04\n"
     ]
    }
   ],
   "source": [
    "df2 = pd.DataFrame({'A':1.,\n",
    "                    'B':pd.Timestamp('20130102'),\n",
    "                   'C' : pd.Series(1,index=list(range(4)),dtype='float32'),\n",
    "                    'D':np.array([3]*4, dtype='int32'),\n",
    "                    'E':pd.Categorical([\"test\",\"train\",\"test\",\"train\"]),\n",
    "                    'F':'foo',\n",
    "                    'G':pd.date_range('20130101', periods=4)\n",
    "                   })\n",
    "print df2"
   ]
  },
  {
   "cell_type": "code",
   "execution_count": 6,
   "metadata": {
    "collapsed": false
   },
   "outputs": [
    {
     "data": {
      "text/plain": [
       "A           float64\n",
       "B    datetime64[ns]\n",
       "C           float32\n",
       "D             int32\n",
       "E          category\n",
       "F            object\n",
       "G    datetime64[ns]\n",
       "dtype: object"
      ]
     },
     "execution_count": 6,
     "metadata": {},
     "output_type": "execute_result"
    }
   ],
   "source": [
    "df2.dtypes"
   ]
  },
  {
   "cell_type": "code",
   "execution_count": 7,
   "metadata": {
    "collapsed": false
   },
   "outputs": [
    {
     "data": {
      "text/html": [
       "<div>\n",
       "<table border=\"1\" class=\"dataframe\">\n",
       "  <thead>\n",
       "    <tr style=\"text-align: right;\">\n",
       "      <th></th>\n",
       "      <th>A</th>\n",
       "      <th>B</th>\n",
       "      <th>C</th>\n",
       "      <th>D</th>\n",
       "    </tr>\n",
       "  </thead>\n",
       "  <tbody>\n",
       "    <tr>\n",
       "      <th>2013-01-04</th>\n",
       "      <td>-1.416661</td>\n",
       "      <td>1.107422</td>\n",
       "      <td>0.443217</td>\n",
       "      <td>0.829629</td>\n",
       "    </tr>\n",
       "    <tr>\n",
       "      <th>2013-01-05</th>\n",
       "      <td>-0.139711</td>\n",
       "      <td>-1.154465</td>\n",
       "      <td>0.082175</td>\n",
       "      <td>0.438361</td>\n",
       "    </tr>\n",
       "    <tr>\n",
       "      <th>2013-01-06</th>\n",
       "      <td>1.157053</td>\n",
       "      <td>0.341404</td>\n",
       "      <td>-1.231877</td>\n",
       "      <td>0.504853</td>\n",
       "    </tr>\n",
       "  </tbody>\n",
       "</table>\n",
       "</div>"
      ],
      "text/plain": [
       "                   A         B         C         D\n",
       "2013-01-04 -1.416661  1.107422  0.443217  0.829629\n",
       "2013-01-05 -0.139711 -1.154465  0.082175  0.438361\n",
       "2013-01-06  1.157053  0.341404 -1.231877  0.504853"
      ]
     },
     "execution_count": 7,
     "metadata": {},
     "output_type": "execute_result"
    }
   ],
   "source": [
    "df.tail(3)"
   ]
  },
  {
   "cell_type": "code",
   "execution_count": 8,
   "metadata": {
    "collapsed": false
   },
   "outputs": [
    {
     "data": {
      "text/html": [
       "<div>\n",
       "<table border=\"1\" class=\"dataframe\">\n",
       "  <thead>\n",
       "    <tr style=\"text-align: right;\">\n",
       "      <th></th>\n",
       "      <th>A</th>\n",
       "      <th>B</th>\n",
       "      <th>C</th>\n",
       "      <th>D</th>\n",
       "    </tr>\n",
       "  </thead>\n",
       "  <tbody>\n",
       "    <tr>\n",
       "      <th>2013-01-01</th>\n",
       "      <td>3.371331</td>\n",
       "      <td>0.181070</td>\n",
       "      <td>0.172445</td>\n",
       "      <td>-1.622486</td>\n",
       "    </tr>\n",
       "    <tr>\n",
       "      <th>2013-01-02</th>\n",
       "      <td>0.618569</td>\n",
       "      <td>0.041230</td>\n",
       "      <td>0.037552</td>\n",
       "      <td>1.023502</td>\n",
       "    </tr>\n",
       "    <tr>\n",
       "      <th>2013-01-03</th>\n",
       "      <td>0.622823</td>\n",
       "      <td>-0.623377</td>\n",
       "      <td>-0.110476</td>\n",
       "      <td>-0.374927</td>\n",
       "    </tr>\n",
       "    <tr>\n",
       "      <th>2013-01-04</th>\n",
       "      <td>-1.416661</td>\n",
       "      <td>1.107422</td>\n",
       "      <td>0.443217</td>\n",
       "      <td>0.829629</td>\n",
       "    </tr>\n",
       "    <tr>\n",
       "      <th>2013-01-05</th>\n",
       "      <td>-0.139711</td>\n",
       "      <td>-1.154465</td>\n",
       "      <td>0.082175</td>\n",
       "      <td>0.438361</td>\n",
       "    </tr>\n",
       "    <tr>\n",
       "      <th>2013-01-06</th>\n",
       "      <td>1.157053</td>\n",
       "      <td>0.341404</td>\n",
       "      <td>-1.231877</td>\n",
       "      <td>0.504853</td>\n",
       "    </tr>\n",
       "  </tbody>\n",
       "</table>\n",
       "</div>"
      ],
      "text/plain": [
       "                   A         B         C         D\n",
       "2013-01-01  3.371331  0.181070  0.172445 -1.622486\n",
       "2013-01-02  0.618569  0.041230  0.037552  1.023502\n",
       "2013-01-03  0.622823 -0.623377 -0.110476 -0.374927\n",
       "2013-01-04 -1.416661  1.107422  0.443217  0.829629\n",
       "2013-01-05 -0.139711 -1.154465  0.082175  0.438361\n",
       "2013-01-06  1.157053  0.341404 -1.231877  0.504853"
      ]
     },
     "execution_count": 8,
     "metadata": {},
     "output_type": "execute_result"
    }
   ],
   "source": [
    "df.head(10)"
   ]
  },
  {
   "cell_type": "code",
   "execution_count": 9,
   "metadata": {
    "collapsed": false
   },
   "outputs": [
    {
     "data": {
      "text/plain": [
       "DatetimeIndex(['2013-01-01', '2013-01-02', '2013-01-03', '2013-01-04',\n",
       "               '2013-01-05', '2013-01-06'],\n",
       "              dtype='datetime64[ns]', freq='D')"
      ]
     },
     "execution_count": 9,
     "metadata": {},
     "output_type": "execute_result"
    }
   ],
   "source": [
    "df.index"
   ]
  },
  {
   "cell_type": "code",
   "execution_count": 10,
   "metadata": {
    "collapsed": false
   },
   "outputs": [
    {
     "data": {
      "text/plain": [
       "Index([u'A', u'B', u'C', u'D'], dtype='object')"
      ]
     },
     "execution_count": 10,
     "metadata": {},
     "output_type": "execute_result"
    }
   ],
   "source": [
    "df.columns"
   ]
  },
  {
   "cell_type": "code",
   "execution_count": 11,
   "metadata": {
    "collapsed": false
   },
   "outputs": [
    {
     "data": {
      "text/plain": [
       "array([[ 3.37133074,  0.18107019,  0.17244524, -1.62248576],\n",
       "       [ 0.6185695 ,  0.04122958,  0.03755158,  1.02350189],\n",
       "       [ 0.62282319, -0.62337657, -0.11047644, -0.37492713],\n",
       "       [-1.41666057,  1.10742229,  0.44321694,  0.8296286 ],\n",
       "       [-0.1397111 , -1.15446476,  0.08217454,  0.43836082],\n",
       "       [ 1.15705325,  0.34140409, -1.23187714,  0.50485301]])"
      ]
     },
     "execution_count": 11,
     "metadata": {},
     "output_type": "execute_result"
    }
   ],
   "source": [
    "df.values"
   ]
  },
  {
   "cell_type": "code",
   "execution_count": 12,
   "metadata": {
    "collapsed": false
   },
   "outputs": [
    {
     "data": {
      "text/html": [
       "<div>\n",
       "<table border=\"1\" class=\"dataframe\">\n",
       "  <thead>\n",
       "    <tr style=\"text-align: right;\">\n",
       "      <th></th>\n",
       "      <th>A</th>\n",
       "      <th>B</th>\n",
       "      <th>C</th>\n",
       "      <th>D</th>\n",
       "    </tr>\n",
       "  </thead>\n",
       "  <tbody>\n",
       "    <tr>\n",
       "      <th>count</th>\n",
       "      <td>6.000000</td>\n",
       "      <td>6.000000</td>\n",
       "      <td>6.000000</td>\n",
       "      <td>6.000000</td>\n",
       "    </tr>\n",
       "    <tr>\n",
       "      <th>mean</th>\n",
       "      <td>0.702234</td>\n",
       "      <td>-0.017786</td>\n",
       "      <td>-0.101161</td>\n",
       "      <td>0.133155</td>\n",
       "    </tr>\n",
       "    <tr>\n",
       "      <th>std</th>\n",
       "      <td>1.583845</td>\n",
       "      <td>0.787009</td>\n",
       "      <td>0.583552</td>\n",
       "      <td>0.984838</td>\n",
       "    </tr>\n",
       "    <tr>\n",
       "      <th>min</th>\n",
       "      <td>-1.416661</td>\n",
       "      <td>-1.154465</td>\n",
       "      <td>-1.231877</td>\n",
       "      <td>-1.622486</td>\n",
       "    </tr>\n",
       "    <tr>\n",
       "      <th>25%</th>\n",
       "      <td>0.049859</td>\n",
       "      <td>-0.457225</td>\n",
       "      <td>-0.073469</td>\n",
       "      <td>-0.171605</td>\n",
       "    </tr>\n",
       "    <tr>\n",
       "      <th>50%</th>\n",
       "      <td>0.620696</td>\n",
       "      <td>0.111150</td>\n",
       "      <td>0.059863</td>\n",
       "      <td>0.471607</td>\n",
       "    </tr>\n",
       "    <tr>\n",
       "      <th>75%</th>\n",
       "      <td>1.023496</td>\n",
       "      <td>0.301321</td>\n",
       "      <td>0.149878</td>\n",
       "      <td>0.748435</td>\n",
       "    </tr>\n",
       "    <tr>\n",
       "      <th>max</th>\n",
       "      <td>3.371331</td>\n",
       "      <td>1.107422</td>\n",
       "      <td>0.443217</td>\n",
       "      <td>1.023502</td>\n",
       "    </tr>\n",
       "  </tbody>\n",
       "</table>\n",
       "</div>"
      ],
      "text/plain": [
       "              A         B         C         D\n",
       "count  6.000000  6.000000  6.000000  6.000000\n",
       "mean   0.702234 -0.017786 -0.101161  0.133155\n",
       "std    1.583845  0.787009  0.583552  0.984838\n",
       "min   -1.416661 -1.154465 -1.231877 -1.622486\n",
       "25%    0.049859 -0.457225 -0.073469 -0.171605\n",
       "50%    0.620696  0.111150  0.059863  0.471607\n",
       "75%    1.023496  0.301321  0.149878  0.748435\n",
       "max    3.371331  1.107422  0.443217  1.023502"
      ]
     },
     "execution_count": 12,
     "metadata": {},
     "output_type": "execute_result"
    }
   ],
   "source": [
    "df.describe()"
   ]
  },
  {
   "cell_type": "code",
   "execution_count": 13,
   "metadata": {
    "collapsed": false
   },
   "outputs": [
    {
     "data": {
      "text/html": [
       "<div>\n",
       "<table border=\"1\" class=\"dataframe\">\n",
       "  <thead>\n",
       "    <tr style=\"text-align: right;\">\n",
       "      <th></th>\n",
       "      <th>2013-01-01 00:00:00</th>\n",
       "      <th>2013-01-02 00:00:00</th>\n",
       "      <th>2013-01-03 00:00:00</th>\n",
       "      <th>2013-01-04 00:00:00</th>\n",
       "      <th>2013-01-05 00:00:00</th>\n",
       "      <th>2013-01-06 00:00:00</th>\n",
       "    </tr>\n",
       "  </thead>\n",
       "  <tbody>\n",
       "    <tr>\n",
       "      <th>A</th>\n",
       "      <td>3.371331</td>\n",
       "      <td>0.618569</td>\n",
       "      <td>0.622823</td>\n",
       "      <td>-1.416661</td>\n",
       "      <td>-0.139711</td>\n",
       "      <td>1.157053</td>\n",
       "    </tr>\n",
       "    <tr>\n",
       "      <th>B</th>\n",
       "      <td>0.181070</td>\n",
       "      <td>0.041230</td>\n",
       "      <td>-0.623377</td>\n",
       "      <td>1.107422</td>\n",
       "      <td>-1.154465</td>\n",
       "      <td>0.341404</td>\n",
       "    </tr>\n",
       "    <tr>\n",
       "      <th>C</th>\n",
       "      <td>0.172445</td>\n",
       "      <td>0.037552</td>\n",
       "      <td>-0.110476</td>\n",
       "      <td>0.443217</td>\n",
       "      <td>0.082175</td>\n",
       "      <td>-1.231877</td>\n",
       "    </tr>\n",
       "    <tr>\n",
       "      <th>D</th>\n",
       "      <td>-1.622486</td>\n",
       "      <td>1.023502</td>\n",
       "      <td>-0.374927</td>\n",
       "      <td>0.829629</td>\n",
       "      <td>0.438361</td>\n",
       "      <td>0.504853</td>\n",
       "    </tr>\n",
       "  </tbody>\n",
       "</table>\n",
       "</div>"
      ],
      "text/plain": [
       "   2013-01-01  2013-01-02  2013-01-03  2013-01-04  2013-01-05  2013-01-06\n",
       "A    3.371331    0.618569    0.622823   -1.416661   -0.139711    1.157053\n",
       "B    0.181070    0.041230   -0.623377    1.107422   -1.154465    0.341404\n",
       "C    0.172445    0.037552   -0.110476    0.443217    0.082175   -1.231877\n",
       "D   -1.622486    1.023502   -0.374927    0.829629    0.438361    0.504853"
      ]
     },
     "execution_count": 13,
     "metadata": {},
     "output_type": "execute_result"
    }
   ],
   "source": [
    "df.T"
   ]
  },
  {
   "cell_type": "code",
   "execution_count": 14,
   "metadata": {
    "collapsed": false
   },
   "outputs": [
    {
     "data": {
      "text/html": [
       "<div>\n",
       "<table border=\"1\" class=\"dataframe\">\n",
       "  <thead>\n",
       "    <tr style=\"text-align: right;\">\n",
       "      <th></th>\n",
       "      <th>A</th>\n",
       "      <th>B</th>\n",
       "      <th>C</th>\n",
       "      <th>D</th>\n",
       "    </tr>\n",
       "  </thead>\n",
       "  <tbody>\n",
       "    <tr>\n",
       "      <th>2013-01-06</th>\n",
       "      <td>1.157053</td>\n",
       "      <td>0.341404</td>\n",
       "      <td>-1.231877</td>\n",
       "      <td>0.504853</td>\n",
       "    </tr>\n",
       "    <tr>\n",
       "      <th>2013-01-05</th>\n",
       "      <td>-0.139711</td>\n",
       "      <td>-1.154465</td>\n",
       "      <td>0.082175</td>\n",
       "      <td>0.438361</td>\n",
       "    </tr>\n",
       "    <tr>\n",
       "      <th>2013-01-04</th>\n",
       "      <td>-1.416661</td>\n",
       "      <td>1.107422</td>\n",
       "      <td>0.443217</td>\n",
       "      <td>0.829629</td>\n",
       "    </tr>\n",
       "    <tr>\n",
       "      <th>2013-01-03</th>\n",
       "      <td>0.622823</td>\n",
       "      <td>-0.623377</td>\n",
       "      <td>-0.110476</td>\n",
       "      <td>-0.374927</td>\n",
       "    </tr>\n",
       "    <tr>\n",
       "      <th>2013-01-02</th>\n",
       "      <td>0.618569</td>\n",
       "      <td>0.041230</td>\n",
       "      <td>0.037552</td>\n",
       "      <td>1.023502</td>\n",
       "    </tr>\n",
       "    <tr>\n",
       "      <th>2013-01-01</th>\n",
       "      <td>3.371331</td>\n",
       "      <td>0.181070</td>\n",
       "      <td>0.172445</td>\n",
       "      <td>-1.622486</td>\n",
       "    </tr>\n",
       "  </tbody>\n",
       "</table>\n",
       "</div>"
      ],
      "text/plain": [
       "                   A         B         C         D\n",
       "2013-01-06  1.157053  0.341404 -1.231877  0.504853\n",
       "2013-01-05 -0.139711 -1.154465  0.082175  0.438361\n",
       "2013-01-04 -1.416661  1.107422  0.443217  0.829629\n",
       "2013-01-03  0.622823 -0.623377 -0.110476 -0.374927\n",
       "2013-01-02  0.618569  0.041230  0.037552  1.023502\n",
       "2013-01-01  3.371331  0.181070  0.172445 -1.622486"
      ]
     },
     "execution_count": 14,
     "metadata": {},
     "output_type": "execute_result"
    }
   ],
   "source": [
    "df.sort_index(axis=0, ascending=False)"
   ]
  },
  {
   "cell_type": "code",
   "execution_count": 15,
   "metadata": {
    "collapsed": false
   },
   "outputs": [
    {
     "data": {
      "text/html": [
       "<div>\n",
       "<table border=\"1\" class=\"dataframe\">\n",
       "  <thead>\n",
       "    <tr style=\"text-align: right;\">\n",
       "      <th></th>\n",
       "      <th>D</th>\n",
       "      <th>C</th>\n",
       "      <th>B</th>\n",
       "      <th>A</th>\n",
       "    </tr>\n",
       "  </thead>\n",
       "  <tbody>\n",
       "    <tr>\n",
       "      <th>2013-01-01</th>\n",
       "      <td>-1.622486</td>\n",
       "      <td>0.172445</td>\n",
       "      <td>0.181070</td>\n",
       "      <td>3.371331</td>\n",
       "    </tr>\n",
       "    <tr>\n",
       "      <th>2013-01-02</th>\n",
       "      <td>1.023502</td>\n",
       "      <td>0.037552</td>\n",
       "      <td>0.041230</td>\n",
       "      <td>0.618569</td>\n",
       "    </tr>\n",
       "    <tr>\n",
       "      <th>2013-01-03</th>\n",
       "      <td>-0.374927</td>\n",
       "      <td>-0.110476</td>\n",
       "      <td>-0.623377</td>\n",
       "      <td>0.622823</td>\n",
       "    </tr>\n",
       "    <tr>\n",
       "      <th>2013-01-04</th>\n",
       "      <td>0.829629</td>\n",
       "      <td>0.443217</td>\n",
       "      <td>1.107422</td>\n",
       "      <td>-1.416661</td>\n",
       "    </tr>\n",
       "    <tr>\n",
       "      <th>2013-01-05</th>\n",
       "      <td>0.438361</td>\n",
       "      <td>0.082175</td>\n",
       "      <td>-1.154465</td>\n",
       "      <td>-0.139711</td>\n",
       "    </tr>\n",
       "    <tr>\n",
       "      <th>2013-01-06</th>\n",
       "      <td>0.504853</td>\n",
       "      <td>-1.231877</td>\n",
       "      <td>0.341404</td>\n",
       "      <td>1.157053</td>\n",
       "    </tr>\n",
       "  </tbody>\n",
       "</table>\n",
       "</div>"
      ],
      "text/plain": [
       "                   D         C         B         A\n",
       "2013-01-01 -1.622486  0.172445  0.181070  3.371331\n",
       "2013-01-02  1.023502  0.037552  0.041230  0.618569\n",
       "2013-01-03 -0.374927 -0.110476 -0.623377  0.622823\n",
       "2013-01-04  0.829629  0.443217  1.107422 -1.416661\n",
       "2013-01-05  0.438361  0.082175 -1.154465 -0.139711\n",
       "2013-01-06  0.504853 -1.231877  0.341404  1.157053"
      ]
     },
     "execution_count": 15,
     "metadata": {},
     "output_type": "execute_result"
    }
   ],
   "source": [
    "df.sort_index(axis=1, ascending=False)"
   ]
  },
  {
   "cell_type": "code",
   "execution_count": 16,
   "metadata": {
    "collapsed": false
   },
   "outputs": [
    {
     "data": {
      "text/html": [
       "<div>\n",
       "<table border=\"1\" class=\"dataframe\">\n",
       "  <thead>\n",
       "    <tr style=\"text-align: right;\">\n",
       "      <th></th>\n",
       "      <th>A</th>\n",
       "      <th>B</th>\n",
       "      <th>C</th>\n",
       "      <th>D</th>\n",
       "    </tr>\n",
       "  </thead>\n",
       "  <tbody>\n",
       "    <tr>\n",
       "      <th>2013-01-05</th>\n",
       "      <td>-0.139711</td>\n",
       "      <td>-1.154465</td>\n",
       "      <td>0.082175</td>\n",
       "      <td>0.438361</td>\n",
       "    </tr>\n",
       "    <tr>\n",
       "      <th>2013-01-03</th>\n",
       "      <td>0.622823</td>\n",
       "      <td>-0.623377</td>\n",
       "      <td>-0.110476</td>\n",
       "      <td>-0.374927</td>\n",
       "    </tr>\n",
       "    <tr>\n",
       "      <th>2013-01-02</th>\n",
       "      <td>0.618569</td>\n",
       "      <td>0.041230</td>\n",
       "      <td>0.037552</td>\n",
       "      <td>1.023502</td>\n",
       "    </tr>\n",
       "    <tr>\n",
       "      <th>2013-01-01</th>\n",
       "      <td>3.371331</td>\n",
       "      <td>0.181070</td>\n",
       "      <td>0.172445</td>\n",
       "      <td>-1.622486</td>\n",
       "    </tr>\n",
       "    <tr>\n",
       "      <th>2013-01-06</th>\n",
       "      <td>1.157053</td>\n",
       "      <td>0.341404</td>\n",
       "      <td>-1.231877</td>\n",
       "      <td>0.504853</td>\n",
       "    </tr>\n",
       "    <tr>\n",
       "      <th>2013-01-04</th>\n",
       "      <td>-1.416661</td>\n",
       "      <td>1.107422</td>\n",
       "      <td>0.443217</td>\n",
       "      <td>0.829629</td>\n",
       "    </tr>\n",
       "  </tbody>\n",
       "</table>\n",
       "</div>"
      ],
      "text/plain": [
       "                   A         B         C         D\n",
       "2013-01-05 -0.139711 -1.154465  0.082175  0.438361\n",
       "2013-01-03  0.622823 -0.623377 -0.110476 -0.374927\n",
       "2013-01-02  0.618569  0.041230  0.037552  1.023502\n",
       "2013-01-01  3.371331  0.181070  0.172445 -1.622486\n",
       "2013-01-06  1.157053  0.341404 -1.231877  0.504853\n",
       "2013-01-04 -1.416661  1.107422  0.443217  0.829629"
      ]
     },
     "execution_count": 16,
     "metadata": {},
     "output_type": "execute_result"
    }
   ],
   "source": [
    "df.sort_values(by='B',ascending=True)"
   ]
  },
  {
   "cell_type": "code",
   "execution_count": 17,
   "metadata": {
    "collapsed": false
   },
   "outputs": [
    {
     "data": {
      "text/plain": [
       "2013-01-01    0.181070\n",
       "2013-01-02    0.041230\n",
       "2013-01-03   -0.623377\n",
       "2013-01-04    1.107422\n",
       "2013-01-05   -1.154465\n",
       "2013-01-06    0.341404\n",
       "Freq: D, Name: B, dtype: float64"
      ]
     },
     "execution_count": 17,
     "metadata": {},
     "output_type": "execute_result"
    }
   ],
   "source": [
    "df['B']"
   ]
  },
  {
   "cell_type": "code",
   "execution_count": 18,
   "metadata": {
    "collapsed": false
   },
   "outputs": [
    {
     "data": {
      "text/html": [
       "<div>\n",
       "<table border=\"1\" class=\"dataframe\">\n",
       "  <thead>\n",
       "    <tr style=\"text-align: right;\">\n",
       "      <th></th>\n",
       "      <th>A</th>\n",
       "      <th>B</th>\n",
       "      <th>C</th>\n",
       "      <th>D</th>\n",
       "    </tr>\n",
       "  </thead>\n",
       "  <tbody>\n",
       "    <tr>\n",
       "      <th>2013-01-02</th>\n",
       "      <td>0.618569</td>\n",
       "      <td>0.041230</td>\n",
       "      <td>0.037552</td>\n",
       "      <td>1.023502</td>\n",
       "    </tr>\n",
       "    <tr>\n",
       "      <th>2013-01-03</th>\n",
       "      <td>0.622823</td>\n",
       "      <td>-0.623377</td>\n",
       "      <td>-0.110476</td>\n",
       "      <td>-0.374927</td>\n",
       "    </tr>\n",
       "    <tr>\n",
       "      <th>2013-01-04</th>\n",
       "      <td>-1.416661</td>\n",
       "      <td>1.107422</td>\n",
       "      <td>0.443217</td>\n",
       "      <td>0.829629</td>\n",
       "    </tr>\n",
       "  </tbody>\n",
       "</table>\n",
       "</div>"
      ],
      "text/plain": [
       "                   A         B         C         D\n",
       "2013-01-02  0.618569  0.041230  0.037552  1.023502\n",
       "2013-01-03  0.622823 -0.623377 -0.110476 -0.374927\n",
       "2013-01-04 -1.416661  1.107422  0.443217  0.829629"
      ]
     },
     "execution_count": 18,
     "metadata": {},
     "output_type": "execute_result"
    }
   ],
   "source": [
    "df['20130102':'20130104']"
   ]
  },
  {
   "cell_type": "code",
   "execution_count": 19,
   "metadata": {
    "collapsed": false
   },
   "outputs": [
    {
     "data": {
      "text/plain": [
       "A    3.371331\n",
       "B    0.181070\n",
       "C    0.172445\n",
       "D   -1.622486\n",
       "Name: 2013-01-01 00:00:00, dtype: float64"
      ]
     },
     "execution_count": 19,
     "metadata": {},
     "output_type": "execute_result"
    }
   ],
   "source": [
    "df.loc[dates[0]]"
   ]
  },
  {
   "cell_type": "code",
   "execution_count": 20,
   "metadata": {
    "collapsed": false
   },
   "outputs": [
    {
     "data": {
      "text/html": [
       "<div>\n",
       "<table border=\"1\" class=\"dataframe\">\n",
       "  <thead>\n",
       "    <tr style=\"text-align: right;\">\n",
       "      <th></th>\n",
       "      <th>A</th>\n",
       "      <th>B</th>\n",
       "    </tr>\n",
       "  </thead>\n",
       "  <tbody>\n",
       "    <tr>\n",
       "      <th>2013-01-01</th>\n",
       "      <td>3.371331</td>\n",
       "      <td>0.181070</td>\n",
       "    </tr>\n",
       "    <tr>\n",
       "      <th>2013-01-02</th>\n",
       "      <td>0.618569</td>\n",
       "      <td>0.041230</td>\n",
       "    </tr>\n",
       "    <tr>\n",
       "      <th>2013-01-03</th>\n",
       "      <td>0.622823</td>\n",
       "      <td>-0.623377</td>\n",
       "    </tr>\n",
       "    <tr>\n",
       "      <th>2013-01-04</th>\n",
       "      <td>-1.416661</td>\n",
       "      <td>1.107422</td>\n",
       "    </tr>\n",
       "    <tr>\n",
       "      <th>2013-01-05</th>\n",
       "      <td>-0.139711</td>\n",
       "      <td>-1.154465</td>\n",
       "    </tr>\n",
       "    <tr>\n",
       "      <th>2013-01-06</th>\n",
       "      <td>1.157053</td>\n",
       "      <td>0.341404</td>\n",
       "    </tr>\n",
       "  </tbody>\n",
       "</table>\n",
       "</div>"
      ],
      "text/plain": [
       "                   A         B\n",
       "2013-01-01  3.371331  0.181070\n",
       "2013-01-02  0.618569  0.041230\n",
       "2013-01-03  0.622823 -0.623377\n",
       "2013-01-04 -1.416661  1.107422\n",
       "2013-01-05 -0.139711 -1.154465\n",
       "2013-01-06  1.157053  0.341404"
      ]
     },
     "execution_count": 20,
     "metadata": {},
     "output_type": "execute_result"
    }
   ],
   "source": [
    "df.loc[:,['A','B']]"
   ]
  },
  {
   "cell_type": "code",
   "execution_count": 21,
   "metadata": {
    "collapsed": false
   },
   "outputs": [
    {
     "data": {
      "text/plain": [
       "2013-01-01    3.371331\n",
       "2013-01-02    0.618569\n",
       "2013-01-03    0.622823\n",
       "2013-01-04   -1.416661\n",
       "2013-01-05   -0.139711\n",
       "2013-01-06    1.157053\n",
       "Freq: D, Name: A, dtype: float64"
      ]
     },
     "execution_count": 21,
     "metadata": {},
     "output_type": "execute_result"
    }
   ],
   "source": [
    "df.loc[:,'A']"
   ]
  },
  {
   "cell_type": "code",
   "execution_count": 22,
   "metadata": {
    "collapsed": false
   },
   "outputs": [
    {
     "data": {
      "text/html": [
       "<div>\n",
       "<table border=\"1\" class=\"dataframe\">\n",
       "  <thead>\n",
       "    <tr style=\"text-align: right;\">\n",
       "      <th></th>\n",
       "      <th>A</th>\n",
       "      <th>B</th>\n",
       "    </tr>\n",
       "  </thead>\n",
       "  <tbody>\n",
       "    <tr>\n",
       "      <th>2013-01-02</th>\n",
       "      <td>0.618569</td>\n",
       "      <td>0.041230</td>\n",
       "    </tr>\n",
       "    <tr>\n",
       "      <th>2013-01-03</th>\n",
       "      <td>0.622823</td>\n",
       "      <td>-0.623377</td>\n",
       "    </tr>\n",
       "    <tr>\n",
       "      <th>2013-01-04</th>\n",
       "      <td>-1.416661</td>\n",
       "      <td>1.107422</td>\n",
       "    </tr>\n",
       "  </tbody>\n",
       "</table>\n",
       "</div>"
      ],
      "text/plain": [
       "                   A         B\n",
       "2013-01-02  0.618569  0.041230\n",
       "2013-01-03  0.622823 -0.623377\n",
       "2013-01-04 -1.416661  1.107422"
      ]
     },
     "execution_count": 22,
     "metadata": {},
     "output_type": "execute_result"
    }
   ],
   "source": [
    "df.loc['20130102':'20130104',['A','B']]"
   ]
  },
  {
   "cell_type": "code",
   "execution_count": 23,
   "metadata": {
    "collapsed": false
   },
   "outputs": [
    {
     "data": {
      "text/plain": [
       "A    0.618569\n",
       "B    0.041230\n",
       "Name: 2013-01-02 00:00:00, dtype: float64"
      ]
     },
     "execution_count": 23,
     "metadata": {},
     "output_type": "execute_result"
    }
   ],
   "source": [
    "df.loc['20130102',['A','B']]"
   ]
  },
  {
   "cell_type": "code",
   "execution_count": 24,
   "metadata": {
    "collapsed": false
   },
   "outputs": [
    {
     "data": {
      "text/plain": [
       "3.3713307356462137"
      ]
     },
     "execution_count": 24,
     "metadata": {},
     "output_type": "execute_result"
    }
   ],
   "source": [
    "df.loc[dates[0],'A']"
   ]
  },
  {
   "cell_type": "code",
   "execution_count": 25,
   "metadata": {
    "collapsed": false
   },
   "outputs": [
    {
     "data": {
      "text/plain": [
       "3.3713307356462137"
      ]
     },
     "execution_count": 25,
     "metadata": {},
     "output_type": "execute_result"
    }
   ],
   "source": [
    "df.at[dates[0],'A']"
   ]
  },
  {
   "cell_type": "code",
   "execution_count": 26,
   "metadata": {
    "collapsed": false
   },
   "outputs": [
    {
     "data": {
      "text/plain": [
       "A   -1.416661\n",
       "B    1.107422\n",
       "C    0.443217\n",
       "D    0.829629\n",
       "Name: 2013-01-04 00:00:00, dtype: float64"
      ]
     },
     "execution_count": 26,
     "metadata": {},
     "output_type": "execute_result"
    }
   ],
   "source": [
    "df.iloc[3]"
   ]
  },
  {
   "cell_type": "code",
   "execution_count": 27,
   "metadata": {
    "collapsed": false
   },
   "outputs": [
    {
     "data": {
      "text/html": [
       "<div>\n",
       "<table border=\"1\" class=\"dataframe\">\n",
       "  <thead>\n",
       "    <tr style=\"text-align: right;\">\n",
       "      <th></th>\n",
       "      <th>A</th>\n",
       "      <th>B</th>\n",
       "    </tr>\n",
       "  </thead>\n",
       "  <tbody>\n",
       "    <tr>\n",
       "      <th>2013-01-04</th>\n",
       "      <td>-1.416661</td>\n",
       "      <td>1.107422</td>\n",
       "    </tr>\n",
       "    <tr>\n",
       "      <th>2013-01-05</th>\n",
       "      <td>-0.139711</td>\n",
       "      <td>-1.154465</td>\n",
       "    </tr>\n",
       "  </tbody>\n",
       "</table>\n",
       "</div>"
      ],
      "text/plain": [
       "                   A         B\n",
       "2013-01-04 -1.416661  1.107422\n",
       "2013-01-05 -0.139711 -1.154465"
      ]
     },
     "execution_count": 27,
     "metadata": {},
     "output_type": "execute_result"
    }
   ],
   "source": [
    "df.iloc[3:5,0:2]\n"
   ]
  },
  {
   "cell_type": "code",
   "execution_count": 28,
   "metadata": {
    "collapsed": false
   },
   "outputs": [
    {
     "data": {
      "text/html": [
       "<div>\n",
       "<table border=\"1\" class=\"dataframe\">\n",
       "  <thead>\n",
       "    <tr style=\"text-align: right;\">\n",
       "      <th></th>\n",
       "      <th>A</th>\n",
       "      <th>C</th>\n",
       "    </tr>\n",
       "  </thead>\n",
       "  <tbody>\n",
       "    <tr>\n",
       "      <th>2013-01-02</th>\n",
       "      <td>0.618569</td>\n",
       "      <td>0.037552</td>\n",
       "    </tr>\n",
       "    <tr>\n",
       "      <th>2013-01-03</th>\n",
       "      <td>0.622823</td>\n",
       "      <td>-0.110476</td>\n",
       "    </tr>\n",
       "    <tr>\n",
       "      <th>2013-01-05</th>\n",
       "      <td>-0.139711</td>\n",
       "      <td>0.082175</td>\n",
       "    </tr>\n",
       "  </tbody>\n",
       "</table>\n",
       "</div>"
      ],
      "text/plain": [
       "                   A         C\n",
       "2013-01-02  0.618569  0.037552\n",
       "2013-01-03  0.622823 -0.110476\n",
       "2013-01-05 -0.139711  0.082175"
      ]
     },
     "execution_count": 28,
     "metadata": {},
     "output_type": "execute_result"
    }
   ],
   "source": [
    "df.iloc[[1,2,4],[0,2]]"
   ]
  },
  {
   "cell_type": "code",
   "execution_count": 29,
   "metadata": {
    "collapsed": false
   },
   "outputs": [
    {
     "data": {
      "text/html": [
       "<div>\n",
       "<table border=\"1\" class=\"dataframe\">\n",
       "  <thead>\n",
       "    <tr style=\"text-align: right;\">\n",
       "      <th></th>\n",
       "      <th>A</th>\n",
       "      <th>B</th>\n",
       "      <th>C</th>\n",
       "      <th>D</th>\n",
       "    </tr>\n",
       "  </thead>\n",
       "  <tbody>\n",
       "    <tr>\n",
       "      <th>2013-01-02</th>\n",
       "      <td>0.618569</td>\n",
       "      <td>0.041230</td>\n",
       "      <td>0.037552</td>\n",
       "      <td>1.023502</td>\n",
       "    </tr>\n",
       "    <tr>\n",
       "      <th>2013-01-03</th>\n",
       "      <td>0.622823</td>\n",
       "      <td>-0.623377</td>\n",
       "      <td>-0.110476</td>\n",
       "      <td>-0.374927</td>\n",
       "    </tr>\n",
       "  </tbody>\n",
       "</table>\n",
       "</div>"
      ],
      "text/plain": [
       "                   A         B         C         D\n",
       "2013-01-02  0.618569  0.041230  0.037552  1.023502\n",
       "2013-01-03  0.622823 -0.623377 -0.110476 -0.374927"
      ]
     },
     "execution_count": 29,
     "metadata": {},
     "output_type": "execute_result"
    }
   ],
   "source": [
    "df.iloc[1:3,:]"
   ]
  },
  {
   "cell_type": "code",
   "execution_count": 30,
   "metadata": {
    "collapsed": false
   },
   "outputs": [
    {
     "data": {
      "text/html": [
       "<div>\n",
       "<table border=\"1\" class=\"dataframe\">\n",
       "  <thead>\n",
       "    <tr style=\"text-align: right;\">\n",
       "      <th></th>\n",
       "      <th>B</th>\n",
       "      <th>C</th>\n",
       "    </tr>\n",
       "  </thead>\n",
       "  <tbody>\n",
       "    <tr>\n",
       "      <th>2013-01-01</th>\n",
       "      <td>0.181070</td>\n",
       "      <td>0.172445</td>\n",
       "    </tr>\n",
       "    <tr>\n",
       "      <th>2013-01-02</th>\n",
       "      <td>0.041230</td>\n",
       "      <td>0.037552</td>\n",
       "    </tr>\n",
       "    <tr>\n",
       "      <th>2013-01-03</th>\n",
       "      <td>-0.623377</td>\n",
       "      <td>-0.110476</td>\n",
       "    </tr>\n",
       "    <tr>\n",
       "      <th>2013-01-04</th>\n",
       "      <td>1.107422</td>\n",
       "      <td>0.443217</td>\n",
       "    </tr>\n",
       "    <tr>\n",
       "      <th>2013-01-05</th>\n",
       "      <td>-1.154465</td>\n",
       "      <td>0.082175</td>\n",
       "    </tr>\n",
       "    <tr>\n",
       "      <th>2013-01-06</th>\n",
       "      <td>0.341404</td>\n",
       "      <td>-1.231877</td>\n",
       "    </tr>\n",
       "  </tbody>\n",
       "</table>\n",
       "</div>"
      ],
      "text/plain": [
       "                   B         C\n",
       "2013-01-01  0.181070  0.172445\n",
       "2013-01-02  0.041230  0.037552\n",
       "2013-01-03 -0.623377 -0.110476\n",
       "2013-01-04  1.107422  0.443217\n",
       "2013-01-05 -1.154465  0.082175\n",
       "2013-01-06  0.341404 -1.231877"
      ]
     },
     "execution_count": 30,
     "metadata": {},
     "output_type": "execute_result"
    }
   ],
   "source": [
    "df.iloc[:,1:3]"
   ]
  },
  {
   "cell_type": "code",
   "execution_count": 31,
   "metadata": {
    "collapsed": false
   },
   "outputs": [
    {
     "data": {
      "text/plain": [
       "0.041229580572947643"
      ]
     },
     "execution_count": 31,
     "metadata": {},
     "output_type": "execute_result"
    }
   ],
   "source": [
    "df.iloc[1,1]"
   ]
  },
  {
   "cell_type": "code",
   "execution_count": 32,
   "metadata": {
    "collapsed": false
   },
   "outputs": [
    {
     "data": {
      "text/plain": [
       "0.041229580572947643"
      ]
     },
     "execution_count": 32,
     "metadata": {},
     "output_type": "execute_result"
    }
   ],
   "source": [
    "df.iat[1,1]"
   ]
  },
  {
   "cell_type": "code",
   "execution_count": 33,
   "metadata": {
    "collapsed": false
   },
   "outputs": [
    {
     "data": {
      "text/html": [
       "<div>\n",
       "<table border=\"1\" class=\"dataframe\">\n",
       "  <thead>\n",
       "    <tr style=\"text-align: right;\">\n",
       "      <th></th>\n",
       "      <th>A</th>\n",
       "      <th>B</th>\n",
       "      <th>C</th>\n",
       "      <th>D</th>\n",
       "    </tr>\n",
       "  </thead>\n",
       "  <tbody>\n",
       "    <tr>\n",
       "      <th>2013-01-01</th>\n",
       "      <td>3.371331</td>\n",
       "      <td>0.181070</td>\n",
       "      <td>0.172445</td>\n",
       "      <td>-1.622486</td>\n",
       "    </tr>\n",
       "    <tr>\n",
       "      <th>2013-01-02</th>\n",
       "      <td>0.618569</td>\n",
       "      <td>0.041230</td>\n",
       "      <td>0.037552</td>\n",
       "      <td>1.023502</td>\n",
       "    </tr>\n",
       "    <tr>\n",
       "      <th>2013-01-03</th>\n",
       "      <td>0.622823</td>\n",
       "      <td>-0.623377</td>\n",
       "      <td>-0.110476</td>\n",
       "      <td>-0.374927</td>\n",
       "    </tr>\n",
       "    <tr>\n",
       "      <th>2013-01-06</th>\n",
       "      <td>1.157053</td>\n",
       "      <td>0.341404</td>\n",
       "      <td>-1.231877</td>\n",
       "      <td>0.504853</td>\n",
       "    </tr>\n",
       "  </tbody>\n",
       "</table>\n",
       "</div>"
      ],
      "text/plain": [
       "                   A         B         C         D\n",
       "2013-01-01  3.371331  0.181070  0.172445 -1.622486\n",
       "2013-01-02  0.618569  0.041230  0.037552  1.023502\n",
       "2013-01-03  0.622823 -0.623377 -0.110476 -0.374927\n",
       "2013-01-06  1.157053  0.341404 -1.231877  0.504853"
      ]
     },
     "execution_count": 33,
     "metadata": {},
     "output_type": "execute_result"
    }
   ],
   "source": [
    "df[df.A>0.3]"
   ]
  },
  {
   "cell_type": "code",
   "execution_count": 34,
   "metadata": {
    "collapsed": false
   },
   "outputs": [
    {
     "data": {
      "text/html": [
       "<div>\n",
       "<table border=\"1\" class=\"dataframe\">\n",
       "  <thead>\n",
       "    <tr style=\"text-align: right;\">\n",
       "      <th></th>\n",
       "      <th>A</th>\n",
       "      <th>B</th>\n",
       "      <th>C</th>\n",
       "      <th>D</th>\n",
       "    </tr>\n",
       "  </thead>\n",
       "  <tbody>\n",
       "    <tr>\n",
       "      <th>2013-01-01</th>\n",
       "      <td>3.371331</td>\n",
       "      <td>0.181070</td>\n",
       "      <td>0.172445</td>\n",
       "      <td>NaN</td>\n",
       "    </tr>\n",
       "    <tr>\n",
       "      <th>2013-01-02</th>\n",
       "      <td>0.618569</td>\n",
       "      <td>0.041230</td>\n",
       "      <td>0.037552</td>\n",
       "      <td>1.023502</td>\n",
       "    </tr>\n",
       "    <tr>\n",
       "      <th>2013-01-03</th>\n",
       "      <td>0.622823</td>\n",
       "      <td>NaN</td>\n",
       "      <td>NaN</td>\n",
       "      <td>NaN</td>\n",
       "    </tr>\n",
       "    <tr>\n",
       "      <th>2013-01-04</th>\n",
       "      <td>NaN</td>\n",
       "      <td>1.107422</td>\n",
       "      <td>0.443217</td>\n",
       "      <td>0.829629</td>\n",
       "    </tr>\n",
       "    <tr>\n",
       "      <th>2013-01-05</th>\n",
       "      <td>NaN</td>\n",
       "      <td>NaN</td>\n",
       "      <td>0.082175</td>\n",
       "      <td>0.438361</td>\n",
       "    </tr>\n",
       "    <tr>\n",
       "      <th>2013-01-06</th>\n",
       "      <td>1.157053</td>\n",
       "      <td>0.341404</td>\n",
       "      <td>NaN</td>\n",
       "      <td>0.504853</td>\n",
       "    </tr>\n",
       "  </tbody>\n",
       "</table>\n",
       "</div>"
      ],
      "text/plain": [
       "                   A         B         C         D\n",
       "2013-01-01  3.371331  0.181070  0.172445       NaN\n",
       "2013-01-02  0.618569  0.041230  0.037552  1.023502\n",
       "2013-01-03  0.622823       NaN       NaN       NaN\n",
       "2013-01-04       NaN  1.107422  0.443217  0.829629\n",
       "2013-01-05       NaN       NaN  0.082175  0.438361\n",
       "2013-01-06  1.157053  0.341404       NaN  0.504853"
      ]
     },
     "execution_count": 34,
     "metadata": {},
     "output_type": "execute_result"
    }
   ],
   "source": [
    "df[df>0]"
   ]
  },
  {
   "cell_type": "code",
   "execution_count": 35,
   "metadata": {
    "collapsed": false
   },
   "outputs": [
    {
     "data": {
      "text/html": [
       "<div>\n",
       "<table border=\"1\" class=\"dataframe\">\n",
       "  <thead>\n",
       "    <tr style=\"text-align: right;\">\n",
       "      <th></th>\n",
       "      <th>A</th>\n",
       "      <th>B</th>\n",
       "      <th>C</th>\n",
       "      <th>D</th>\n",
       "      <th>E</th>\n",
       "    </tr>\n",
       "  </thead>\n",
       "  <tbody>\n",
       "    <tr>\n",
       "      <th>2013-01-01</th>\n",
       "      <td>3.371331</td>\n",
       "      <td>0.181070</td>\n",
       "      <td>0.172445</td>\n",
       "      <td>-1.622486</td>\n",
       "      <td>one</td>\n",
       "    </tr>\n",
       "    <tr>\n",
       "      <th>2013-01-02</th>\n",
       "      <td>0.618569</td>\n",
       "      <td>0.041230</td>\n",
       "      <td>0.037552</td>\n",
       "      <td>1.023502</td>\n",
       "      <td>one</td>\n",
       "    </tr>\n",
       "    <tr>\n",
       "      <th>2013-01-03</th>\n",
       "      <td>0.622823</td>\n",
       "      <td>-0.623377</td>\n",
       "      <td>-0.110476</td>\n",
       "      <td>-0.374927</td>\n",
       "      <td>two</td>\n",
       "    </tr>\n",
       "    <tr>\n",
       "      <th>2013-01-04</th>\n",
       "      <td>-1.416661</td>\n",
       "      <td>1.107422</td>\n",
       "      <td>0.443217</td>\n",
       "      <td>0.829629</td>\n",
       "      <td>three</td>\n",
       "    </tr>\n",
       "    <tr>\n",
       "      <th>2013-01-05</th>\n",
       "      <td>-0.139711</td>\n",
       "      <td>-1.154465</td>\n",
       "      <td>0.082175</td>\n",
       "      <td>0.438361</td>\n",
       "      <td>four</td>\n",
       "    </tr>\n",
       "    <tr>\n",
       "      <th>2013-01-06</th>\n",
       "      <td>1.157053</td>\n",
       "      <td>0.341404</td>\n",
       "      <td>-1.231877</td>\n",
       "      <td>0.504853</td>\n",
       "      <td>three</td>\n",
       "    </tr>\n",
       "  </tbody>\n",
       "</table>\n",
       "</div>"
      ],
      "text/plain": [
       "                   A         B         C         D      E\n",
       "2013-01-01  3.371331  0.181070  0.172445 -1.622486    one\n",
       "2013-01-02  0.618569  0.041230  0.037552  1.023502    one\n",
       "2013-01-03  0.622823 -0.623377 -0.110476 -0.374927    two\n",
       "2013-01-04 -1.416661  1.107422  0.443217  0.829629  three\n",
       "2013-01-05 -0.139711 -1.154465  0.082175  0.438361   four\n",
       "2013-01-06  1.157053  0.341404 -1.231877  0.504853  three"
      ]
     },
     "execution_count": 35,
     "metadata": {},
     "output_type": "execute_result"
    }
   ],
   "source": [
    "df2=df.copy()\n",
    "df2['E']=['one', 'one', 'two', 'three', 'four','three']\n",
    "df2"
   ]
  },
  {
   "cell_type": "code",
   "execution_count": 36,
   "metadata": {
    "collapsed": false
   },
   "outputs": [
    {
     "data": {
      "text/html": [
       "<div>\n",
       "<table border=\"1\" class=\"dataframe\">\n",
       "  <thead>\n",
       "    <tr style=\"text-align: right;\">\n",
       "      <th></th>\n",
       "      <th>A</th>\n",
       "      <th>B</th>\n",
       "      <th>C</th>\n",
       "      <th>D</th>\n",
       "      <th>E</th>\n",
       "    </tr>\n",
       "  </thead>\n",
       "  <tbody>\n",
       "    <tr>\n",
       "      <th>2013-01-03</th>\n",
       "      <td>0.622823</td>\n",
       "      <td>-0.623377</td>\n",
       "      <td>-0.110476</td>\n",
       "      <td>-0.374927</td>\n",
       "      <td>two</td>\n",
       "    </tr>\n",
       "    <tr>\n",
       "      <th>2013-01-05</th>\n",
       "      <td>-0.139711</td>\n",
       "      <td>-1.154465</td>\n",
       "      <td>0.082175</td>\n",
       "      <td>0.438361</td>\n",
       "      <td>four</td>\n",
       "    </tr>\n",
       "  </tbody>\n",
       "</table>\n",
       "</div>"
      ],
      "text/plain": [
       "                   A         B         C         D     E\n",
       "2013-01-03  0.622823 -0.623377 -0.110476 -0.374927   two\n",
       "2013-01-05 -0.139711 -1.154465  0.082175  0.438361  four"
      ]
     },
     "execution_count": 36,
     "metadata": {},
     "output_type": "execute_result"
    }
   ],
   "source": [
    "df2[df2['E'].isin(['two','four'])]"
   ]
  },
  {
   "cell_type": "code",
   "execution_count": 37,
   "metadata": {
    "collapsed": false
   },
   "outputs": [
    {
     "data": {
      "text/plain": [
       "2013-01-02    1\n",
       "2013-01-03    2\n",
       "2013-01-04    3\n",
       "2013-01-05    4\n",
       "2013-01-06    5\n",
       "2013-01-07    6\n",
       "Freq: D, dtype: int64"
      ]
     },
     "execution_count": 37,
     "metadata": {},
     "output_type": "execute_result"
    }
   ],
   "source": [
    "s1=pd.Series([1,2,3,4,5,6], index=pd.date_range('20130102',periods=6))\n",
    "s1"
   ]
  },
  {
   "cell_type": "code",
   "execution_count": 38,
   "metadata": {
    "collapsed": false
   },
   "outputs": [
    {
     "data": {
      "text/html": [
       "<div>\n",
       "<table border=\"1\" class=\"dataframe\">\n",
       "  <thead>\n",
       "    <tr style=\"text-align: right;\">\n",
       "      <th></th>\n",
       "      <th>A</th>\n",
       "      <th>B</th>\n",
       "      <th>C</th>\n",
       "      <th>D</th>\n",
       "      <th>F</th>\n",
       "    </tr>\n",
       "  </thead>\n",
       "  <tbody>\n",
       "    <tr>\n",
       "      <th>2013-01-01</th>\n",
       "      <td>3.371331</td>\n",
       "      <td>0.181070</td>\n",
       "      <td>0.172445</td>\n",
       "      <td>-1.622486</td>\n",
       "      <td>NaN</td>\n",
       "    </tr>\n",
       "    <tr>\n",
       "      <th>2013-01-02</th>\n",
       "      <td>0.618569</td>\n",
       "      <td>0.041230</td>\n",
       "      <td>0.037552</td>\n",
       "      <td>1.023502</td>\n",
       "      <td>1.0</td>\n",
       "    </tr>\n",
       "    <tr>\n",
       "      <th>2013-01-03</th>\n",
       "      <td>0.622823</td>\n",
       "      <td>-0.623377</td>\n",
       "      <td>-0.110476</td>\n",
       "      <td>-0.374927</td>\n",
       "      <td>2.0</td>\n",
       "    </tr>\n",
       "    <tr>\n",
       "      <th>2013-01-04</th>\n",
       "      <td>-1.416661</td>\n",
       "      <td>1.107422</td>\n",
       "      <td>0.443217</td>\n",
       "      <td>0.829629</td>\n",
       "      <td>3.0</td>\n",
       "    </tr>\n",
       "    <tr>\n",
       "      <th>2013-01-05</th>\n",
       "      <td>-0.139711</td>\n",
       "      <td>-1.154465</td>\n",
       "      <td>0.082175</td>\n",
       "      <td>0.438361</td>\n",
       "      <td>4.0</td>\n",
       "    </tr>\n",
       "    <tr>\n",
       "      <th>2013-01-06</th>\n",
       "      <td>1.157053</td>\n",
       "      <td>0.341404</td>\n",
       "      <td>-1.231877</td>\n",
       "      <td>0.504853</td>\n",
       "      <td>5.0</td>\n",
       "    </tr>\n",
       "  </tbody>\n",
       "</table>\n",
       "</div>"
      ],
      "text/plain": [
       "                   A         B         C         D    F\n",
       "2013-01-01  3.371331  0.181070  0.172445 -1.622486  NaN\n",
       "2013-01-02  0.618569  0.041230  0.037552  1.023502  1.0\n",
       "2013-01-03  0.622823 -0.623377 -0.110476 -0.374927  2.0\n",
       "2013-01-04 -1.416661  1.107422  0.443217  0.829629  3.0\n",
       "2013-01-05 -0.139711 -1.154465  0.082175  0.438361  4.0\n",
       "2013-01-06  1.157053  0.341404 -1.231877  0.504853  5.0"
      ]
     },
     "execution_count": 38,
     "metadata": {},
     "output_type": "execute_result"
    }
   ],
   "source": [
    "df['F']=s1\n",
    "df"
   ]
  },
  {
   "cell_type": "code",
   "execution_count": 39,
   "metadata": {
    "collapsed": false
   },
   "outputs": [
    {
     "data": {
      "text/html": [
       "<div>\n",
       "<table border=\"1\" class=\"dataframe\">\n",
       "  <thead>\n",
       "    <tr style=\"text-align: right;\">\n",
       "      <th></th>\n",
       "      <th>A</th>\n",
       "      <th>B</th>\n",
       "      <th>C</th>\n",
       "      <th>D</th>\n",
       "      <th>F</th>\n",
       "    </tr>\n",
       "  </thead>\n",
       "  <tbody>\n",
       "    <tr>\n",
       "      <th>2013-01-01</th>\n",
       "      <td>0.000000</td>\n",
       "      <td>0.181070</td>\n",
       "      <td>0.172445</td>\n",
       "      <td>-1.622486</td>\n",
       "      <td>NaN</td>\n",
       "    </tr>\n",
       "    <tr>\n",
       "      <th>2013-01-02</th>\n",
       "      <td>0.618569</td>\n",
       "      <td>0.041230</td>\n",
       "      <td>0.037552</td>\n",
       "      <td>1.023502</td>\n",
       "      <td>1.0</td>\n",
       "    </tr>\n",
       "    <tr>\n",
       "      <th>2013-01-03</th>\n",
       "      <td>0.622823</td>\n",
       "      <td>-0.623377</td>\n",
       "      <td>-0.110476</td>\n",
       "      <td>-0.374927</td>\n",
       "      <td>2.0</td>\n",
       "    </tr>\n",
       "    <tr>\n",
       "      <th>2013-01-04</th>\n",
       "      <td>-1.416661</td>\n",
       "      <td>1.107422</td>\n",
       "      <td>0.443217</td>\n",
       "      <td>0.829629</td>\n",
       "      <td>3.0</td>\n",
       "    </tr>\n",
       "    <tr>\n",
       "      <th>2013-01-05</th>\n",
       "      <td>-0.139711</td>\n",
       "      <td>-1.154465</td>\n",
       "      <td>0.082175</td>\n",
       "      <td>0.438361</td>\n",
       "      <td>4.0</td>\n",
       "    </tr>\n",
       "    <tr>\n",
       "      <th>2013-01-06</th>\n",
       "      <td>1.157053</td>\n",
       "      <td>0.341404</td>\n",
       "      <td>-1.231877</td>\n",
       "      <td>0.504853</td>\n",
       "      <td>5.0</td>\n",
       "    </tr>\n",
       "  </tbody>\n",
       "</table>\n",
       "</div>"
      ],
      "text/plain": [
       "                   A         B         C         D    F\n",
       "2013-01-01  0.000000  0.181070  0.172445 -1.622486  NaN\n",
       "2013-01-02  0.618569  0.041230  0.037552  1.023502  1.0\n",
       "2013-01-03  0.622823 -0.623377 -0.110476 -0.374927  2.0\n",
       "2013-01-04 -1.416661  1.107422  0.443217  0.829629  3.0\n",
       "2013-01-05 -0.139711 -1.154465  0.082175  0.438361  4.0\n",
       "2013-01-06  1.157053  0.341404 -1.231877  0.504853  5.0"
      ]
     },
     "execution_count": 39,
     "metadata": {},
     "output_type": "execute_result"
    }
   ],
   "source": [
    "df.at[dates[0],'A']=0\n",
    "df"
   ]
  },
  {
   "cell_type": "code",
   "execution_count": 40,
   "metadata": {
    "collapsed": false
   },
   "outputs": [
    {
     "data": {
      "text/html": [
       "<div>\n",
       "<table border=\"1\" class=\"dataframe\">\n",
       "  <thead>\n",
       "    <tr style=\"text-align: right;\">\n",
       "      <th></th>\n",
       "      <th>A</th>\n",
       "      <th>B</th>\n",
       "      <th>C</th>\n",
       "      <th>D</th>\n",
       "      <th>F</th>\n",
       "    </tr>\n",
       "  </thead>\n",
       "  <tbody>\n",
       "    <tr>\n",
       "      <th>2013-01-01</th>\n",
       "      <td>0.000000</td>\n",
       "      <td>0.000000</td>\n",
       "      <td>0.172445</td>\n",
       "      <td>-1.622486</td>\n",
       "      <td>NaN</td>\n",
       "    </tr>\n",
       "    <tr>\n",
       "      <th>2013-01-02</th>\n",
       "      <td>0.618569</td>\n",
       "      <td>0.041230</td>\n",
       "      <td>0.037552</td>\n",
       "      <td>1.023502</td>\n",
       "      <td>1.0</td>\n",
       "    </tr>\n",
       "    <tr>\n",
       "      <th>2013-01-03</th>\n",
       "      <td>0.622823</td>\n",
       "      <td>-0.623377</td>\n",
       "      <td>-0.110476</td>\n",
       "      <td>-0.374927</td>\n",
       "      <td>2.0</td>\n",
       "    </tr>\n",
       "    <tr>\n",
       "      <th>2013-01-04</th>\n",
       "      <td>-1.416661</td>\n",
       "      <td>1.107422</td>\n",
       "      <td>0.443217</td>\n",
       "      <td>0.829629</td>\n",
       "      <td>3.0</td>\n",
       "    </tr>\n",
       "    <tr>\n",
       "      <th>2013-01-05</th>\n",
       "      <td>-0.139711</td>\n",
       "      <td>-1.154465</td>\n",
       "      <td>0.082175</td>\n",
       "      <td>0.438361</td>\n",
       "      <td>4.0</td>\n",
       "    </tr>\n",
       "    <tr>\n",
       "      <th>2013-01-06</th>\n",
       "      <td>1.157053</td>\n",
       "      <td>0.341404</td>\n",
       "      <td>-1.231877</td>\n",
       "      <td>0.504853</td>\n",
       "      <td>5.0</td>\n",
       "    </tr>\n",
       "  </tbody>\n",
       "</table>\n",
       "</div>"
      ],
      "text/plain": [
       "                   A         B         C         D    F\n",
       "2013-01-01  0.000000  0.000000  0.172445 -1.622486  NaN\n",
       "2013-01-02  0.618569  0.041230  0.037552  1.023502  1.0\n",
       "2013-01-03  0.622823 -0.623377 -0.110476 -0.374927  2.0\n",
       "2013-01-04 -1.416661  1.107422  0.443217  0.829629  3.0\n",
       "2013-01-05 -0.139711 -1.154465  0.082175  0.438361  4.0\n",
       "2013-01-06  1.157053  0.341404 -1.231877  0.504853  5.0"
      ]
     },
     "execution_count": 40,
     "metadata": {},
     "output_type": "execute_result"
    }
   ],
   "source": [
    "df.iat[0,1]=0\n",
    "df"
   ]
  },
  {
   "cell_type": "code",
   "execution_count": 41,
   "metadata": {
    "collapsed": false
   },
   "outputs": [
    {
     "data": {
      "text/html": [
       "<div>\n",
       "<table border=\"1\" class=\"dataframe\">\n",
       "  <thead>\n",
       "    <tr style=\"text-align: right;\">\n",
       "      <th></th>\n",
       "      <th>A</th>\n",
       "      <th>B</th>\n",
       "      <th>C</th>\n",
       "      <th>D</th>\n",
       "      <th>F</th>\n",
       "    </tr>\n",
       "  </thead>\n",
       "  <tbody>\n",
       "    <tr>\n",
       "      <th>2013-01-01</th>\n",
       "      <td>0.000000</td>\n",
       "      <td>0.000000</td>\n",
       "      <td>0.172445</td>\n",
       "      <td>5</td>\n",
       "      <td>NaN</td>\n",
       "    </tr>\n",
       "    <tr>\n",
       "      <th>2013-01-02</th>\n",
       "      <td>0.618569</td>\n",
       "      <td>0.041230</td>\n",
       "      <td>0.037552</td>\n",
       "      <td>5</td>\n",
       "      <td>1.0</td>\n",
       "    </tr>\n",
       "    <tr>\n",
       "      <th>2013-01-03</th>\n",
       "      <td>0.622823</td>\n",
       "      <td>-0.623377</td>\n",
       "      <td>-0.110476</td>\n",
       "      <td>5</td>\n",
       "      <td>2.0</td>\n",
       "    </tr>\n",
       "    <tr>\n",
       "      <th>2013-01-04</th>\n",
       "      <td>-1.416661</td>\n",
       "      <td>1.107422</td>\n",
       "      <td>0.443217</td>\n",
       "      <td>5</td>\n",
       "      <td>3.0</td>\n",
       "    </tr>\n",
       "    <tr>\n",
       "      <th>2013-01-05</th>\n",
       "      <td>-0.139711</td>\n",
       "      <td>-1.154465</td>\n",
       "      <td>0.082175</td>\n",
       "      <td>5</td>\n",
       "      <td>4.0</td>\n",
       "    </tr>\n",
       "    <tr>\n",
       "      <th>2013-01-06</th>\n",
       "      <td>1.157053</td>\n",
       "      <td>0.341404</td>\n",
       "      <td>-1.231877</td>\n",
       "      <td>5</td>\n",
       "      <td>5.0</td>\n",
       "    </tr>\n",
       "  </tbody>\n",
       "</table>\n",
       "</div>"
      ],
      "text/plain": [
       "                   A         B         C  D    F\n",
       "2013-01-01  0.000000  0.000000  0.172445  5  NaN\n",
       "2013-01-02  0.618569  0.041230  0.037552  5  1.0\n",
       "2013-01-03  0.622823 -0.623377 -0.110476  5  2.0\n",
       "2013-01-04 -1.416661  1.107422  0.443217  5  3.0\n",
       "2013-01-05 -0.139711 -1.154465  0.082175  5  4.0\n",
       "2013-01-06  1.157053  0.341404 -1.231877  5  5.0"
      ]
     },
     "execution_count": 41,
     "metadata": {},
     "output_type": "execute_result"
    }
   ],
   "source": [
    "df.loc[:,'D']=np.array([5]*len(df))\n",
    "df"
   ]
  },
  {
   "cell_type": "code",
   "execution_count": 42,
   "metadata": {
    "collapsed": false
   },
   "outputs": [
    {
     "data": {
      "text/html": [
       "<div>\n",
       "<table border=\"1\" class=\"dataframe\">\n",
       "  <thead>\n",
       "    <tr style=\"text-align: right;\">\n",
       "      <th></th>\n",
       "      <th>A</th>\n",
       "      <th>B</th>\n",
       "      <th>C</th>\n",
       "      <th>D</th>\n",
       "      <th>F</th>\n",
       "    </tr>\n",
       "  </thead>\n",
       "  <tbody>\n",
       "    <tr>\n",
       "      <th>2013-01-01</th>\n",
       "      <td>0.000000</td>\n",
       "      <td>0.000000</td>\n",
       "      <td>-0.172445</td>\n",
       "      <td>-5</td>\n",
       "      <td>NaN</td>\n",
       "    </tr>\n",
       "    <tr>\n",
       "      <th>2013-01-02</th>\n",
       "      <td>-0.618569</td>\n",
       "      <td>-0.041230</td>\n",
       "      <td>-0.037552</td>\n",
       "      <td>-5</td>\n",
       "      <td>-1.0</td>\n",
       "    </tr>\n",
       "    <tr>\n",
       "      <th>2013-01-03</th>\n",
       "      <td>-0.622823</td>\n",
       "      <td>-0.623377</td>\n",
       "      <td>-0.110476</td>\n",
       "      <td>-5</td>\n",
       "      <td>-2.0</td>\n",
       "    </tr>\n",
       "    <tr>\n",
       "      <th>2013-01-04</th>\n",
       "      <td>-1.416661</td>\n",
       "      <td>-1.107422</td>\n",
       "      <td>-0.443217</td>\n",
       "      <td>-5</td>\n",
       "      <td>-3.0</td>\n",
       "    </tr>\n",
       "    <tr>\n",
       "      <th>2013-01-05</th>\n",
       "      <td>-0.139711</td>\n",
       "      <td>-1.154465</td>\n",
       "      <td>-0.082175</td>\n",
       "      <td>-5</td>\n",
       "      <td>-4.0</td>\n",
       "    </tr>\n",
       "    <tr>\n",
       "      <th>2013-01-06</th>\n",
       "      <td>-1.157053</td>\n",
       "      <td>-0.341404</td>\n",
       "      <td>-1.231877</td>\n",
       "      <td>-5</td>\n",
       "      <td>-5.0</td>\n",
       "    </tr>\n",
       "  </tbody>\n",
       "</table>\n",
       "</div>"
      ],
      "text/plain": [
       "                   A         B         C  D    F\n",
       "2013-01-01  0.000000  0.000000 -0.172445 -5  NaN\n",
       "2013-01-02 -0.618569 -0.041230 -0.037552 -5 -1.0\n",
       "2013-01-03 -0.622823 -0.623377 -0.110476 -5 -2.0\n",
       "2013-01-04 -1.416661 -1.107422 -0.443217 -5 -3.0\n",
       "2013-01-05 -0.139711 -1.154465 -0.082175 -5 -4.0\n",
       "2013-01-06 -1.157053 -0.341404 -1.231877 -5 -5.0"
      ]
     },
     "execution_count": 42,
     "metadata": {},
     "output_type": "execute_result"
    }
   ],
   "source": [
    "df2=df.copy()\n",
    "df2[df2>0]=-df2\n",
    "df2"
   ]
  },
  {
   "cell_type": "code",
   "execution_count": 43,
   "metadata": {
    "collapsed": false
   },
   "outputs": [
    {
     "data": {
      "text/html": [
       "<div>\n",
       "<table border=\"1\" class=\"dataframe\">\n",
       "  <thead>\n",
       "    <tr style=\"text-align: right;\">\n",
       "      <th></th>\n",
       "      <th>A</th>\n",
       "      <th>B</th>\n",
       "      <th>C</th>\n",
       "      <th>D</th>\n",
       "      <th>F</th>\n",
       "    </tr>\n",
       "  </thead>\n",
       "  <tbody>\n",
       "    <tr>\n",
       "      <th>2013-01-01</th>\n",
       "      <td>0.000000</td>\n",
       "      <td>0.000000</td>\n",
       "      <td>0.172445</td>\n",
       "      <td>5</td>\n",
       "      <td>NaN</td>\n",
       "    </tr>\n",
       "    <tr>\n",
       "      <th>2013-01-02</th>\n",
       "      <td>0.618569</td>\n",
       "      <td>0.041230</td>\n",
       "      <td>0.037552</td>\n",
       "      <td>5</td>\n",
       "      <td>1.0</td>\n",
       "    </tr>\n",
       "    <tr>\n",
       "      <th>2013-01-03</th>\n",
       "      <td>0.622823</td>\n",
       "      <td>-0.623377</td>\n",
       "      <td>-0.110476</td>\n",
       "      <td>5</td>\n",
       "      <td>2.0</td>\n",
       "    </tr>\n",
       "    <tr>\n",
       "      <th>2013-01-04</th>\n",
       "      <td>-1.416661</td>\n",
       "      <td>1.107422</td>\n",
       "      <td>0.443217</td>\n",
       "      <td>5</td>\n",
       "      <td>3.0</td>\n",
       "    </tr>\n",
       "    <tr>\n",
       "      <th>2013-01-05</th>\n",
       "      <td>-0.139711</td>\n",
       "      <td>-1.154465</td>\n",
       "      <td>0.082175</td>\n",
       "      <td>5</td>\n",
       "      <td>4.0</td>\n",
       "    </tr>\n",
       "    <tr>\n",
       "      <th>2013-01-06</th>\n",
       "      <td>1.157053</td>\n",
       "      <td>0.341404</td>\n",
       "      <td>-1.231877</td>\n",
       "      <td>5</td>\n",
       "      <td>5.0</td>\n",
       "    </tr>\n",
       "  </tbody>\n",
       "</table>\n",
       "</div>"
      ],
      "text/plain": [
       "                   A         B         C  D    F\n",
       "2013-01-01  0.000000  0.000000  0.172445  5  NaN\n",
       "2013-01-02  0.618569  0.041230  0.037552  5  1.0\n",
       "2013-01-03  0.622823 -0.623377 -0.110476  5  2.0\n",
       "2013-01-04 -1.416661  1.107422  0.443217  5  3.0\n",
       "2013-01-05 -0.139711 -1.154465  0.082175  5  4.0\n",
       "2013-01-06  1.157053  0.341404 -1.231877  5  5.0"
      ]
     },
     "execution_count": 43,
     "metadata": {},
     "output_type": "execute_result"
    }
   ],
   "source": [
    "df"
   ]
  },
  {
   "cell_type": "code",
   "execution_count": 44,
   "metadata": {
    "collapsed": false
   },
   "outputs": [
    {
     "data": {
      "text/html": [
       "<div>\n",
       "<table border=\"1\" class=\"dataframe\">\n",
       "  <thead>\n",
       "    <tr style=\"text-align: right;\">\n",
       "      <th></th>\n",
       "      <th>A</th>\n",
       "      <th>B</th>\n",
       "      <th>C</th>\n",
       "      <th>D</th>\n",
       "      <th>F</th>\n",
       "      <th>E</th>\n",
       "    </tr>\n",
       "  </thead>\n",
       "  <tbody>\n",
       "    <tr>\n",
       "      <th>2013-01-01</th>\n",
       "      <td>0.000000</td>\n",
       "      <td>0.000000</td>\n",
       "      <td>0.172445</td>\n",
       "      <td>5</td>\n",
       "      <td>NaN</td>\n",
       "      <td>1.0</td>\n",
       "    </tr>\n",
       "    <tr>\n",
       "      <th>2013-01-02</th>\n",
       "      <td>0.618569</td>\n",
       "      <td>0.041230</td>\n",
       "      <td>0.037552</td>\n",
       "      <td>5</td>\n",
       "      <td>1.0</td>\n",
       "      <td>1.0</td>\n",
       "    </tr>\n",
       "    <tr>\n",
       "      <th>2013-01-03</th>\n",
       "      <td>0.622823</td>\n",
       "      <td>-0.623377</td>\n",
       "      <td>-0.110476</td>\n",
       "      <td>5</td>\n",
       "      <td>2.0</td>\n",
       "      <td>NaN</td>\n",
       "    </tr>\n",
       "    <tr>\n",
       "      <th>2013-01-04</th>\n",
       "      <td>-1.416661</td>\n",
       "      <td>1.107422</td>\n",
       "      <td>0.443217</td>\n",
       "      <td>5</td>\n",
       "      <td>3.0</td>\n",
       "      <td>NaN</td>\n",
       "    </tr>\n",
       "  </tbody>\n",
       "</table>\n",
       "</div>"
      ],
      "text/plain": [
       "                   A         B         C  D    F    E\n",
       "2013-01-01  0.000000  0.000000  0.172445  5  NaN  1.0\n",
       "2013-01-02  0.618569  0.041230  0.037552  5  1.0  1.0\n",
       "2013-01-03  0.622823 -0.623377 -0.110476  5  2.0  NaN\n",
       "2013-01-04 -1.416661  1.107422  0.443217  5  3.0  NaN"
      ]
     },
     "execution_count": 44,
     "metadata": {},
     "output_type": "execute_result"
    }
   ],
   "source": [
    "df1=df.reindex(index=dates[0:4], columns=list(df.columns)+['E'])\n",
    "df1.loc[dates[0]:dates[1],'E']=1\n",
    "df1"
   ]
  },
  {
   "cell_type": "code",
   "execution_count": 45,
   "metadata": {
    "collapsed": false
   },
   "outputs": [
    {
     "data": {
      "text/html": [
       "<div>\n",
       "<table border=\"1\" class=\"dataframe\">\n",
       "  <thead>\n",
       "    <tr style=\"text-align: right;\">\n",
       "      <th></th>\n",
       "      <th>A</th>\n",
       "      <th>B</th>\n",
       "      <th>C</th>\n",
       "      <th>D</th>\n",
       "      <th>F</th>\n",
       "      <th>E</th>\n",
       "    </tr>\n",
       "  </thead>\n",
       "  <tbody>\n",
       "    <tr>\n",
       "      <th>2013-01-02</th>\n",
       "      <td>0.618569</td>\n",
       "      <td>0.04123</td>\n",
       "      <td>0.037552</td>\n",
       "      <td>5</td>\n",
       "      <td>1.0</td>\n",
       "      <td>1.0</td>\n",
       "    </tr>\n",
       "  </tbody>\n",
       "</table>\n",
       "</div>"
      ],
      "text/plain": [
       "                   A        B         C  D    F    E\n",
       "2013-01-02  0.618569  0.04123  0.037552  5  1.0  1.0"
      ]
     },
     "execution_count": 45,
     "metadata": {},
     "output_type": "execute_result"
    }
   ],
   "source": [
    "df1.dropna(how='any')"
   ]
  },
  {
   "cell_type": "code",
   "execution_count": 46,
   "metadata": {
    "collapsed": false
   },
   "outputs": [
    {
     "data": {
      "text/html": [
       "<div>\n",
       "<table border=\"1\" class=\"dataframe\">\n",
       "  <thead>\n",
       "    <tr style=\"text-align: right;\">\n",
       "      <th></th>\n",
       "      <th>A</th>\n",
       "      <th>B</th>\n",
       "      <th>C</th>\n",
       "      <th>D</th>\n",
       "      <th>F</th>\n",
       "      <th>E</th>\n",
       "    </tr>\n",
       "  </thead>\n",
       "  <tbody>\n",
       "    <tr>\n",
       "      <th>2013-01-01</th>\n",
       "      <td>0.000000</td>\n",
       "      <td>0.000000</td>\n",
       "      <td>0.172445</td>\n",
       "      <td>5</td>\n",
       "      <td>5.0</td>\n",
       "      <td>1.0</td>\n",
       "    </tr>\n",
       "    <tr>\n",
       "      <th>2013-01-02</th>\n",
       "      <td>0.618569</td>\n",
       "      <td>0.041230</td>\n",
       "      <td>0.037552</td>\n",
       "      <td>5</td>\n",
       "      <td>1.0</td>\n",
       "      <td>1.0</td>\n",
       "    </tr>\n",
       "    <tr>\n",
       "      <th>2013-01-03</th>\n",
       "      <td>0.622823</td>\n",
       "      <td>-0.623377</td>\n",
       "      <td>-0.110476</td>\n",
       "      <td>5</td>\n",
       "      <td>2.0</td>\n",
       "      <td>5.0</td>\n",
       "    </tr>\n",
       "    <tr>\n",
       "      <th>2013-01-04</th>\n",
       "      <td>-1.416661</td>\n",
       "      <td>1.107422</td>\n",
       "      <td>0.443217</td>\n",
       "      <td>5</td>\n",
       "      <td>3.0</td>\n",
       "      <td>5.0</td>\n",
       "    </tr>\n",
       "  </tbody>\n",
       "</table>\n",
       "</div>"
      ],
      "text/plain": [
       "                   A         B         C  D    F    E\n",
       "2013-01-01  0.000000  0.000000  0.172445  5  5.0  1.0\n",
       "2013-01-02  0.618569  0.041230  0.037552  5  1.0  1.0\n",
       "2013-01-03  0.622823 -0.623377 -0.110476  5  2.0  5.0\n",
       "2013-01-04 -1.416661  1.107422  0.443217  5  3.0  5.0"
      ]
     },
     "execution_count": 46,
     "metadata": {},
     "output_type": "execute_result"
    }
   ],
   "source": [
    "df1.fillna(value=5)"
   ]
  },
  {
   "cell_type": "code",
   "execution_count": 47,
   "metadata": {
    "collapsed": false
   },
   "outputs": [
    {
     "data": {
      "text/html": [
       "<div>\n",
       "<table border=\"1\" class=\"dataframe\">\n",
       "  <thead>\n",
       "    <tr style=\"text-align: right;\">\n",
       "      <th></th>\n",
       "      <th>A</th>\n",
       "      <th>B</th>\n",
       "      <th>C</th>\n",
       "      <th>D</th>\n",
       "      <th>F</th>\n",
       "      <th>E</th>\n",
       "    </tr>\n",
       "  </thead>\n",
       "  <tbody>\n",
       "    <tr>\n",
       "      <th>2013-01-01</th>\n",
       "      <td>False</td>\n",
       "      <td>False</td>\n",
       "      <td>False</td>\n",
       "      <td>False</td>\n",
       "      <td>True</td>\n",
       "      <td>False</td>\n",
       "    </tr>\n",
       "    <tr>\n",
       "      <th>2013-01-02</th>\n",
       "      <td>False</td>\n",
       "      <td>False</td>\n",
       "      <td>False</td>\n",
       "      <td>False</td>\n",
       "      <td>False</td>\n",
       "      <td>False</td>\n",
       "    </tr>\n",
       "    <tr>\n",
       "      <th>2013-01-03</th>\n",
       "      <td>False</td>\n",
       "      <td>False</td>\n",
       "      <td>False</td>\n",
       "      <td>False</td>\n",
       "      <td>False</td>\n",
       "      <td>True</td>\n",
       "    </tr>\n",
       "    <tr>\n",
       "      <th>2013-01-04</th>\n",
       "      <td>False</td>\n",
       "      <td>False</td>\n",
       "      <td>False</td>\n",
       "      <td>False</td>\n",
       "      <td>False</td>\n",
       "      <td>True</td>\n",
       "    </tr>\n",
       "  </tbody>\n",
       "</table>\n",
       "</div>"
      ],
      "text/plain": [
       "                A      B      C      D      F      E\n",
       "2013-01-01  False  False  False  False   True  False\n",
       "2013-01-02  False  False  False  False  False  False\n",
       "2013-01-03  False  False  False  False  False   True\n",
       "2013-01-04  False  False  False  False  False   True"
      ]
     },
     "execution_count": 47,
     "metadata": {},
     "output_type": "execute_result"
    }
   ],
   "source": [
    "pd.isnull(df1)"
   ]
  },
  {
   "cell_type": "code",
   "execution_count": 48,
   "metadata": {
    "collapsed": false
   },
   "outputs": [
    {
     "data": {
      "text/html": [
       "<div>\n",
       "<table border=\"1\" class=\"dataframe\">\n",
       "  <thead>\n",
       "    <tr style=\"text-align: right;\">\n",
       "      <th></th>\n",
       "      <th>A</th>\n",
       "      <th>B</th>\n",
       "      <th>C</th>\n",
       "      <th>D</th>\n",
       "      <th>F</th>\n",
       "    </tr>\n",
       "  </thead>\n",
       "  <tbody>\n",
       "    <tr>\n",
       "      <th>2013-01-01</th>\n",
       "      <td>0.000000</td>\n",
       "      <td>0.000000</td>\n",
       "      <td>0.172445</td>\n",
       "      <td>5</td>\n",
       "      <td>NaN</td>\n",
       "    </tr>\n",
       "    <tr>\n",
       "      <th>2013-01-02</th>\n",
       "      <td>0.618569</td>\n",
       "      <td>0.041230</td>\n",
       "      <td>0.037552</td>\n",
       "      <td>5</td>\n",
       "      <td>1.0</td>\n",
       "    </tr>\n",
       "    <tr>\n",
       "      <th>2013-01-03</th>\n",
       "      <td>0.622823</td>\n",
       "      <td>-0.623377</td>\n",
       "      <td>-0.110476</td>\n",
       "      <td>5</td>\n",
       "      <td>2.0</td>\n",
       "    </tr>\n",
       "    <tr>\n",
       "      <th>2013-01-04</th>\n",
       "      <td>-1.416661</td>\n",
       "      <td>1.107422</td>\n",
       "      <td>0.443217</td>\n",
       "      <td>5</td>\n",
       "      <td>3.0</td>\n",
       "    </tr>\n",
       "    <tr>\n",
       "      <th>2013-01-05</th>\n",
       "      <td>-0.139711</td>\n",
       "      <td>-1.154465</td>\n",
       "      <td>0.082175</td>\n",
       "      <td>5</td>\n",
       "      <td>4.0</td>\n",
       "    </tr>\n",
       "    <tr>\n",
       "      <th>2013-01-06</th>\n",
       "      <td>1.157053</td>\n",
       "      <td>0.341404</td>\n",
       "      <td>-1.231877</td>\n",
       "      <td>5</td>\n",
       "      <td>5.0</td>\n",
       "    </tr>\n",
       "  </tbody>\n",
       "</table>\n",
       "</div>"
      ],
      "text/plain": [
       "                   A         B         C  D    F\n",
       "2013-01-01  0.000000  0.000000  0.172445  5  NaN\n",
       "2013-01-02  0.618569  0.041230  0.037552  5  1.0\n",
       "2013-01-03  0.622823 -0.623377 -0.110476  5  2.0\n",
       "2013-01-04 -1.416661  1.107422  0.443217  5  3.0\n",
       "2013-01-05 -0.139711 -1.154465  0.082175  5  4.0\n",
       "2013-01-06  1.157053  0.341404 -1.231877  5  5.0"
      ]
     },
     "execution_count": 48,
     "metadata": {},
     "output_type": "execute_result"
    }
   ],
   "source": [
    "df"
   ]
  },
  {
   "cell_type": "code",
   "execution_count": 49,
   "metadata": {
    "collapsed": false
   },
   "outputs": [
    {
     "data": {
      "text/plain": [
       "A    0.140346\n",
       "B   -0.047964\n",
       "C   -0.101161\n",
       "D    5.000000\n",
       "F    3.000000\n",
       "dtype: float64"
      ]
     },
     "execution_count": 49,
     "metadata": {},
     "output_type": "execute_result"
    }
   ],
   "source": [
    "df.mean()"
   ]
  },
  {
   "cell_type": "code",
   "execution_count": 50,
   "metadata": {
    "collapsed": false
   },
   "outputs": [
    {
     "data": {
      "text/plain": [
       "2013-01-01    1.293111\n",
       "2013-01-02    1.339470\n",
       "2013-01-03    1.377794\n",
       "2013-01-04    1.626796\n",
       "2013-01-05    1.557600\n",
       "2013-01-06    2.053316\n",
       "Freq: D, dtype: float64"
      ]
     },
     "execution_count": 50,
     "metadata": {},
     "output_type": "execute_result"
    }
   ],
   "source": [
    "df.mean(1)"
   ]
  },
  {
   "cell_type": "code",
   "execution_count": 51,
   "metadata": {
    "collapsed": false
   },
   "outputs": [
    {
     "data": {
      "text/plain": [
       "2013-01-01    1.0\n",
       "2013-01-02    3.0\n",
       "2013-01-03    4.0\n",
       "2013-01-04    NaN\n",
       "2013-01-05    6.0\n",
       "2013-01-06    8.0\n",
       "Freq: D, dtype: float64"
      ]
     },
     "execution_count": 51,
     "metadata": {},
     "output_type": "execute_result"
    }
   ],
   "source": [
    "s=pd.Series([1,3,4,np.nan,6,8],index=dates)\n",
    "s"
   ]
  },
  {
   "cell_type": "code",
   "execution_count": 52,
   "metadata": {
    "collapsed": false
   },
   "outputs": [
    {
     "data": {
      "text/plain": [
       "2013-01-01    NaN\n",
       "2013-01-02    NaN\n",
       "2013-01-03    1.0\n",
       "2013-01-04    3.0\n",
       "2013-01-05    4.0\n",
       "2013-01-06    NaN\n",
       "Freq: D, dtype: float64"
      ]
     },
     "execution_count": 52,
     "metadata": {},
     "output_type": "execute_result"
    }
   ],
   "source": [
    "s=s.shift(2)\n",
    "s"
   ]
  },
  {
   "cell_type": "code",
   "execution_count": 53,
   "metadata": {
    "collapsed": false
   },
   "outputs": [
    {
     "data": {
      "text/html": [
       "<div>\n",
       "<table border=\"1\" class=\"dataframe\">\n",
       "  <thead>\n",
       "    <tr style=\"text-align: right;\">\n",
       "      <th></th>\n",
       "      <th>A</th>\n",
       "      <th>B</th>\n",
       "      <th>C</th>\n",
       "      <th>D</th>\n",
       "      <th>F</th>\n",
       "    </tr>\n",
       "  </thead>\n",
       "  <tbody>\n",
       "    <tr>\n",
       "      <th>2013-01-01</th>\n",
       "      <td>0.000000</td>\n",
       "      <td>0.000000</td>\n",
       "      <td>0.172445</td>\n",
       "      <td>5</td>\n",
       "      <td>NaN</td>\n",
       "    </tr>\n",
       "    <tr>\n",
       "      <th>2013-01-02</th>\n",
       "      <td>0.618569</td>\n",
       "      <td>0.041230</td>\n",
       "      <td>0.037552</td>\n",
       "      <td>5</td>\n",
       "      <td>1.0</td>\n",
       "    </tr>\n",
       "    <tr>\n",
       "      <th>2013-01-03</th>\n",
       "      <td>0.622823</td>\n",
       "      <td>-0.623377</td>\n",
       "      <td>-0.110476</td>\n",
       "      <td>5</td>\n",
       "      <td>2.0</td>\n",
       "    </tr>\n",
       "    <tr>\n",
       "      <th>2013-01-04</th>\n",
       "      <td>-1.416661</td>\n",
       "      <td>1.107422</td>\n",
       "      <td>0.443217</td>\n",
       "      <td>5</td>\n",
       "      <td>3.0</td>\n",
       "    </tr>\n",
       "    <tr>\n",
       "      <th>2013-01-05</th>\n",
       "      <td>-0.139711</td>\n",
       "      <td>-1.154465</td>\n",
       "      <td>0.082175</td>\n",
       "      <td>5</td>\n",
       "      <td>4.0</td>\n",
       "    </tr>\n",
       "    <tr>\n",
       "      <th>2013-01-06</th>\n",
       "      <td>1.157053</td>\n",
       "      <td>0.341404</td>\n",
       "      <td>-1.231877</td>\n",
       "      <td>5</td>\n",
       "      <td>5.0</td>\n",
       "    </tr>\n",
       "  </tbody>\n",
       "</table>\n",
       "</div>"
      ],
      "text/plain": [
       "                   A         B         C  D    F\n",
       "2013-01-01  0.000000  0.000000  0.172445  5  NaN\n",
       "2013-01-02  0.618569  0.041230  0.037552  5  1.0\n",
       "2013-01-03  0.622823 -0.623377 -0.110476  5  2.0\n",
       "2013-01-04 -1.416661  1.107422  0.443217  5  3.0\n",
       "2013-01-05 -0.139711 -1.154465  0.082175  5  4.0\n",
       "2013-01-06  1.157053  0.341404 -1.231877  5  5.0"
      ]
     },
     "execution_count": 53,
     "metadata": {},
     "output_type": "execute_result"
    }
   ],
   "source": [
    "df"
   ]
  },
  {
   "cell_type": "code",
   "execution_count": 54,
   "metadata": {
    "collapsed": false
   },
   "outputs": [
    {
     "data": {
      "text/html": [
       "<div>\n",
       "<table border=\"1\" class=\"dataframe\">\n",
       "  <thead>\n",
       "    <tr style=\"text-align: right;\">\n",
       "      <th></th>\n",
       "      <th>A</th>\n",
       "      <th>B</th>\n",
       "      <th>C</th>\n",
       "      <th>D</th>\n",
       "      <th>F</th>\n",
       "    </tr>\n",
       "  </thead>\n",
       "  <tbody>\n",
       "    <tr>\n",
       "      <th>2013-01-01</th>\n",
       "      <td>NaN</td>\n",
       "      <td>NaN</td>\n",
       "      <td>NaN</td>\n",
       "      <td>NaN</td>\n",
       "      <td>NaN</td>\n",
       "    </tr>\n",
       "    <tr>\n",
       "      <th>2013-01-02</th>\n",
       "      <td>NaN</td>\n",
       "      <td>NaN</td>\n",
       "      <td>NaN</td>\n",
       "      <td>NaN</td>\n",
       "      <td>NaN</td>\n",
       "    </tr>\n",
       "    <tr>\n",
       "      <th>2013-01-03</th>\n",
       "      <td>-0.377177</td>\n",
       "      <td>-1.623377</td>\n",
       "      <td>-1.110476</td>\n",
       "      <td>4.0</td>\n",
       "      <td>1.0</td>\n",
       "    </tr>\n",
       "    <tr>\n",
       "      <th>2013-01-04</th>\n",
       "      <td>-4.416661</td>\n",
       "      <td>-1.892578</td>\n",
       "      <td>-2.556783</td>\n",
       "      <td>2.0</td>\n",
       "      <td>0.0</td>\n",
       "    </tr>\n",
       "    <tr>\n",
       "      <th>2013-01-05</th>\n",
       "      <td>-4.139711</td>\n",
       "      <td>-5.154465</td>\n",
       "      <td>-3.917825</td>\n",
       "      <td>1.0</td>\n",
       "      <td>0.0</td>\n",
       "    </tr>\n",
       "    <tr>\n",
       "      <th>2013-01-06</th>\n",
       "      <td>NaN</td>\n",
       "      <td>NaN</td>\n",
       "      <td>NaN</td>\n",
       "      <td>NaN</td>\n",
       "      <td>NaN</td>\n",
       "    </tr>\n",
       "  </tbody>\n",
       "</table>\n",
       "</div>"
      ],
      "text/plain": [
       "                   A         B         C    D    F\n",
       "2013-01-01       NaN       NaN       NaN  NaN  NaN\n",
       "2013-01-02       NaN       NaN       NaN  NaN  NaN\n",
       "2013-01-03 -0.377177 -1.623377 -1.110476  4.0  1.0\n",
       "2013-01-04 -4.416661 -1.892578 -2.556783  2.0  0.0\n",
       "2013-01-05 -4.139711 -5.154465 -3.917825  1.0  0.0\n",
       "2013-01-06       NaN       NaN       NaN  NaN  NaN"
      ]
     },
     "execution_count": 54,
     "metadata": {},
     "output_type": "execute_result"
    }
   ],
   "source": [
    "df.sub(s,axis='index')"
   ]
  },
  {
   "cell_type": "code",
   "execution_count": 55,
   "metadata": {
    "collapsed": false
   },
   "outputs": [
    {
     "data": {
      "text/html": [
       "<div>\n",
       "<table border=\"1\" class=\"dataframe\">\n",
       "  <thead>\n",
       "    <tr style=\"text-align: right;\">\n",
       "      <th></th>\n",
       "      <th>A</th>\n",
       "      <th>B</th>\n",
       "      <th>C</th>\n",
       "      <th>D</th>\n",
       "      <th>F</th>\n",
       "    </tr>\n",
       "  </thead>\n",
       "  <tbody>\n",
       "    <tr>\n",
       "      <th>2013-01-01</th>\n",
       "      <td>0.000000</td>\n",
       "      <td>0.000000</td>\n",
       "      <td>0.172445</td>\n",
       "      <td>5</td>\n",
       "      <td>NaN</td>\n",
       "    </tr>\n",
       "    <tr>\n",
       "      <th>2013-01-02</th>\n",
       "      <td>0.618569</td>\n",
       "      <td>0.041230</td>\n",
       "      <td>0.037552</td>\n",
       "      <td>5</td>\n",
       "      <td>1.0</td>\n",
       "    </tr>\n",
       "    <tr>\n",
       "      <th>2013-01-03</th>\n",
       "      <td>0.622823</td>\n",
       "      <td>-0.623377</td>\n",
       "      <td>-0.110476</td>\n",
       "      <td>5</td>\n",
       "      <td>2.0</td>\n",
       "    </tr>\n",
       "    <tr>\n",
       "      <th>2013-01-04</th>\n",
       "      <td>-1.416661</td>\n",
       "      <td>1.107422</td>\n",
       "      <td>0.443217</td>\n",
       "      <td>5</td>\n",
       "      <td>3.0</td>\n",
       "    </tr>\n",
       "    <tr>\n",
       "      <th>2013-01-05</th>\n",
       "      <td>-0.139711</td>\n",
       "      <td>-1.154465</td>\n",
       "      <td>0.082175</td>\n",
       "      <td>5</td>\n",
       "      <td>4.0</td>\n",
       "    </tr>\n",
       "    <tr>\n",
       "      <th>2013-01-06</th>\n",
       "      <td>1.157053</td>\n",
       "      <td>0.341404</td>\n",
       "      <td>-1.231877</td>\n",
       "      <td>5</td>\n",
       "      <td>5.0</td>\n",
       "    </tr>\n",
       "  </tbody>\n",
       "</table>\n",
       "</div>"
      ],
      "text/plain": [
       "                   A         B         C  D    F\n",
       "2013-01-01  0.000000  0.000000  0.172445  5  NaN\n",
       "2013-01-02  0.618569  0.041230  0.037552  5  1.0\n",
       "2013-01-03  0.622823 -0.623377 -0.110476  5  2.0\n",
       "2013-01-04 -1.416661  1.107422  0.443217  5  3.0\n",
       "2013-01-05 -0.139711 -1.154465  0.082175  5  4.0\n",
       "2013-01-06  1.157053  0.341404 -1.231877  5  5.0"
      ]
     },
     "execution_count": 55,
     "metadata": {},
     "output_type": "execute_result"
    }
   ],
   "source": [
    "df"
   ]
  },
  {
   "cell_type": "code",
   "execution_count": 56,
   "metadata": {
    "collapsed": false
   },
   "outputs": [
    {
     "data": {
      "text/html": [
       "<div>\n",
       "<table border=\"1\" class=\"dataframe\">\n",
       "  <thead>\n",
       "    <tr style=\"text-align: right;\">\n",
       "      <th></th>\n",
       "      <th>A</th>\n",
       "      <th>B</th>\n",
       "      <th>C</th>\n",
       "      <th>D</th>\n",
       "      <th>F</th>\n",
       "    </tr>\n",
       "  </thead>\n",
       "  <tbody>\n",
       "    <tr>\n",
       "      <th>2013-01-01</th>\n",
       "      <td>0.000000</td>\n",
       "      <td>0.000000</td>\n",
       "      <td>0.172445</td>\n",
       "      <td>5</td>\n",
       "      <td>NaN</td>\n",
       "    </tr>\n",
       "    <tr>\n",
       "      <th>2013-01-02</th>\n",
       "      <td>0.618569</td>\n",
       "      <td>0.041230</td>\n",
       "      <td>0.209997</td>\n",
       "      <td>10</td>\n",
       "      <td>1.0</td>\n",
       "    </tr>\n",
       "    <tr>\n",
       "      <th>2013-01-03</th>\n",
       "      <td>1.241393</td>\n",
       "      <td>-0.582147</td>\n",
       "      <td>0.099520</td>\n",
       "      <td>15</td>\n",
       "      <td>3.0</td>\n",
       "    </tr>\n",
       "    <tr>\n",
       "      <th>2013-01-04</th>\n",
       "      <td>-0.175268</td>\n",
       "      <td>0.525275</td>\n",
       "      <td>0.542737</td>\n",
       "      <td>20</td>\n",
       "      <td>6.0</td>\n",
       "    </tr>\n",
       "    <tr>\n",
       "      <th>2013-01-05</th>\n",
       "      <td>-0.314979</td>\n",
       "      <td>-0.629189</td>\n",
       "      <td>0.624912</td>\n",
       "      <td>25</td>\n",
       "      <td>10.0</td>\n",
       "    </tr>\n",
       "    <tr>\n",
       "      <th>2013-01-06</th>\n",
       "      <td>0.842074</td>\n",
       "      <td>-0.287785</td>\n",
       "      <td>-0.606965</td>\n",
       "      <td>30</td>\n",
       "      <td>15.0</td>\n",
       "    </tr>\n",
       "  </tbody>\n",
       "</table>\n",
       "</div>"
      ],
      "text/plain": [
       "                   A         B         C   D     F\n",
       "2013-01-01  0.000000  0.000000  0.172445   5   NaN\n",
       "2013-01-02  0.618569  0.041230  0.209997  10   1.0\n",
       "2013-01-03  1.241393 -0.582147  0.099520  15   3.0\n",
       "2013-01-04 -0.175268  0.525275  0.542737  20   6.0\n",
       "2013-01-05 -0.314979 -0.629189  0.624912  25  10.0\n",
       "2013-01-06  0.842074 -0.287785 -0.606965  30  15.0"
      ]
     },
     "execution_count": 56,
     "metadata": {},
     "output_type": "execute_result"
    }
   ],
   "source": [
    "df.apply(np.cumsum)"
   ]
  },
  {
   "cell_type": "code",
   "execution_count": 57,
   "metadata": {
    "collapsed": false
   },
   "outputs": [
    {
     "data": {
      "text/plain": [
       "A    2.573714\n",
       "B    2.261887\n",
       "C    1.675094\n",
       "D    0.000000\n",
       "F    4.000000\n",
       "dtype: float64"
      ]
     },
     "execution_count": 57,
     "metadata": {},
     "output_type": "execute_result"
    }
   ],
   "source": [
    "df.apply(lambda y: y.max()-y.min())"
   ]
  },
  {
   "cell_type": "code",
   "execution_count": 58,
   "metadata": {
    "collapsed": false,
    "scrolled": true
   },
   "outputs": [
    {
     "data": {
      "text/plain": [
       "0      5\n",
       "1      0\n",
       "2      6\n",
       "3      2\n",
       "4      4\n",
       "5      0\n",
       "6      2\n",
       "7      3\n",
       "8      1\n",
       "9      2\n",
       "10     3\n",
       "11     6\n",
       "12     1\n",
       "13     4\n",
       "14     5\n",
       "15     2\n",
       "16     6\n",
       "17     2\n",
       "18     4\n",
       "19     5\n",
       "20     6\n",
       "21     1\n",
       "22     6\n",
       "23     5\n",
       "24     4\n",
       "25     1\n",
       "26     5\n",
       "27     4\n",
       "28     6\n",
       "29     0\n",
       "      ..\n",
       "970    2\n",
       "971    5\n",
       "972    2\n",
       "973    5\n",
       "974    0\n",
       "975    2\n",
       "976    4\n",
       "977    0\n",
       "978    3\n",
       "979    2\n",
       "980    6\n",
       "981    0\n",
       "982    0\n",
       "983    4\n",
       "984    5\n",
       "985    2\n",
       "986    5\n",
       "987    3\n",
       "988    3\n",
       "989    6\n",
       "990    2\n",
       "991    1\n",
       "992    2\n",
       "993    1\n",
       "994    2\n",
       "995    0\n",
       "996    3\n",
       "997    4\n",
       "998    6\n",
       "999    0\n",
       "dtype: int64"
      ]
     },
     "execution_count": 58,
     "metadata": {},
     "output_type": "execute_result"
    }
   ],
   "source": [
    "s=pd.Series(np.random.randint(0,7,size=1000))\n",
    "s"
   ]
  },
  {
   "cell_type": "code",
   "execution_count": 59,
   "metadata": {
    "collapsed": false
   },
   "outputs": [
    {
     "data": {
      "text/plain": [
       "4    154\n",
       "3    151\n",
       "5    149\n",
       "1    149\n",
       "0    139\n",
       "2    135\n",
       "6    123\n",
       "dtype: int64"
      ]
     },
     "execution_count": 59,
     "metadata": {},
     "output_type": "execute_result"
    }
   ],
   "source": [
    "s.value_counts()"
   ]
  },
  {
   "cell_type": "code",
   "execution_count": 60,
   "metadata": {
    "collapsed": true
   },
   "outputs": [],
   "source": [
    "s=pd.Series(['A','B','C','Aaba','Baca',np.nan,'CABA','dog','cat'])"
   ]
  },
  {
   "cell_type": "code",
   "execution_count": 61,
   "metadata": {
    "collapsed": false
   },
   "outputs": [
    {
     "data": {
      "text/plain": [
       "0       A\n",
       "1       B\n",
       "2       C\n",
       "3    Aaba\n",
       "4    Baca\n",
       "5     NaN\n",
       "6    CABA\n",
       "7     dog\n",
       "8     cat\n",
       "dtype: object"
      ]
     },
     "execution_count": 61,
     "metadata": {},
     "output_type": "execute_result"
    }
   ],
   "source": [
    "s"
   ]
  },
  {
   "cell_type": "code",
   "execution_count": 62,
   "metadata": {
    "collapsed": false
   },
   "outputs": [
    {
     "data": {
      "text/plain": [
       "0       a\n",
       "1       b\n",
       "2       c\n",
       "3    aaba\n",
       "4    baca\n",
       "5     NaN\n",
       "6    caba\n",
       "7     dog\n",
       "8     cat\n",
       "dtype: object"
      ]
     },
     "execution_count": 62,
     "metadata": {},
     "output_type": "execute_result"
    }
   ],
   "source": [
    "s.str.lower()"
   ]
  },
  {
   "cell_type": "code",
   "execution_count": 63,
   "metadata": {
    "collapsed": false
   },
   "outputs": [
    {
     "data": {
      "text/html": [
       "<div>\n",
       "<table border=\"1\" class=\"dataframe\">\n",
       "  <thead>\n",
       "    <tr style=\"text-align: right;\">\n",
       "      <th></th>\n",
       "      <th>0</th>\n",
       "      <th>1</th>\n",
       "      <th>2</th>\n",
       "      <th>3</th>\n",
       "    </tr>\n",
       "  </thead>\n",
       "  <tbody>\n",
       "    <tr>\n",
       "      <th>0</th>\n",
       "      <td>1.047094</td>\n",
       "      <td>-1.385399</td>\n",
       "      <td>1.040770</td>\n",
       "      <td>-0.934335</td>\n",
       "    </tr>\n",
       "    <tr>\n",
       "      <th>1</th>\n",
       "      <td>-0.986413</td>\n",
       "      <td>1.256369</td>\n",
       "      <td>0.647326</td>\n",
       "      <td>-0.959571</td>\n",
       "    </tr>\n",
       "    <tr>\n",
       "      <th>2</th>\n",
       "      <td>0.199145</td>\n",
       "      <td>-0.728837</td>\n",
       "      <td>2.291944</td>\n",
       "      <td>0.070320</td>\n",
       "    </tr>\n",
       "    <tr>\n",
       "      <th>3</th>\n",
       "      <td>-1.416094</td>\n",
       "      <td>-0.201094</td>\n",
       "      <td>1.630371</td>\n",
       "      <td>-2.053066</td>\n",
       "    </tr>\n",
       "    <tr>\n",
       "      <th>4</th>\n",
       "      <td>-0.246335</td>\n",
       "      <td>-0.106763</td>\n",
       "      <td>-1.658993</td>\n",
       "      <td>-0.113798</td>\n",
       "    </tr>\n",
       "    <tr>\n",
       "      <th>5</th>\n",
       "      <td>2.188974</td>\n",
       "      <td>0.835623</td>\n",
       "      <td>0.053666</td>\n",
       "      <td>0.733553</td>\n",
       "    </tr>\n",
       "    <tr>\n",
       "      <th>6</th>\n",
       "      <td>-0.013518</td>\n",
       "      <td>-0.896542</td>\n",
       "      <td>-0.032823</td>\n",
       "      <td>-0.254673</td>\n",
       "    </tr>\n",
       "    <tr>\n",
       "      <th>7</th>\n",
       "      <td>-0.371281</td>\n",
       "      <td>0.278483</td>\n",
       "      <td>0.327312</td>\n",
       "      <td>-0.850624</td>\n",
       "    </tr>\n",
       "    <tr>\n",
       "      <th>8</th>\n",
       "      <td>0.152749</td>\n",
       "      <td>0.298296</td>\n",
       "      <td>-1.000275</td>\n",
       "      <td>-1.634352</td>\n",
       "    </tr>\n",
       "    <tr>\n",
       "      <th>9</th>\n",
       "      <td>0.987819</td>\n",
       "      <td>-0.287271</td>\n",
       "      <td>-2.378852</td>\n",
       "      <td>0.338759</td>\n",
       "    </tr>\n",
       "  </tbody>\n",
       "</table>\n",
       "</div>"
      ],
      "text/plain": [
       "          0         1         2         3\n",
       "0  1.047094 -1.385399  1.040770 -0.934335\n",
       "1 -0.986413  1.256369  0.647326 -0.959571\n",
       "2  0.199145 -0.728837  2.291944  0.070320\n",
       "3 -1.416094 -0.201094  1.630371 -2.053066\n",
       "4 -0.246335 -0.106763 -1.658993 -0.113798\n",
       "5  2.188974  0.835623  0.053666  0.733553\n",
       "6 -0.013518 -0.896542 -0.032823 -0.254673\n",
       "7 -0.371281  0.278483  0.327312 -0.850624\n",
       "8  0.152749  0.298296 -1.000275 -1.634352\n",
       "9  0.987819 -0.287271 -2.378852  0.338759"
      ]
     },
     "execution_count": 63,
     "metadata": {},
     "output_type": "execute_result"
    }
   ],
   "source": [
    "df=pd.DataFrame(np.random.randn(10,4))\n",
    "df"
   ]
  },
  {
   "cell_type": "code",
   "execution_count": 64,
   "metadata": {
    "collapsed": false
   },
   "outputs": [
    {
     "data": {
      "text/plain": [
       "[          0         1         2         3\n",
       " 0  1.047094 -1.385399  1.040770 -0.934335\n",
       " 1 -0.986413  1.256369  0.647326 -0.959571\n",
       " 2  0.199145 -0.728837  2.291944  0.070320,\n",
       "           0         1         2         3\n",
       " 3 -1.416094 -0.201094  1.630371 -2.053066\n",
       " 4 -0.246335 -0.106763 -1.658993 -0.113798\n",
       " 5  2.188974  0.835623  0.053666  0.733553\n",
       " 6 -0.013518 -0.896542 -0.032823 -0.254673,\n",
       "           0         1         2         3\n",
       " 7 -0.371281  0.278483  0.327312 -0.850624\n",
       " 8  0.152749  0.298296 -1.000275 -1.634352\n",
       " 9  0.987819 -0.287271 -2.378852  0.338759]"
      ]
     },
     "execution_count": 64,
     "metadata": {},
     "output_type": "execute_result"
    }
   ],
   "source": [
    "pieces = [df[:3], df[3:7], df[7:]]\n",
    "pieces"
   ]
  },
  {
   "cell_type": "code",
   "execution_count": 65,
   "metadata": {
    "collapsed": false
   },
   "outputs": [
    {
     "data": {
      "text/html": [
       "<div>\n",
       "<table border=\"1\" class=\"dataframe\">\n",
       "  <thead>\n",
       "    <tr style=\"text-align: right;\">\n",
       "      <th></th>\n",
       "      <th>0</th>\n",
       "      <th>1</th>\n",
       "      <th>2</th>\n",
       "      <th>3</th>\n",
       "    </tr>\n",
       "  </thead>\n",
       "  <tbody>\n",
       "    <tr>\n",
       "      <th>0</th>\n",
       "      <td>1.047094</td>\n",
       "      <td>-1.385399</td>\n",
       "      <td>1.040770</td>\n",
       "      <td>-0.934335</td>\n",
       "    </tr>\n",
       "    <tr>\n",
       "      <th>1</th>\n",
       "      <td>-0.986413</td>\n",
       "      <td>1.256369</td>\n",
       "      <td>0.647326</td>\n",
       "      <td>-0.959571</td>\n",
       "    </tr>\n",
       "    <tr>\n",
       "      <th>2</th>\n",
       "      <td>0.199145</td>\n",
       "      <td>-0.728837</td>\n",
       "      <td>2.291944</td>\n",
       "      <td>0.070320</td>\n",
       "    </tr>\n",
       "    <tr>\n",
       "      <th>3</th>\n",
       "      <td>-1.416094</td>\n",
       "      <td>-0.201094</td>\n",
       "      <td>1.630371</td>\n",
       "      <td>-2.053066</td>\n",
       "    </tr>\n",
       "    <tr>\n",
       "      <th>4</th>\n",
       "      <td>-0.246335</td>\n",
       "      <td>-0.106763</td>\n",
       "      <td>-1.658993</td>\n",
       "      <td>-0.113798</td>\n",
       "    </tr>\n",
       "    <tr>\n",
       "      <th>5</th>\n",
       "      <td>2.188974</td>\n",
       "      <td>0.835623</td>\n",
       "      <td>0.053666</td>\n",
       "      <td>0.733553</td>\n",
       "    </tr>\n",
       "    <tr>\n",
       "      <th>6</th>\n",
       "      <td>-0.013518</td>\n",
       "      <td>-0.896542</td>\n",
       "      <td>-0.032823</td>\n",
       "      <td>-0.254673</td>\n",
       "    </tr>\n",
       "    <tr>\n",
       "      <th>7</th>\n",
       "      <td>-0.371281</td>\n",
       "      <td>0.278483</td>\n",
       "      <td>0.327312</td>\n",
       "      <td>-0.850624</td>\n",
       "    </tr>\n",
       "    <tr>\n",
       "      <th>8</th>\n",
       "      <td>0.152749</td>\n",
       "      <td>0.298296</td>\n",
       "      <td>-1.000275</td>\n",
       "      <td>-1.634352</td>\n",
       "    </tr>\n",
       "    <tr>\n",
       "      <th>9</th>\n",
       "      <td>0.987819</td>\n",
       "      <td>-0.287271</td>\n",
       "      <td>-2.378852</td>\n",
       "      <td>0.338759</td>\n",
       "    </tr>\n",
       "  </tbody>\n",
       "</table>\n",
       "</div>"
      ],
      "text/plain": [
       "          0         1         2         3\n",
       "0  1.047094 -1.385399  1.040770 -0.934335\n",
       "1 -0.986413  1.256369  0.647326 -0.959571\n",
       "2  0.199145 -0.728837  2.291944  0.070320\n",
       "3 -1.416094 -0.201094  1.630371 -2.053066\n",
       "4 -0.246335 -0.106763 -1.658993 -0.113798\n",
       "5  2.188974  0.835623  0.053666  0.733553\n",
       "6 -0.013518 -0.896542 -0.032823 -0.254673\n",
       "7 -0.371281  0.278483  0.327312 -0.850624\n",
       "8  0.152749  0.298296 -1.000275 -1.634352\n",
       "9  0.987819 -0.287271 -2.378852  0.338759"
      ]
     },
     "execution_count": 65,
     "metadata": {},
     "output_type": "execute_result"
    }
   ],
   "source": [
    "pd.concat(pieces)"
   ]
  },
  {
   "cell_type": "code",
   "execution_count": 66,
   "metadata": {
    "collapsed": false
   },
   "outputs": [
    {
     "data": {
      "text/html": [
       "<div>\n",
       "<table border=\"1\" class=\"dataframe\">\n",
       "  <thead>\n",
       "    <tr style=\"text-align: right;\">\n",
       "      <th></th>\n",
       "      <th>key</th>\n",
       "      <th>lval</th>\n",
       "    </tr>\n",
       "  </thead>\n",
       "  <tbody>\n",
       "    <tr>\n",
       "      <th>0</th>\n",
       "      <td>foo</td>\n",
       "      <td>1</td>\n",
       "    </tr>\n",
       "    <tr>\n",
       "      <th>1</th>\n",
       "      <td>bar</td>\n",
       "      <td>2</td>\n",
       "    </tr>\n",
       "  </tbody>\n",
       "</table>\n",
       "</div>"
      ],
      "text/plain": [
       "   key  lval\n",
       "0  foo     1\n",
       "1  bar     2"
      ]
     },
     "execution_count": 66,
     "metadata": {},
     "output_type": "execute_result"
    }
   ],
   "source": [
    "left=pd.DataFrame({'key':['foo','bar'], 'lval':[1,2]})\n",
    "left"
   ]
  },
  {
   "cell_type": "code",
   "execution_count": 67,
   "metadata": {
    "collapsed": false
   },
   "outputs": [
    {
     "data": {
      "text/html": [
       "<div>\n",
       "<table border=\"1\" class=\"dataframe\">\n",
       "  <thead>\n",
       "    <tr style=\"text-align: right;\">\n",
       "      <th></th>\n",
       "      <th>key</th>\n",
       "      <th>rval</th>\n",
       "    </tr>\n",
       "  </thead>\n",
       "  <tbody>\n",
       "    <tr>\n",
       "      <th>0</th>\n",
       "      <td>foo</td>\n",
       "      <td>4</td>\n",
       "    </tr>\n",
       "    <tr>\n",
       "      <th>1</th>\n",
       "      <td>bar</td>\n",
       "      <td>5</td>\n",
       "    </tr>\n",
       "  </tbody>\n",
       "</table>\n",
       "</div>"
      ],
      "text/plain": [
       "   key  rval\n",
       "0  foo     4\n",
       "1  bar     5"
      ]
     },
     "execution_count": 67,
     "metadata": {},
     "output_type": "execute_result"
    }
   ],
   "source": [
    "right=pd.DataFrame({'key':['foo','bar'],'rval':[4,5]})\n",
    "right"
   ]
  },
  {
   "cell_type": "code",
   "execution_count": 68,
   "metadata": {
    "collapsed": false
   },
   "outputs": [
    {
     "data": {
      "text/html": [
       "<div>\n",
       "<table border=\"1\" class=\"dataframe\">\n",
       "  <thead>\n",
       "    <tr style=\"text-align: right;\">\n",
       "      <th></th>\n",
       "      <th>key</th>\n",
       "      <th>lval</th>\n",
       "      <th>rval</th>\n",
       "    </tr>\n",
       "  </thead>\n",
       "  <tbody>\n",
       "    <tr>\n",
       "      <th>0</th>\n",
       "      <td>foo</td>\n",
       "      <td>1</td>\n",
       "      <td>4</td>\n",
       "    </tr>\n",
       "    <tr>\n",
       "      <th>1</th>\n",
       "      <td>bar</td>\n",
       "      <td>2</td>\n",
       "      <td>5</td>\n",
       "    </tr>\n",
       "  </tbody>\n",
       "</table>\n",
       "</div>"
      ],
      "text/plain": [
       "   key  lval  rval\n",
       "0  foo     1     4\n",
       "1  bar     2     5"
      ]
     },
     "execution_count": 68,
     "metadata": {},
     "output_type": "execute_result"
    }
   ],
   "source": [
    "pd.merge(left,right,on='key')"
   ]
  },
  {
   "cell_type": "code",
   "execution_count": 69,
   "metadata": {
    "collapsed": false
   },
   "outputs": [
    {
     "data": {
      "text/html": [
       "<div>\n",
       "<table border=\"1\" class=\"dataframe\">\n",
       "  <thead>\n",
       "    <tr style=\"text-align: right;\">\n",
       "      <th></th>\n",
       "      <th>A</th>\n",
       "      <th>B</th>\n",
       "      <th>C</th>\n",
       "      <th>D</th>\n",
       "    </tr>\n",
       "  </thead>\n",
       "  <tbody>\n",
       "    <tr>\n",
       "      <th>0</th>\n",
       "      <td>-0.213144</td>\n",
       "      <td>-0.545073</td>\n",
       "      <td>-0.181472</td>\n",
       "      <td>-1.624111</td>\n",
       "    </tr>\n",
       "    <tr>\n",
       "      <th>1</th>\n",
       "      <td>-0.141002</td>\n",
       "      <td>0.524407</td>\n",
       "      <td>0.886946</td>\n",
       "      <td>-1.190971</td>\n",
       "    </tr>\n",
       "    <tr>\n",
       "      <th>2</th>\n",
       "      <td>-0.706876</td>\n",
       "      <td>-0.863220</td>\n",
       "      <td>0.298170</td>\n",
       "      <td>1.057253</td>\n",
       "    </tr>\n",
       "    <tr>\n",
       "      <th>3</th>\n",
       "      <td>-0.633579</td>\n",
       "      <td>-0.605971</td>\n",
       "      <td>-1.275706</td>\n",
       "      <td>-1.191603</td>\n",
       "    </tr>\n",
       "    <tr>\n",
       "      <th>4</th>\n",
       "      <td>0.542517</td>\n",
       "      <td>1.377497</td>\n",
       "      <td>1.255470</td>\n",
       "      <td>0.652217</td>\n",
       "    </tr>\n",
       "    <tr>\n",
       "      <th>5</th>\n",
       "      <td>-1.417971</td>\n",
       "      <td>-0.758737</td>\n",
       "      <td>-1.607358</td>\n",
       "      <td>-0.598744</td>\n",
       "    </tr>\n",
       "    <tr>\n",
       "      <th>6</th>\n",
       "      <td>-0.171301</td>\n",
       "      <td>-0.504421</td>\n",
       "      <td>-0.043463</td>\n",
       "      <td>-0.009015</td>\n",
       "    </tr>\n",
       "    <tr>\n",
       "      <th>7</th>\n",
       "      <td>-0.034397</td>\n",
       "      <td>1.208249</td>\n",
       "      <td>0.053187</td>\n",
       "      <td>-0.812940</td>\n",
       "    </tr>\n",
       "  </tbody>\n",
       "</table>\n",
       "</div>"
      ],
      "text/plain": [
       "          A         B         C         D\n",
       "0 -0.213144 -0.545073 -0.181472 -1.624111\n",
       "1 -0.141002  0.524407  0.886946 -1.190971\n",
       "2 -0.706876 -0.863220  0.298170  1.057253\n",
       "3 -0.633579 -0.605971 -1.275706 -1.191603\n",
       "4  0.542517  1.377497  1.255470  0.652217\n",
       "5 -1.417971 -0.758737 -1.607358 -0.598744\n",
       "6 -0.171301 -0.504421 -0.043463 -0.009015\n",
       "7 -0.034397  1.208249  0.053187 -0.812940"
      ]
     },
     "execution_count": 69,
     "metadata": {},
     "output_type": "execute_result"
    }
   ],
   "source": [
    "df=pd.DataFrame(np.random.randn(8,4),columns=['A','B','C','D'])\n",
    "df"
   ]
  },
  {
   "cell_type": "code",
   "execution_count": 70,
   "metadata": {
    "collapsed": false
   },
   "outputs": [
    {
     "data": {
      "text/plain": [
       "A   -0.633579\n",
       "B   -0.605971\n",
       "C   -1.275706\n",
       "D   -1.191603\n",
       "Name: 3, dtype: float64"
      ]
     },
     "execution_count": 70,
     "metadata": {},
     "output_type": "execute_result"
    }
   ],
   "source": [
    "s=df.iloc[3]\n",
    "s"
   ]
  },
  {
   "cell_type": "code",
   "execution_count": 71,
   "metadata": {
    "collapsed": false
   },
   "outputs": [
    {
     "data": {
      "text/html": [
       "<div>\n",
       "<table border=\"1\" class=\"dataframe\">\n",
       "  <thead>\n",
       "    <tr style=\"text-align: right;\">\n",
       "      <th></th>\n",
       "      <th>A</th>\n",
       "      <th>B</th>\n",
       "      <th>C</th>\n",
       "      <th>D</th>\n",
       "    </tr>\n",
       "  </thead>\n",
       "  <tbody>\n",
       "    <tr>\n",
       "      <th>0</th>\n",
       "      <td>-0.213144</td>\n",
       "      <td>-0.545073</td>\n",
       "      <td>-0.181472</td>\n",
       "      <td>-1.624111</td>\n",
       "    </tr>\n",
       "    <tr>\n",
       "      <th>1</th>\n",
       "      <td>-0.141002</td>\n",
       "      <td>0.524407</td>\n",
       "      <td>0.886946</td>\n",
       "      <td>-1.190971</td>\n",
       "    </tr>\n",
       "    <tr>\n",
       "      <th>2</th>\n",
       "      <td>-0.706876</td>\n",
       "      <td>-0.863220</td>\n",
       "      <td>0.298170</td>\n",
       "      <td>1.057253</td>\n",
       "    </tr>\n",
       "    <tr>\n",
       "      <th>3</th>\n",
       "      <td>-0.633579</td>\n",
       "      <td>-0.605971</td>\n",
       "      <td>-1.275706</td>\n",
       "      <td>-1.191603</td>\n",
       "    </tr>\n",
       "    <tr>\n",
       "      <th>4</th>\n",
       "      <td>0.542517</td>\n",
       "      <td>1.377497</td>\n",
       "      <td>1.255470</td>\n",
       "      <td>0.652217</td>\n",
       "    </tr>\n",
       "    <tr>\n",
       "      <th>5</th>\n",
       "      <td>-1.417971</td>\n",
       "      <td>-0.758737</td>\n",
       "      <td>-1.607358</td>\n",
       "      <td>-0.598744</td>\n",
       "    </tr>\n",
       "    <tr>\n",
       "      <th>6</th>\n",
       "      <td>-0.171301</td>\n",
       "      <td>-0.504421</td>\n",
       "      <td>-0.043463</td>\n",
       "      <td>-0.009015</td>\n",
       "    </tr>\n",
       "    <tr>\n",
       "      <th>7</th>\n",
       "      <td>-0.034397</td>\n",
       "      <td>1.208249</td>\n",
       "      <td>0.053187</td>\n",
       "      <td>-0.812940</td>\n",
       "    </tr>\n",
       "    <tr>\n",
       "      <th>8</th>\n",
       "      <td>-0.633579</td>\n",
       "      <td>-0.605971</td>\n",
       "      <td>-1.275706</td>\n",
       "      <td>-1.191603</td>\n",
       "    </tr>\n",
       "  </tbody>\n",
       "</table>\n",
       "</div>"
      ],
      "text/plain": [
       "          A         B         C         D\n",
       "0 -0.213144 -0.545073 -0.181472 -1.624111\n",
       "1 -0.141002  0.524407  0.886946 -1.190971\n",
       "2 -0.706876 -0.863220  0.298170  1.057253\n",
       "3 -0.633579 -0.605971 -1.275706 -1.191603\n",
       "4  0.542517  1.377497  1.255470  0.652217\n",
       "5 -1.417971 -0.758737 -1.607358 -0.598744\n",
       "6 -0.171301 -0.504421 -0.043463 -0.009015\n",
       "7 -0.034397  1.208249  0.053187 -0.812940\n",
       "8 -0.633579 -0.605971 -1.275706 -1.191603"
      ]
     },
     "execution_count": 71,
     "metadata": {},
     "output_type": "execute_result"
    }
   ],
   "source": [
    "df.append(s,ignore_index=True)"
   ]
  },
  {
   "cell_type": "code",
   "execution_count": 72,
   "metadata": {
    "collapsed": false
   },
   "outputs": [
    {
     "data": {
      "text/plain": [
       "DatetimeIndex(['2013-01-01', '2013-01-02', '2013-01-03', '2013-01-04',\n",
       "               '2013-01-05', '2013-01-06', '2013-01-07', '2013-01-08'],\n",
       "              dtype='datetime64[ns]', freq='D')"
      ]
     },
     "execution_count": 72,
     "metadata": {},
     "output_type": "execute_result"
    }
   ],
   "source": [
    "test_dates = pd.date_range('20130101',periods=8)\n",
    "test_dates"
   ]
  },
  {
   "cell_type": "code",
   "execution_count": 73,
   "metadata": {
    "collapsed": false
   },
   "outputs": [
    {
     "data": {
      "text/html": [
       "<div>\n",
       "<table border=\"1\" class=\"dataframe\">\n",
       "  <thead>\n",
       "    <tr style=\"text-align: right;\">\n",
       "      <th></th>\n",
       "      <th>A</th>\n",
       "      <th>B</th>\n",
       "      <th>C</th>\n",
       "      <th>D</th>\n",
       "    </tr>\n",
       "  </thead>\n",
       "  <tbody>\n",
       "    <tr>\n",
       "      <th>2013-01-01</th>\n",
       "      <td>-1.296630</td>\n",
       "      <td>1.730849</td>\n",
       "      <td>0.529922</td>\n",
       "      <td>-1.573009</td>\n",
       "    </tr>\n",
       "    <tr>\n",
       "      <th>2013-01-02</th>\n",
       "      <td>0.928303</td>\n",
       "      <td>0.244052</td>\n",
       "      <td>-0.495107</td>\n",
       "      <td>1.061582</td>\n",
       "    </tr>\n",
       "    <tr>\n",
       "      <th>2013-01-03</th>\n",
       "      <td>-0.141672</td>\n",
       "      <td>-1.818668</td>\n",
       "      <td>0.424409</td>\n",
       "      <td>-0.930752</td>\n",
       "    </tr>\n",
       "    <tr>\n",
       "      <th>2013-01-04</th>\n",
       "      <td>-0.999585</td>\n",
       "      <td>-1.263310</td>\n",
       "      <td>1.041513</td>\n",
       "      <td>-1.946209</td>\n",
       "    </tr>\n",
       "    <tr>\n",
       "      <th>2013-01-05</th>\n",
       "      <td>-0.967204</td>\n",
       "      <td>0.630228</td>\n",
       "      <td>1.494943</td>\n",
       "      <td>0.783996</td>\n",
       "    </tr>\n",
       "    <tr>\n",
       "      <th>2013-01-06</th>\n",
       "      <td>-0.549206</td>\n",
       "      <td>1.128629</td>\n",
       "      <td>0.664524</td>\n",
       "      <td>-0.776928</td>\n",
       "    </tr>\n",
       "    <tr>\n",
       "      <th>2013-01-07</th>\n",
       "      <td>-0.228038</td>\n",
       "      <td>-0.720137</td>\n",
       "      <td>-0.921096</td>\n",
       "      <td>-1.226550</td>\n",
       "    </tr>\n",
       "    <tr>\n",
       "      <th>2013-01-08</th>\n",
       "      <td>0.074494</td>\n",
       "      <td>0.320918</td>\n",
       "      <td>-0.721748</td>\n",
       "      <td>-1.423936</td>\n",
       "    </tr>\n",
       "  </tbody>\n",
       "</table>\n",
       "</div>"
      ],
      "text/plain": [
       "                   A         B         C         D\n",
       "2013-01-01 -1.296630  1.730849  0.529922 -1.573009\n",
       "2013-01-02  0.928303  0.244052 -0.495107  1.061582\n",
       "2013-01-03 -0.141672 -1.818668  0.424409 -0.930752\n",
       "2013-01-04 -0.999585 -1.263310  1.041513 -1.946209\n",
       "2013-01-05 -0.967204  0.630228  1.494943  0.783996\n",
       "2013-01-06 -0.549206  1.128629  0.664524 -0.776928\n",
       "2013-01-07 -0.228038 -0.720137 -0.921096 -1.226550\n",
       "2013-01-08  0.074494  0.320918 -0.721748 -1.423936"
      ]
     },
     "execution_count": 73,
     "metadata": {},
     "output_type": "execute_result"
    }
   ],
   "source": [
    "dfx=pd.DataFrame(np.random.randn(8,4),index=test_dates,columns=['A','B','C','D'])\n",
    "dfx"
   ]
  },
  {
   "cell_type": "code",
   "execution_count": 74,
   "metadata": {
    "collapsed": false
   },
   "outputs": [
    {
     "data": {
      "text/html": [
       "<div>\n",
       "<table border=\"1\" class=\"dataframe\">\n",
       "  <thead>\n",
       "    <tr style=\"text-align: right;\">\n",
       "      <th></th>\n",
       "      <th>A</th>\n",
       "      <th>B</th>\n",
       "      <th>C</th>\n",
       "      <th>D</th>\n",
       "    </tr>\n",
       "  </thead>\n",
       "  <tbody>\n",
       "    <tr>\n",
       "      <th>2013-01-01 00:00:00</th>\n",
       "      <td>-1.296630</td>\n",
       "      <td>1.730849</td>\n",
       "      <td>0.529922</td>\n",
       "      <td>-1.573009</td>\n",
       "    </tr>\n",
       "    <tr>\n",
       "      <th>2013-01-02 00:00:00</th>\n",
       "      <td>0.928303</td>\n",
       "      <td>0.244052</td>\n",
       "      <td>-0.495107</td>\n",
       "      <td>1.061582</td>\n",
       "    </tr>\n",
       "    <tr>\n",
       "      <th>2013-01-03 00:00:00</th>\n",
       "      <td>-0.141672</td>\n",
       "      <td>-1.818668</td>\n",
       "      <td>0.424409</td>\n",
       "      <td>-0.930752</td>\n",
       "    </tr>\n",
       "    <tr>\n",
       "      <th>2013-01-04 00:00:00</th>\n",
       "      <td>-0.999585</td>\n",
       "      <td>-1.263310</td>\n",
       "      <td>1.041513</td>\n",
       "      <td>-1.946209</td>\n",
       "    </tr>\n",
       "    <tr>\n",
       "      <th>2013-01-05 00:00:00</th>\n",
       "      <td>-0.967204</td>\n",
       "      <td>0.630228</td>\n",
       "      <td>1.494943</td>\n",
       "      <td>0.783996</td>\n",
       "    </tr>\n",
       "    <tr>\n",
       "      <th>2013-01-06 00:00:00</th>\n",
       "      <td>-0.549206</td>\n",
       "      <td>1.128629</td>\n",
       "      <td>0.664524</td>\n",
       "      <td>-0.776928</td>\n",
       "    </tr>\n",
       "    <tr>\n",
       "      <th>2013-01-07 00:00:00</th>\n",
       "      <td>-0.228038</td>\n",
       "      <td>-0.720137</td>\n",
       "      <td>-0.921096</td>\n",
       "      <td>-1.226550</td>\n",
       "    </tr>\n",
       "    <tr>\n",
       "      <th>2013-01-08 00:00:00</th>\n",
       "      <td>0.074494</td>\n",
       "      <td>0.320918</td>\n",
       "      <td>-0.721748</td>\n",
       "      <td>-1.423936</td>\n",
       "    </tr>\n",
       "    <tr>\n",
       "      <th>3</th>\n",
       "      <td>-0.633579</td>\n",
       "      <td>-0.605971</td>\n",
       "      <td>-1.275706</td>\n",
       "      <td>-1.191603</td>\n",
       "    </tr>\n",
       "  </tbody>\n",
       "</table>\n",
       "</div>"
      ],
      "text/plain": [
       "                            A         B         C         D\n",
       "2013-01-01 00:00:00 -1.296630  1.730849  0.529922 -1.573009\n",
       "2013-01-02 00:00:00  0.928303  0.244052 -0.495107  1.061582\n",
       "2013-01-03 00:00:00 -0.141672 -1.818668  0.424409 -0.930752\n",
       "2013-01-04 00:00:00 -0.999585 -1.263310  1.041513 -1.946209\n",
       "2013-01-05 00:00:00 -0.967204  0.630228  1.494943  0.783996\n",
       "2013-01-06 00:00:00 -0.549206  1.128629  0.664524 -0.776928\n",
       "2013-01-07 00:00:00 -0.228038 -0.720137 -0.921096 -1.226550\n",
       "2013-01-08 00:00:00  0.074494  0.320918 -0.721748 -1.423936\n",
       "3                   -0.633579 -0.605971 -1.275706 -1.191603"
      ]
     },
     "execution_count": 74,
     "metadata": {},
     "output_type": "execute_result"
    }
   ],
   "source": [
    "dfx.append(s,ignore_index=False)"
   ]
  },
  {
   "cell_type": "code",
   "execution_count": 75,
   "metadata": {
    "collapsed": false
   },
   "outputs": [
    {
     "data": {
      "text/html": [
       "<div>\n",
       "<table border=\"1\" class=\"dataframe\">\n",
       "  <thead>\n",
       "    <tr style=\"text-align: right;\">\n",
       "      <th></th>\n",
       "      <th>A</th>\n",
       "      <th>B</th>\n",
       "      <th>C</th>\n",
       "      <th>D</th>\n",
       "    </tr>\n",
       "  </thead>\n",
       "  <tbody>\n",
       "    <tr>\n",
       "      <th>0</th>\n",
       "      <td>foo</td>\n",
       "      <td>one</td>\n",
       "      <td>1.118197</td>\n",
       "      <td>0.689369</td>\n",
       "    </tr>\n",
       "    <tr>\n",
       "      <th>1</th>\n",
       "      <td>bar</td>\n",
       "      <td>one</td>\n",
       "      <td>0.637231</td>\n",
       "      <td>-0.894395</td>\n",
       "    </tr>\n",
       "    <tr>\n",
       "      <th>2</th>\n",
       "      <td>foo</td>\n",
       "      <td>two</td>\n",
       "      <td>0.613614</td>\n",
       "      <td>-1.119034</td>\n",
       "    </tr>\n",
       "    <tr>\n",
       "      <th>3</th>\n",
       "      <td>bar</td>\n",
       "      <td>three</td>\n",
       "      <td>-2.072109</td>\n",
       "      <td>-0.215185</td>\n",
       "    </tr>\n",
       "    <tr>\n",
       "      <th>4</th>\n",
       "      <td>foo</td>\n",
       "      <td>two</td>\n",
       "      <td>-0.085245</td>\n",
       "      <td>1.624013</td>\n",
       "    </tr>\n",
       "    <tr>\n",
       "      <th>5</th>\n",
       "      <td>bar</td>\n",
       "      <td>two</td>\n",
       "      <td>0.421337</td>\n",
       "      <td>-0.786302</td>\n",
       "    </tr>\n",
       "    <tr>\n",
       "      <th>6</th>\n",
       "      <td>foo</td>\n",
       "      <td>one</td>\n",
       "      <td>-0.022697</td>\n",
       "      <td>0.123334</td>\n",
       "    </tr>\n",
       "    <tr>\n",
       "      <th>7</th>\n",
       "      <td>foo</td>\n",
       "      <td>three</td>\n",
       "      <td>0.008336</td>\n",
       "      <td>-0.358561</td>\n",
       "    </tr>\n",
       "  </tbody>\n",
       "</table>\n",
       "</div>"
      ],
      "text/plain": [
       "     A      B         C         D\n",
       "0  foo    one  1.118197  0.689369\n",
       "1  bar    one  0.637231 -0.894395\n",
       "2  foo    two  0.613614 -1.119034\n",
       "3  bar  three -2.072109 -0.215185\n",
       "4  foo    two -0.085245  1.624013\n",
       "5  bar    two  0.421337 -0.786302\n",
       "6  foo    one -0.022697  0.123334\n",
       "7  foo  three  0.008336 -0.358561"
      ]
     },
     "execution_count": 75,
     "metadata": {},
     "output_type": "execute_result"
    }
   ],
   "source": [
    "df = pd.DataFrame({'A' : ['foo', 'bar', 'foo', 'bar',\n",
    "                         'foo', 'bar', 'foo', 'foo'],\n",
    "                 'B' : ['one', 'one', 'two', 'three',\n",
    "                        'two', 'two', 'one', 'three'],\n",
    "                 'C' : np.random.randn(8),\n",
    "                 'D' : np.random.randn(8)})\n",
    "df\n",
    "\n"
   ]
  },
  {
   "cell_type": "code",
   "execution_count": 76,
   "metadata": {
    "collapsed": false
   },
   "outputs": [
    {
     "data": {
      "text/html": [
       "<div>\n",
       "<table border=\"1\" class=\"dataframe\">\n",
       "  <thead>\n",
       "    <tr style=\"text-align: right;\">\n",
       "      <th></th>\n",
       "      <th></th>\n",
       "      <th>C</th>\n",
       "      <th>D</th>\n",
       "    </tr>\n",
       "    <tr>\n",
       "      <th>A</th>\n",
       "      <th>B</th>\n",
       "      <th></th>\n",
       "      <th></th>\n",
       "    </tr>\n",
       "  </thead>\n",
       "  <tbody>\n",
       "    <tr>\n",
       "      <th rowspan=\"3\" valign=\"top\">bar</th>\n",
       "      <th>one</th>\n",
       "      <td>0.637231</td>\n",
       "      <td>-0.894395</td>\n",
       "    </tr>\n",
       "    <tr>\n",
       "      <th>three</th>\n",
       "      <td>-2.072109</td>\n",
       "      <td>-0.215185</td>\n",
       "    </tr>\n",
       "    <tr>\n",
       "      <th>two</th>\n",
       "      <td>0.421337</td>\n",
       "      <td>-0.786302</td>\n",
       "    </tr>\n",
       "    <tr>\n",
       "      <th rowspan=\"3\" valign=\"top\">foo</th>\n",
       "      <th>one</th>\n",
       "      <td>1.095500</td>\n",
       "      <td>0.812704</td>\n",
       "    </tr>\n",
       "    <tr>\n",
       "      <th>three</th>\n",
       "      <td>0.008336</td>\n",
       "      <td>-0.358561</td>\n",
       "    </tr>\n",
       "    <tr>\n",
       "      <th>two</th>\n",
       "      <td>0.528368</td>\n",
       "      <td>0.504980</td>\n",
       "    </tr>\n",
       "  </tbody>\n",
       "</table>\n",
       "</div>"
      ],
      "text/plain": [
       "                  C         D\n",
       "A   B                        \n",
       "bar one    0.637231 -0.894395\n",
       "    three -2.072109 -0.215185\n",
       "    two    0.421337 -0.786302\n",
       "foo one    1.095500  0.812704\n",
       "    three  0.008336 -0.358561\n",
       "    two    0.528368  0.504980"
      ]
     },
     "execution_count": 76,
     "metadata": {},
     "output_type": "execute_result"
    }
   ],
   "source": [
    "test = df.groupby(['A','B']).sum()\n",
    "test"
   ]
  },
  {
   "cell_type": "code",
   "execution_count": 77,
   "metadata": {
    "collapsed": false
   },
   "outputs": [
    {
     "data": {
      "text/plain": [
       "C    0.637231\n",
       "D   -0.894395\n",
       "Name: (bar, one), dtype: float64"
      ]
     },
     "execution_count": 77,
     "metadata": {},
     "output_type": "execute_result"
    }
   ],
   "source": [
    "test.iloc[0]"
   ]
  },
  {
   "cell_type": "code",
   "execution_count": 78,
   "metadata": {
    "collapsed": false
   },
   "outputs": [
    {
     "data": {
      "text/html": [
       "<div>\n",
       "<table border=\"1\" class=\"dataframe\">\n",
       "  <thead>\n",
       "    <tr style=\"text-align: right;\">\n",
       "      <th></th>\n",
       "      <th></th>\n",
       "      <th>C</th>\n",
       "      <th>D</th>\n",
       "    </tr>\n",
       "    <tr>\n",
       "      <th>A</th>\n",
       "      <th>B</th>\n",
       "      <th></th>\n",
       "      <th></th>\n",
       "    </tr>\n",
       "  </thead>\n",
       "  <tbody>\n",
       "    <tr>\n",
       "      <th rowspan=\"3\" valign=\"top\">bar</th>\n",
       "      <th>one</th>\n",
       "      <td>0.637231</td>\n",
       "      <td>-0.894395</td>\n",
       "    </tr>\n",
       "    <tr>\n",
       "      <th>three</th>\n",
       "      <td>-2.072109</td>\n",
       "      <td>-0.215185</td>\n",
       "    </tr>\n",
       "    <tr>\n",
       "      <th>two</th>\n",
       "      <td>0.421337</td>\n",
       "      <td>-0.786302</td>\n",
       "    </tr>\n",
       "    <tr>\n",
       "      <th rowspan=\"3\" valign=\"top\">foo</th>\n",
       "      <th>one</th>\n",
       "      <td>1.095500</td>\n",
       "      <td>0.812704</td>\n",
       "    </tr>\n",
       "    <tr>\n",
       "      <th>three</th>\n",
       "      <td>0.008336</td>\n",
       "      <td>-0.358561</td>\n",
       "    </tr>\n",
       "    <tr>\n",
       "      <th>two</th>\n",
       "      <td>0.528368</td>\n",
       "      <td>0.504980</td>\n",
       "    </tr>\n",
       "  </tbody>\n",
       "</table>\n",
       "</div>"
      ],
      "text/plain": [
       "                  C         D\n",
       "A   B                        \n",
       "bar one    0.637231 -0.894395\n",
       "    three -2.072109 -0.215185\n",
       "    two    0.421337 -0.786302\n",
       "foo one    1.095500  0.812704\n",
       "    three  0.008336 -0.358561\n",
       "    two    0.528368  0.504980"
      ]
     },
     "execution_count": 78,
     "metadata": {},
     "output_type": "execute_result"
    }
   ],
   "source": [
    "test"
   ]
  },
  {
   "cell_type": "code",
   "execution_count": 79,
   "metadata": {
    "collapsed": false
   },
   "outputs": [
    {
     "data": {
      "text/plain": [
       "C    float64\n",
       "D    float64\n",
       "dtype: object"
      ]
     },
     "execution_count": 79,
     "metadata": {},
     "output_type": "execute_result"
    }
   ],
   "source": [
    "test.dtypes"
   ]
  },
  {
   "cell_type": "code",
   "execution_count": 80,
   "metadata": {
    "collapsed": false
   },
   "outputs": [
    {
     "data": {
      "text/plain": [
       "[('bar', 'one'),\n",
       " ('bar', 'two'),\n",
       " ('baz', 'one'),\n",
       " ('baz', 'two'),\n",
       " ('foo', 'one'),\n",
       " ('foo', 'two'),\n",
       " ('qux', 'one'),\n",
       " ('qux', 'two')]"
      ]
     },
     "execution_count": 80,
     "metadata": {},
     "output_type": "execute_result"
    }
   ],
   "source": [
    "tuples = list(zip(*[['bar', 'bar', 'baz', 'baz',\n",
    "                   'foo', 'foo', 'qux', 'qux'],\n",
    "                     ['one', 'two', 'one', 'two',\n",
    "                      'one', 'two', 'one', 'two']]))\n",
    "tuples"
   ]
  },
  {
   "cell_type": "code",
   "execution_count": 81,
   "metadata": {
    "collapsed": false
   },
   "outputs": [
    {
     "data": {
      "text/plain": [
       "[('bar', 'one'), ('bar', 'two'), ('baz', 'one')]"
      ]
     },
     "execution_count": 81,
     "metadata": {},
     "output_type": "execute_result"
    }
   ],
   "source": [
    "tuples[0:3]"
   ]
  },
  {
   "cell_type": "code",
   "execution_count": 82,
   "metadata": {
    "collapsed": false
   },
   "outputs": [
    {
     "data": {
      "text/plain": [
       "MultiIndex(levels=[[u'bar', u'baz', u'foo', u'qux'], [u'one', u'two']],\n",
       "           labels=[[0, 0, 1, 1, 2, 2, 3, 3], [0, 1, 0, 1, 0, 1, 0, 1]],\n",
       "           names=[u'first', u'second'])"
      ]
     },
     "execution_count": 82,
     "metadata": {},
     "output_type": "execute_result"
    }
   ],
   "source": [
    "index = pd.MultiIndex.from_tuples(tuples, names=['first', 'second'])\n",
    "\n",
    "index"
   ]
  },
  {
   "cell_type": "code",
   "execution_count": 83,
   "metadata": {
    "collapsed": false
   },
   "outputs": [
    {
     "data": {
      "text/html": [
       "<div>\n",
       "<table border=\"1\" class=\"dataframe\">\n",
       "  <thead>\n",
       "    <tr style=\"text-align: right;\">\n",
       "      <th></th>\n",
       "      <th></th>\n",
       "      <th>A</th>\n",
       "      <th>B</th>\n",
       "    </tr>\n",
       "    <tr>\n",
       "      <th>first</th>\n",
       "      <th>second</th>\n",
       "      <th></th>\n",
       "      <th></th>\n",
       "    </tr>\n",
       "  </thead>\n",
       "  <tbody>\n",
       "    <tr>\n",
       "      <th rowspan=\"2\" valign=\"top\">bar</th>\n",
       "      <th>one</th>\n",
       "      <td>0.321216</td>\n",
       "      <td>0.751657</td>\n",
       "    </tr>\n",
       "    <tr>\n",
       "      <th>two</th>\n",
       "      <td>-0.294096</td>\n",
       "      <td>-1.218466</td>\n",
       "    </tr>\n",
       "    <tr>\n",
       "      <th rowspan=\"2\" valign=\"top\">baz</th>\n",
       "      <th>one</th>\n",
       "      <td>1.392882</td>\n",
       "      <td>0.801666</td>\n",
       "    </tr>\n",
       "    <tr>\n",
       "      <th>two</th>\n",
       "      <td>0.854810</td>\n",
       "      <td>1.193161</td>\n",
       "    </tr>\n",
       "    <tr>\n",
       "      <th rowspan=\"2\" valign=\"top\">foo</th>\n",
       "      <th>one</th>\n",
       "      <td>-0.272345</td>\n",
       "      <td>1.138288</td>\n",
       "    </tr>\n",
       "    <tr>\n",
       "      <th>two</th>\n",
       "      <td>-0.553568</td>\n",
       "      <td>-1.237898</td>\n",
       "    </tr>\n",
       "    <tr>\n",
       "      <th rowspan=\"2\" valign=\"top\">qux</th>\n",
       "      <th>one</th>\n",
       "      <td>0.179598</td>\n",
       "      <td>-0.791688</td>\n",
       "    </tr>\n",
       "    <tr>\n",
       "      <th>two</th>\n",
       "      <td>1.093211</td>\n",
       "      <td>-0.480788</td>\n",
       "    </tr>\n",
       "  </tbody>\n",
       "</table>\n",
       "</div>"
      ],
      "text/plain": [
       "                     A         B\n",
       "first second                    \n",
       "bar   one     0.321216  0.751657\n",
       "      two    -0.294096 -1.218466\n",
       "baz   one     1.392882  0.801666\n",
       "      two     0.854810  1.193161\n",
       "foo   one    -0.272345  1.138288\n",
       "      two    -0.553568 -1.237898\n",
       "qux   one     0.179598 -0.791688\n",
       "      two     1.093211 -0.480788"
      ]
     },
     "execution_count": 83,
     "metadata": {},
     "output_type": "execute_result"
    }
   ],
   "source": [
    "df=pd.DataFrame(np.random.randn(8,2),index=index,columns=['A','B'])\n",
    "df"
   ]
  },
  {
   "cell_type": "code",
   "execution_count": 84,
   "metadata": {
    "collapsed": false
   },
   "outputs": [
    {
     "data": {
      "text/html": [
       "<div>\n",
       "<table border=\"1\" class=\"dataframe\">\n",
       "  <thead>\n",
       "    <tr style=\"text-align: right;\">\n",
       "      <th></th>\n",
       "      <th></th>\n",
       "      <th>A</th>\n",
       "      <th>B</th>\n",
       "    </tr>\n",
       "    <tr>\n",
       "      <th>first</th>\n",
       "      <th>second</th>\n",
       "      <th></th>\n",
       "      <th></th>\n",
       "    </tr>\n",
       "  </thead>\n",
       "  <tbody>\n",
       "    <tr>\n",
       "      <th rowspan=\"2\" valign=\"top\">bar</th>\n",
       "      <th>one</th>\n",
       "      <td>0.321216</td>\n",
       "      <td>0.751657</td>\n",
       "    </tr>\n",
       "    <tr>\n",
       "      <th>two</th>\n",
       "      <td>-0.294096</td>\n",
       "      <td>-1.218466</td>\n",
       "    </tr>\n",
       "    <tr>\n",
       "      <th rowspan=\"2\" valign=\"top\">baz</th>\n",
       "      <th>one</th>\n",
       "      <td>1.392882</td>\n",
       "      <td>0.801666</td>\n",
       "    </tr>\n",
       "    <tr>\n",
       "      <th>two</th>\n",
       "      <td>0.854810</td>\n",
       "      <td>1.193161</td>\n",
       "    </tr>\n",
       "  </tbody>\n",
       "</table>\n",
       "</div>"
      ],
      "text/plain": [
       "                     A         B\n",
       "first second                    \n",
       "bar   one     0.321216  0.751657\n",
       "      two    -0.294096 -1.218466\n",
       "baz   one     1.392882  0.801666\n",
       "      two     0.854810  1.193161"
      ]
     },
     "execution_count": 84,
     "metadata": {},
     "output_type": "execute_result"
    }
   ],
   "source": [
    "df2=df[:4]\n",
    "df2"
   ]
  },
  {
   "cell_type": "code",
   "execution_count": 85,
   "metadata": {
    "collapsed": false
   },
   "outputs": [
    {
     "data": {
      "text/plain": [
       "first  second   \n",
       "bar    one     A    0.321216\n",
       "               B    0.751657\n",
       "       two     A   -0.294096\n",
       "               B   -1.218466\n",
       "baz    one     A    1.392882\n",
       "               B    0.801666\n",
       "       two     A    0.854810\n",
       "               B    1.193161\n",
       "dtype: float64"
      ]
     },
     "execution_count": 85,
     "metadata": {},
     "output_type": "execute_result"
    }
   ],
   "source": [
    "stacked=df2.stack()\n",
    "stacked"
   ]
  },
  {
   "cell_type": "code",
   "execution_count": 86,
   "metadata": {
    "collapsed": false
   },
   "outputs": [
    {
     "data": {
      "text/html": [
       "<div>\n",
       "<table border=\"1\" class=\"dataframe\">\n",
       "  <thead>\n",
       "    <tr style=\"text-align: right;\">\n",
       "      <th></th>\n",
       "      <th></th>\n",
       "      <th>A</th>\n",
       "      <th>B</th>\n",
       "    </tr>\n",
       "    <tr>\n",
       "      <th>first</th>\n",
       "      <th>second</th>\n",
       "      <th></th>\n",
       "      <th></th>\n",
       "    </tr>\n",
       "  </thead>\n",
       "  <tbody>\n",
       "    <tr>\n",
       "      <th rowspan=\"2\" valign=\"top\">bar</th>\n",
       "      <th>one</th>\n",
       "      <td>0.321216</td>\n",
       "      <td>0.751657</td>\n",
       "    </tr>\n",
       "    <tr>\n",
       "      <th>two</th>\n",
       "      <td>-0.294096</td>\n",
       "      <td>-1.218466</td>\n",
       "    </tr>\n",
       "    <tr>\n",
       "      <th rowspan=\"2\" valign=\"top\">baz</th>\n",
       "      <th>one</th>\n",
       "      <td>1.392882</td>\n",
       "      <td>0.801666</td>\n",
       "    </tr>\n",
       "    <tr>\n",
       "      <th>two</th>\n",
       "      <td>0.854810</td>\n",
       "      <td>1.193161</td>\n",
       "    </tr>\n",
       "  </tbody>\n",
       "</table>\n",
       "</div>"
      ],
      "text/plain": [
       "                     A         B\n",
       "first second                    \n",
       "bar   one     0.321216  0.751657\n",
       "      two    -0.294096 -1.218466\n",
       "baz   one     1.392882  0.801666\n",
       "      two     0.854810  1.193161"
      ]
     },
     "execution_count": 86,
     "metadata": {},
     "output_type": "execute_result"
    }
   ],
   "source": [
    "stacked.unstack()"
   ]
  },
  {
   "cell_type": "code",
   "execution_count": 87,
   "metadata": {
    "collapsed": false
   },
   "outputs": [
    {
     "data": {
      "text/html": [
       "<div>\n",
       "<table border=\"1\" class=\"dataframe\">\n",
       "  <thead>\n",
       "    <tr style=\"text-align: right;\">\n",
       "      <th></th>\n",
       "      <th>second</th>\n",
       "      <th>one</th>\n",
       "      <th>two</th>\n",
       "    </tr>\n",
       "    <tr>\n",
       "      <th>first</th>\n",
       "      <th></th>\n",
       "      <th></th>\n",
       "      <th></th>\n",
       "    </tr>\n",
       "  </thead>\n",
       "  <tbody>\n",
       "    <tr>\n",
       "      <th rowspan=\"2\" valign=\"top\">bar</th>\n",
       "      <th>A</th>\n",
       "      <td>0.321216</td>\n",
       "      <td>-0.294096</td>\n",
       "    </tr>\n",
       "    <tr>\n",
       "      <th>B</th>\n",
       "      <td>0.751657</td>\n",
       "      <td>-1.218466</td>\n",
       "    </tr>\n",
       "    <tr>\n",
       "      <th rowspan=\"2\" valign=\"top\">baz</th>\n",
       "      <th>A</th>\n",
       "      <td>1.392882</td>\n",
       "      <td>0.854810</td>\n",
       "    </tr>\n",
       "    <tr>\n",
       "      <th>B</th>\n",
       "      <td>0.801666</td>\n",
       "      <td>1.193161</td>\n",
       "    </tr>\n",
       "  </tbody>\n",
       "</table>\n",
       "</div>"
      ],
      "text/plain": [
       "second        one       two\n",
       "first                      \n",
       "bar   A  0.321216 -0.294096\n",
       "      B  0.751657 -1.218466\n",
       "baz   A  1.392882  0.854810\n",
       "      B  0.801666  1.193161"
      ]
     },
     "execution_count": 87,
     "metadata": {},
     "output_type": "execute_result"
    }
   ],
   "source": [
    "stacked.unstack(1)"
   ]
  },
  {
   "cell_type": "code",
   "execution_count": 88,
   "metadata": {
    "collapsed": false
   },
   "outputs": [
    {
     "data": {
      "text/html": [
       "<div>\n",
       "<table border=\"1\" class=\"dataframe\">\n",
       "  <thead>\n",
       "    <tr style=\"text-align: right;\">\n",
       "      <th></th>\n",
       "      <th>first</th>\n",
       "      <th>bar</th>\n",
       "      <th>baz</th>\n",
       "    </tr>\n",
       "    <tr>\n",
       "      <th>second</th>\n",
       "      <th></th>\n",
       "      <th></th>\n",
       "      <th></th>\n",
       "    </tr>\n",
       "  </thead>\n",
       "  <tbody>\n",
       "    <tr>\n",
       "      <th rowspan=\"2\" valign=\"top\">one</th>\n",
       "      <th>A</th>\n",
       "      <td>0.321216</td>\n",
       "      <td>1.392882</td>\n",
       "    </tr>\n",
       "    <tr>\n",
       "      <th>B</th>\n",
       "      <td>0.751657</td>\n",
       "      <td>0.801666</td>\n",
       "    </tr>\n",
       "    <tr>\n",
       "      <th rowspan=\"2\" valign=\"top\">two</th>\n",
       "      <th>A</th>\n",
       "      <td>-0.294096</td>\n",
       "      <td>0.854810</td>\n",
       "    </tr>\n",
       "    <tr>\n",
       "      <th>B</th>\n",
       "      <td>-1.218466</td>\n",
       "      <td>1.193161</td>\n",
       "    </tr>\n",
       "  </tbody>\n",
       "</table>\n",
       "</div>"
      ],
      "text/plain": [
       "first          bar       baz\n",
       "second                      \n",
       "one    A  0.321216  1.392882\n",
       "       B  0.751657  0.801666\n",
       "two    A -0.294096  0.854810\n",
       "       B -1.218466  1.193161"
      ]
     },
     "execution_count": 88,
     "metadata": {},
     "output_type": "execute_result"
    }
   ],
   "source": [
    "stacked.unstack(0)"
   ]
  },
  {
   "cell_type": "code",
   "execution_count": 89,
   "metadata": {
    "collapsed": false
   },
   "outputs": [
    {
     "data": {
      "text/html": [
       "<div>\n",
       "<table border=\"1\" class=\"dataframe\">\n",
       "  <thead>\n",
       "    <tr style=\"text-align: right;\">\n",
       "      <th></th>\n",
       "      <th>A</th>\n",
       "      <th>B</th>\n",
       "      <th>C</th>\n",
       "      <th>D</th>\n",
       "      <th>E</th>\n",
       "      <th>F</th>\n",
       "    </tr>\n",
       "  </thead>\n",
       "  <tbody>\n",
       "    <tr>\n",
       "      <th>0</th>\n",
       "      <td>one</td>\n",
       "      <td>A</td>\n",
       "      <td>foo</td>\n",
       "      <td>-0.004278</td>\n",
       "      <td>-0.187813</td>\n",
       "      <td>X</td>\n",
       "    </tr>\n",
       "    <tr>\n",
       "      <th>1</th>\n",
       "      <td>one</td>\n",
       "      <td>B</td>\n",
       "      <td>foo</td>\n",
       "      <td>-0.565102</td>\n",
       "      <td>1.653670</td>\n",
       "      <td>Y</td>\n",
       "    </tr>\n",
       "    <tr>\n",
       "      <th>2</th>\n",
       "      <td>two</td>\n",
       "      <td>C</td>\n",
       "      <td>foo</td>\n",
       "      <td>-0.327264</td>\n",
       "      <td>0.087699</td>\n",
       "      <td>Z</td>\n",
       "    </tr>\n",
       "    <tr>\n",
       "      <th>3</th>\n",
       "      <td>three</td>\n",
       "      <td>A</td>\n",
       "      <td>bar</td>\n",
       "      <td>-1.402794</td>\n",
       "      <td>-2.056667</td>\n",
       "      <td>AA</td>\n",
       "    </tr>\n",
       "    <tr>\n",
       "      <th>4</th>\n",
       "      <td>one</td>\n",
       "      <td>B</td>\n",
       "      <td>bar</td>\n",
       "      <td>2.111125</td>\n",
       "      <td>0.391151</td>\n",
       "      <td>BB</td>\n",
       "    </tr>\n",
       "    <tr>\n",
       "      <th>5</th>\n",
       "      <td>one</td>\n",
       "      <td>C</td>\n",
       "      <td>bar</td>\n",
       "      <td>-0.579949</td>\n",
       "      <td>0.102191</td>\n",
       "      <td>CC</td>\n",
       "    </tr>\n",
       "    <tr>\n",
       "      <th>6</th>\n",
       "      <td>two</td>\n",
       "      <td>A</td>\n",
       "      <td>foo</td>\n",
       "      <td>0.238987</td>\n",
       "      <td>-0.033823</td>\n",
       "      <td>X</td>\n",
       "    </tr>\n",
       "    <tr>\n",
       "      <th>7</th>\n",
       "      <td>three</td>\n",
       "      <td>B</td>\n",
       "      <td>foo</td>\n",
       "      <td>0.662107</td>\n",
       "      <td>1.595920</td>\n",
       "      <td>Y</td>\n",
       "    </tr>\n",
       "    <tr>\n",
       "      <th>8</th>\n",
       "      <td>one</td>\n",
       "      <td>C</td>\n",
       "      <td>foo</td>\n",
       "      <td>-1.068767</td>\n",
       "      <td>0.739041</td>\n",
       "      <td>Z</td>\n",
       "    </tr>\n",
       "    <tr>\n",
       "      <th>9</th>\n",
       "      <td>one</td>\n",
       "      <td>A</td>\n",
       "      <td>bar</td>\n",
       "      <td>-0.923676</td>\n",
       "      <td>-2.038402</td>\n",
       "      <td>AA</td>\n",
       "    </tr>\n",
       "    <tr>\n",
       "      <th>10</th>\n",
       "      <td>two</td>\n",
       "      <td>B</td>\n",
       "      <td>bar</td>\n",
       "      <td>-0.311514</td>\n",
       "      <td>-1.805270</td>\n",
       "      <td>BB</td>\n",
       "    </tr>\n",
       "    <tr>\n",
       "      <th>11</th>\n",
       "      <td>three</td>\n",
       "      <td>C</td>\n",
       "      <td>bar</td>\n",
       "      <td>-0.964458</td>\n",
       "      <td>-0.414628</td>\n",
       "      <td>CC</td>\n",
       "    </tr>\n",
       "  </tbody>\n",
       "</table>\n",
       "</div>"
      ],
      "text/plain": [
       "        A  B    C         D         E   F\n",
       "0     one  A  foo -0.004278 -0.187813   X\n",
       "1     one  B  foo -0.565102  1.653670   Y\n",
       "2     two  C  foo -0.327264  0.087699   Z\n",
       "3   three  A  bar -1.402794 -2.056667  AA\n",
       "4     one  B  bar  2.111125  0.391151  BB\n",
       "5     one  C  bar -0.579949  0.102191  CC\n",
       "6     two  A  foo  0.238987 -0.033823   X\n",
       "7   three  B  foo  0.662107  1.595920   Y\n",
       "8     one  C  foo -1.068767  0.739041   Z\n",
       "9     one  A  bar -0.923676 -2.038402  AA\n",
       "10    two  B  bar -0.311514 -1.805270  BB\n",
       "11  three  C  bar -0.964458 -0.414628  CC"
      ]
     },
     "execution_count": 89,
     "metadata": {},
     "output_type": "execute_result"
    }
   ],
   "source": [
    "df = pd.DataFrame({'A' : ['one', 'one', 'two', 'three'] * 3,\n",
    "               'B' : ['A', 'B', 'C'] * 4,\n",
    "                 'C' : ['foo', 'foo', 'foo', 'bar', 'bar', 'bar'] * 2,\n",
    "                   'D' : np.random.randn(12),\n",
    "                   'E' : np.random.randn(12),\n",
    "                  'F' : ['X', 'Y', 'Z','AA','BB','CC'] * 2,\n",
    "                  })\n",
    "df"
   ]
  },
  {
   "cell_type": "code",
   "execution_count": 90,
   "metadata": {
    "collapsed": false
   },
   "outputs": [
    {
     "data": {
      "text/html": [
       "<div>\n",
       "<table border=\"1\" class=\"dataframe\">\n",
       "  <thead>\n",
       "    <tr>\n",
       "      <th></th>\n",
       "      <th>C</th>\n",
       "      <th colspan=\"3\" halign=\"left\">bar</th>\n",
       "      <th colspan=\"3\" halign=\"left\">foo</th>\n",
       "    </tr>\n",
       "    <tr>\n",
       "      <th></th>\n",
       "      <th>F</th>\n",
       "      <th>AA</th>\n",
       "      <th>BB</th>\n",
       "      <th>CC</th>\n",
       "      <th>X</th>\n",
       "      <th>Y</th>\n",
       "      <th>Z</th>\n",
       "    </tr>\n",
       "    <tr>\n",
       "      <th>A</th>\n",
       "      <th>B</th>\n",
       "      <th></th>\n",
       "      <th></th>\n",
       "      <th></th>\n",
       "      <th></th>\n",
       "      <th></th>\n",
       "      <th></th>\n",
       "    </tr>\n",
       "  </thead>\n",
       "  <tbody>\n",
       "    <tr>\n",
       "      <th rowspan=\"3\" valign=\"top\">one</th>\n",
       "      <th>A</th>\n",
       "      <td>-0.923676</td>\n",
       "      <td>NaN</td>\n",
       "      <td>NaN</td>\n",
       "      <td>-0.004278</td>\n",
       "      <td>NaN</td>\n",
       "      <td>NaN</td>\n",
       "    </tr>\n",
       "    <tr>\n",
       "      <th>B</th>\n",
       "      <td>NaN</td>\n",
       "      <td>2.111125</td>\n",
       "      <td>NaN</td>\n",
       "      <td>NaN</td>\n",
       "      <td>-0.565102</td>\n",
       "      <td>NaN</td>\n",
       "    </tr>\n",
       "    <tr>\n",
       "      <th>C</th>\n",
       "      <td>NaN</td>\n",
       "      <td>NaN</td>\n",
       "      <td>-0.579949</td>\n",
       "      <td>NaN</td>\n",
       "      <td>NaN</td>\n",
       "      <td>-1.068767</td>\n",
       "    </tr>\n",
       "    <tr>\n",
       "      <th rowspan=\"3\" valign=\"top\">three</th>\n",
       "      <th>A</th>\n",
       "      <td>-1.402794</td>\n",
       "      <td>NaN</td>\n",
       "      <td>NaN</td>\n",
       "      <td>NaN</td>\n",
       "      <td>NaN</td>\n",
       "      <td>NaN</td>\n",
       "    </tr>\n",
       "    <tr>\n",
       "      <th>B</th>\n",
       "      <td>NaN</td>\n",
       "      <td>NaN</td>\n",
       "      <td>NaN</td>\n",
       "      <td>NaN</td>\n",
       "      <td>0.662107</td>\n",
       "      <td>NaN</td>\n",
       "    </tr>\n",
       "    <tr>\n",
       "      <th>C</th>\n",
       "      <td>NaN</td>\n",
       "      <td>NaN</td>\n",
       "      <td>-0.964458</td>\n",
       "      <td>NaN</td>\n",
       "      <td>NaN</td>\n",
       "      <td>NaN</td>\n",
       "    </tr>\n",
       "    <tr>\n",
       "      <th rowspan=\"3\" valign=\"top\">two</th>\n",
       "      <th>A</th>\n",
       "      <td>NaN</td>\n",
       "      <td>NaN</td>\n",
       "      <td>NaN</td>\n",
       "      <td>0.238987</td>\n",
       "      <td>NaN</td>\n",
       "      <td>NaN</td>\n",
       "    </tr>\n",
       "    <tr>\n",
       "      <th>B</th>\n",
       "      <td>NaN</td>\n",
       "      <td>-0.311514</td>\n",
       "      <td>NaN</td>\n",
       "      <td>NaN</td>\n",
       "      <td>NaN</td>\n",
       "      <td>NaN</td>\n",
       "    </tr>\n",
       "    <tr>\n",
       "      <th>C</th>\n",
       "      <td>NaN</td>\n",
       "      <td>NaN</td>\n",
       "      <td>NaN</td>\n",
       "      <td>NaN</td>\n",
       "      <td>NaN</td>\n",
       "      <td>-0.327264</td>\n",
       "    </tr>\n",
       "  </tbody>\n",
       "</table>\n",
       "</div>"
      ],
      "text/plain": [
       "C             bar                           foo                    \n",
       "F              AA        BB        CC         X         Y         Z\n",
       "A     B                                                            \n",
       "one   A -0.923676       NaN       NaN -0.004278       NaN       NaN\n",
       "      B       NaN  2.111125       NaN       NaN -0.565102       NaN\n",
       "      C       NaN       NaN -0.579949       NaN       NaN -1.068767\n",
       "three A -1.402794       NaN       NaN       NaN       NaN       NaN\n",
       "      B       NaN       NaN       NaN       NaN  0.662107       NaN\n",
       "      C       NaN       NaN -0.964458       NaN       NaN       NaN\n",
       "two   A       NaN       NaN       NaN  0.238987       NaN       NaN\n",
       "      B       NaN -0.311514       NaN       NaN       NaN       NaN\n",
       "      C       NaN       NaN       NaN       NaN       NaN -0.327264"
      ]
     },
     "execution_count": 90,
     "metadata": {},
     "output_type": "execute_result"
    }
   ],
   "source": [
    "test=pd.pivot_table(df, values='D', index=['A','B'], columns=['C','F'],aggfunc=np.sum)\n",
    "test"
   ]
  },
  {
   "cell_type": "code",
   "execution_count": 91,
   "metadata": {
    "collapsed": false
   },
   "outputs": [
    {
     "data": {
      "text/html": [
       "<div>\n",
       "<table border=\"1\" class=\"dataframe\">\n",
       "  <thead>\n",
       "    <tr>\n",
       "      <th></th>\n",
       "      <th>C</th>\n",
       "      <th colspan=\"3\" halign=\"left\">bar</th>\n",
       "      <th colspan=\"3\" halign=\"left\">foo</th>\n",
       "    </tr>\n",
       "    <tr>\n",
       "      <th></th>\n",
       "      <th>F</th>\n",
       "      <th>AA</th>\n",
       "      <th>BB</th>\n",
       "      <th>CC</th>\n",
       "      <th>X</th>\n",
       "      <th>Y</th>\n",
       "      <th>Z</th>\n",
       "    </tr>\n",
       "    <tr>\n",
       "      <th>A</th>\n",
       "      <th>B</th>\n",
       "      <th></th>\n",
       "      <th></th>\n",
       "      <th></th>\n",
       "      <th></th>\n",
       "      <th></th>\n",
       "      <th></th>\n",
       "    </tr>\n",
       "  </thead>\n",
       "  <tbody>\n",
       "    <tr>\n",
       "      <th rowspan=\"3\" valign=\"top\">one</th>\n",
       "      <th>A</th>\n",
       "      <td>-0.923676</td>\n",
       "      <td>NaN</td>\n",
       "      <td>NaN</td>\n",
       "      <td>-0.004278</td>\n",
       "      <td>NaN</td>\n",
       "      <td>NaN</td>\n",
       "    </tr>\n",
       "    <tr>\n",
       "      <th>B</th>\n",
       "      <td>NaN</td>\n",
       "      <td>2.111125</td>\n",
       "      <td>NaN</td>\n",
       "      <td>NaN</td>\n",
       "      <td>-0.565102</td>\n",
       "      <td>NaN</td>\n",
       "    </tr>\n",
       "    <tr>\n",
       "      <th>C</th>\n",
       "      <td>NaN</td>\n",
       "      <td>NaN</td>\n",
       "      <td>-0.579949</td>\n",
       "      <td>NaN</td>\n",
       "      <td>NaN</td>\n",
       "      <td>-1.068767</td>\n",
       "    </tr>\n",
       "    <tr>\n",
       "      <th rowspan=\"3\" valign=\"top\">three</th>\n",
       "      <th>A</th>\n",
       "      <td>-1.402794</td>\n",
       "      <td>NaN</td>\n",
       "      <td>NaN</td>\n",
       "      <td>NaN</td>\n",
       "      <td>NaN</td>\n",
       "      <td>NaN</td>\n",
       "    </tr>\n",
       "    <tr>\n",
       "      <th>B</th>\n",
       "      <td>NaN</td>\n",
       "      <td>NaN</td>\n",
       "      <td>NaN</td>\n",
       "      <td>NaN</td>\n",
       "      <td>0.662107</td>\n",
       "      <td>NaN</td>\n",
       "    </tr>\n",
       "    <tr>\n",
       "      <th>C</th>\n",
       "      <td>NaN</td>\n",
       "      <td>NaN</td>\n",
       "      <td>-0.964458</td>\n",
       "      <td>NaN</td>\n",
       "      <td>NaN</td>\n",
       "      <td>NaN</td>\n",
       "    </tr>\n",
       "    <tr>\n",
       "      <th rowspan=\"3\" valign=\"top\">two</th>\n",
       "      <th>A</th>\n",
       "      <td>NaN</td>\n",
       "      <td>NaN</td>\n",
       "      <td>NaN</td>\n",
       "      <td>0.238987</td>\n",
       "      <td>NaN</td>\n",
       "      <td>NaN</td>\n",
       "    </tr>\n",
       "    <tr>\n",
       "      <th>B</th>\n",
       "      <td>NaN</td>\n",
       "      <td>-0.311514</td>\n",
       "      <td>NaN</td>\n",
       "      <td>NaN</td>\n",
       "      <td>NaN</td>\n",
       "      <td>NaN</td>\n",
       "    </tr>\n",
       "    <tr>\n",
       "      <th>C</th>\n",
       "      <td>NaN</td>\n",
       "      <td>NaN</td>\n",
       "      <td>NaN</td>\n",
       "      <td>NaN</td>\n",
       "      <td>NaN</td>\n",
       "      <td>-0.327264</td>\n",
       "    </tr>\n",
       "  </tbody>\n",
       "</table>\n",
       "</div>"
      ],
      "text/plain": [
       "C             bar                           foo                    \n",
       "F              AA        BB        CC         X         Y         Z\n",
       "A     B                                                            \n",
       "one   A -0.923676       NaN       NaN -0.004278       NaN       NaN\n",
       "      B       NaN  2.111125       NaN       NaN -0.565102       NaN\n",
       "      C       NaN       NaN -0.579949       NaN       NaN -1.068767\n",
       "three A -1.402794       NaN       NaN       NaN       NaN       NaN\n",
       "      B       NaN       NaN       NaN       NaN  0.662107       NaN\n",
       "      C       NaN       NaN -0.964458       NaN       NaN       NaN\n",
       "two   A       NaN       NaN       NaN  0.238987       NaN       NaN\n",
       "      B       NaN -0.311514       NaN       NaN       NaN       NaN\n",
       "      C       NaN       NaN       NaN       NaN       NaN -0.327264"
      ]
     },
     "execution_count": 91,
     "metadata": {},
     "output_type": "execute_result"
    }
   ],
   "source": [
    "test=pd.pivot_table(df, values='D', index=['A','B'], columns=['C','F'])\n",
    "test\n"
   ]
  },
  {
   "cell_type": "code",
   "execution_count": 92,
   "metadata": {
    "collapsed": false
   },
   "outputs": [
    {
     "data": {
      "text/plain": [
       "2012-01-01    106\n",
       "2012-01-02    446\n",
       "2012-01-03     48\n",
       "2012-01-04    189\n",
       "2012-01-05    368\n",
       "2012-01-06    104\n",
       "2012-01-07      2\n",
       "2012-01-08    213\n",
       "2012-01-09    356\n",
       "2012-01-10    465\n",
       "2012-01-11     43\n",
       "2012-01-12    443\n",
       "2012-01-13    401\n",
       "2012-01-14    475\n",
       "2012-01-15    237\n",
       "2012-01-16     73\n",
       "2012-01-17    164\n",
       "2012-01-18    441\n",
       "2012-01-19    332\n",
       "2012-01-20    142\n",
       "2012-01-21     57\n",
       "2012-01-22     50\n",
       "2012-01-23    271\n",
       "2012-01-24    350\n",
       "2012-01-25    200\n",
       "2012-01-26    221\n",
       "2012-01-27     30\n",
       "2012-01-28    367\n",
       "2012-01-29    426\n",
       "2012-01-30    265\n",
       "             ... \n",
       "2012-03-11     95\n",
       "2012-03-12    157\n",
       "2012-03-13    276\n",
       "2012-03-14    148\n",
       "2012-03-15    347\n",
       "2012-03-16    146\n",
       "2012-03-17    373\n",
       "2012-03-18    224\n",
       "2012-03-19     46\n",
       "2012-03-20     31\n",
       "2012-03-21    223\n",
       "2012-03-22    484\n",
       "2012-03-23    389\n",
       "2012-03-24    168\n",
       "2012-03-25    356\n",
       "2012-03-26    330\n",
       "2012-03-27    106\n",
       "2012-03-28    483\n",
       "2012-03-29    254\n",
       "2012-03-30    419\n",
       "2012-03-31    480\n",
       "2012-04-01    491\n",
       "2012-04-02    156\n",
       "2012-04-03    244\n",
       "2012-04-04    231\n",
       "2012-04-05    429\n",
       "2012-04-06    205\n",
       "2012-04-07     36\n",
       "2012-04-08    353\n",
       "2012-04-09    474\n",
       "Freq: D, dtype: int64"
      ]
     },
     "execution_count": 92,
     "metadata": {},
     "output_type": "execute_result"
    }
   ],
   "source": [
    "rng=pd.date_range('1/1/2012',periods=100,fres='S')\n",
    "ts=pd.Series(np.random.randint(0,500,len(rng)),index=rng)\n",
    "ts"
   ]
  },
  {
   "cell_type": "code",
   "execution_count": 93,
   "metadata": {
    "collapsed": false
   },
   "outputs": [
    {
     "data": {
      "text/plain": [
       "2012-01-01 00:00:00    106.0\n",
       "2012-01-01 04:00:00      NaN\n",
       "2012-01-01 08:00:00      NaN\n",
       "2012-01-01 12:00:00      NaN\n",
       "2012-01-01 16:00:00      NaN\n",
       "2012-01-01 20:00:00      NaN\n",
       "2012-01-02 00:00:00    446.0\n",
       "2012-01-02 04:00:00      NaN\n",
       "2012-01-02 08:00:00      NaN\n",
       "2012-01-02 12:00:00      NaN\n",
       "2012-01-02 16:00:00      NaN\n",
       "2012-01-02 20:00:00      NaN\n",
       "2012-01-03 00:00:00     48.0\n",
       "2012-01-03 04:00:00      NaN\n",
       "2012-01-03 08:00:00      NaN\n",
       "2012-01-03 12:00:00      NaN\n",
       "2012-01-03 16:00:00      NaN\n",
       "2012-01-03 20:00:00      NaN\n",
       "2012-01-04 00:00:00    189.0\n",
       "2012-01-04 04:00:00      NaN\n",
       "2012-01-04 08:00:00      NaN\n",
       "2012-01-04 12:00:00      NaN\n",
       "2012-01-04 16:00:00      NaN\n",
       "2012-01-04 20:00:00      NaN\n",
       "2012-01-05 00:00:00    368.0\n",
       "2012-01-05 04:00:00      NaN\n",
       "2012-01-05 08:00:00      NaN\n",
       "2012-01-05 12:00:00      NaN\n",
       "2012-01-05 16:00:00      NaN\n",
       "2012-01-05 20:00:00      NaN\n",
       "                       ...  \n",
       "2012-04-04 04:00:00      NaN\n",
       "2012-04-04 08:00:00      NaN\n",
       "2012-04-04 12:00:00      NaN\n",
       "2012-04-04 16:00:00      NaN\n",
       "2012-04-04 20:00:00      NaN\n",
       "2012-04-05 00:00:00    429.0\n",
       "2012-04-05 04:00:00      NaN\n",
       "2012-04-05 08:00:00      NaN\n",
       "2012-04-05 12:00:00      NaN\n",
       "2012-04-05 16:00:00      NaN\n",
       "2012-04-05 20:00:00      NaN\n",
       "2012-04-06 00:00:00    205.0\n",
       "2012-04-06 04:00:00      NaN\n",
       "2012-04-06 08:00:00      NaN\n",
       "2012-04-06 12:00:00      NaN\n",
       "2012-04-06 16:00:00      NaN\n",
       "2012-04-06 20:00:00      NaN\n",
       "2012-04-07 00:00:00     36.0\n",
       "2012-04-07 04:00:00      NaN\n",
       "2012-04-07 08:00:00      NaN\n",
       "2012-04-07 12:00:00      NaN\n",
       "2012-04-07 16:00:00      NaN\n",
       "2012-04-07 20:00:00      NaN\n",
       "2012-04-08 00:00:00    353.0\n",
       "2012-04-08 04:00:00      NaN\n",
       "2012-04-08 08:00:00      NaN\n",
       "2012-04-08 12:00:00      NaN\n",
       "2012-04-08 16:00:00      NaN\n",
       "2012-04-08 20:00:00      NaN\n",
       "2012-04-09 00:00:00    474.0\n",
       "Freq: 4H, dtype: float64"
      ]
     },
     "execution_count": 93,
     "metadata": {},
     "output_type": "execute_result"
    }
   ],
   "source": [
    "ts.resample('4H').sum()"
   ]
  },
  {
   "cell_type": "code",
   "execution_count": 94,
   "metadata": {
    "collapsed": false
   },
   "outputs": [
    {
     "data": {
      "text/plain": [
       "DatetimeIndex(['2012-03-16', '2012-03-17', '2012-03-18', '2012-03-19',\n",
       "               '2012-03-20'],\n",
       "              dtype='datetime64[ns]', freq='D')"
      ]
     },
     "execution_count": 94,
     "metadata": {},
     "output_type": "execute_result"
    }
   ],
   "source": [
    "rng=pd.date_range('3/16/2012 00:00', periods=5, freq='D')\n",
    "rng"
   ]
  },
  {
   "cell_type": "code",
   "execution_count": 95,
   "metadata": {
    "collapsed": false
   },
   "outputs": [
    {
     "data": {
      "text/plain": [
       "2012-03-16    0.988798\n",
       "2012-03-17    0.177582\n",
       "2012-03-18    0.738329\n",
       "2012-03-19    0.211176\n",
       "2012-03-20    0.970334\n",
       "Freq: D, dtype: float64"
      ]
     },
     "execution_count": 95,
     "metadata": {},
     "output_type": "execute_result"
    }
   ],
   "source": [
    "ts=pd.Series(np.random.rand(len(rng)),rng)\n",
    "ts"
   ]
  },
  {
   "cell_type": "code",
   "execution_count": 96,
   "metadata": {
    "collapsed": false
   },
   "outputs": [
    {
     "data": {
      "text/plain": [
       "2012-03-16 00:00:00+00:00    0.988798\n",
       "2012-03-17 00:00:00+00:00    0.177582\n",
       "2012-03-18 00:00:00+00:00    0.738329\n",
       "2012-03-19 00:00:00+00:00    0.211176\n",
       "2012-03-20 00:00:00+00:00    0.970334\n",
       "Freq: D, dtype: float64"
      ]
     },
     "execution_count": 96,
     "metadata": {},
     "output_type": "execute_result"
    }
   ],
   "source": [
    "ts_utc=ts.tz_localize('UTC')\n",
    "ts_utc"
   ]
  },
  {
   "cell_type": "code",
   "execution_count": 97,
   "metadata": {
    "collapsed": false
   },
   "outputs": [
    {
     "data": {
      "text/plain": [
       "2012-03-15 20:00:00-04:00    0.988798\n",
       "2012-03-16 20:00:00-04:00    0.177582\n",
       "2012-03-17 20:00:00-04:00    0.738329\n",
       "2012-03-18 20:00:00-04:00    0.211176\n",
       "2012-03-19 20:00:00-04:00    0.970334\n",
       "Freq: D, dtype: float64"
      ]
     },
     "execution_count": 97,
     "metadata": {},
     "output_type": "execute_result"
    }
   ],
   "source": [
    "ts_utc.tz_convert('US/Eastern')"
   ]
  },
  {
   "cell_type": "code",
   "execution_count": 98,
   "metadata": {
    "collapsed": false
   },
   "outputs": [
    {
     "data": {
      "text/plain": [
       "2012-01-31   -1.139606\n",
       "2012-02-29   -0.499997\n",
       "2012-03-31    0.831508\n",
       "2012-04-30   -0.526038\n",
       "2012-05-31    0.047284\n",
       "2012-06-30   -1.918781\n",
       "2012-07-31    0.422430\n",
       "2012-08-31    0.008860\n",
       "2012-09-30   -1.031047\n",
       "2012-10-31    1.024968\n",
       "2012-11-30   -0.489158\n",
       "2012-12-31   -1.202973\n",
       "Freq: M, dtype: float64"
      ]
     },
     "execution_count": 98,
     "metadata": {},
     "output_type": "execute_result"
    }
   ],
   "source": [
    "rng=pd.date_range('1/1/2012', periods=12, freq='M')\n",
    "ts=pd.Series(np.random.randn(len(rng)),index=rng)\n",
    "ts"
   ]
  },
  {
   "cell_type": "code",
   "execution_count": 99,
   "metadata": {
    "collapsed": false
   },
   "outputs": [
    {
     "data": {
      "text/plain": [
       "2012-01-31   -1.139606\n",
       "2012-02-29   -0.499997\n",
       "2012-03-31    0.831508\n",
       "2012-04-30   -0.526038\n",
       "2012-05-31    0.047284\n",
       "2012-06-30   -1.918781\n",
       "2012-07-31    0.422430\n",
       "2012-08-31    0.008860\n",
       "2012-09-30   -1.031047\n",
       "2012-10-31    1.024968\n",
       "2012-11-30   -0.489158\n",
       "2012-12-31   -1.202973\n",
       "Freq: D, dtype: float64"
      ]
     },
     "execution_count": 99,
     "metadata": {},
     "output_type": "execute_result"
    }
   ],
   "source": [
    "ps=ts.to_period('d')\n",
    "ps"
   ]
  },
  {
   "cell_type": "code",
   "execution_count": 100,
   "metadata": {
    "collapsed": false
   },
   "outputs": [
    {
     "data": {
      "text/plain": [
       "2012-03-31   -1.139606\n",
       "2012-03-31   -0.499997\n",
       "2012-03-31    0.831508\n",
       "2012-06-30   -0.526038\n",
       "2012-06-30    0.047284\n",
       "2012-06-30   -1.918781\n",
       "2012-09-30    0.422430\n",
       "2012-09-30    0.008860\n",
       "2012-09-30   -1.031047\n",
       "2012-12-31    1.024968\n",
       "2012-12-31   -0.489158\n",
       "2012-12-31   -1.202973\n",
       "dtype: float64"
      ]
     },
     "execution_count": 100,
     "metadata": {},
     "output_type": "execute_result"
    }
   ],
   "source": [
    "ps.to_timestamp('4q','start')"
   ]
  },
  {
   "cell_type": "code",
   "execution_count": 101,
   "metadata": {
    "collapsed": false
   },
   "outputs": [
    {
     "data": {
      "text/plain": [
       "2012-01-31 23:59:59   -1.139606\n",
       "2012-02-29 23:59:59   -0.499997\n",
       "2012-03-31 23:59:59    0.831508\n",
       "2012-04-30 23:59:59   -0.526038\n",
       "2012-05-31 23:59:59    0.047284\n",
       "2012-06-30 23:59:59   -1.918781\n",
       "2012-07-31 23:59:59    0.422430\n",
       "2012-08-31 23:59:59    0.008860\n",
       "2012-09-30 23:59:59   -1.031047\n",
       "2012-10-31 23:59:59    1.024968\n",
       "2012-11-30 23:59:59   -0.489158\n",
       "2012-12-31 23:59:59   -1.202973\n",
       "Freq: M, dtype: float64"
      ]
     },
     "execution_count": 101,
     "metadata": {},
     "output_type": "execute_result"
    }
   ],
   "source": [
    "ps.to_timestamp('s','end',0)"
   ]
  },
  {
   "cell_type": "code",
   "execution_count": 102,
   "metadata": {
    "collapsed": false
   },
   "outputs": [
    {
     "data": {
      "text/plain": [
       "PeriodIndex(['1990Q1', '1990Q2', '1990Q3', '1990Q4', '1991Q1', '1991Q2',\n",
       "             '1991Q3', '1991Q4', '1992Q1', '1992Q2', '1992Q3', '1992Q4',\n",
       "             '1993Q1', '1993Q2', '1993Q3', '1993Q4', '1994Q1', '1994Q2',\n",
       "             '1994Q3', '1994Q4', '1995Q1', '1995Q2', '1995Q3', '1995Q4',\n",
       "             '1996Q1', '1996Q2', '1996Q3', '1996Q4', '1997Q1', '1997Q2',\n",
       "             '1997Q3', '1997Q4', '1998Q1', '1998Q2', '1998Q3', '1998Q4',\n",
       "             '1999Q1', '1999Q2', '1999Q3', '1999Q4', '2000Q1', '2000Q2',\n",
       "             '2000Q3', '2000Q4'],\n",
       "            dtype='period[Q-NOV]', freq='Q-NOV')"
      ]
     },
     "execution_count": 102,
     "metadata": {},
     "output_type": "execute_result"
    }
   ],
   "source": [
    "prng=pd.period_range('1990Q1','2000Q4',freq='Q-NOV')\n",
    "prng"
   ]
  },
  {
   "cell_type": "code",
   "execution_count": 103,
   "metadata": {
    "collapsed": false
   },
   "outputs": [
    {
     "data": {
      "text/plain": [
       "1990Q1   -1.110566\n",
       "1990Q2   -0.225029\n",
       "1990Q3   -0.194286\n",
       "1990Q4    0.587645\n",
       "1991Q1    0.524913\n",
       "1991Q2    0.035808\n",
       "1991Q3   -1.586455\n",
       "1991Q4   -0.594330\n",
       "1992Q1   -1.092877\n",
       "1992Q2   -0.518045\n",
       "1992Q3    1.597432\n",
       "1992Q4   -0.091244\n",
       "1993Q1    0.278989\n",
       "1993Q2   -0.609756\n",
       "1993Q3    0.238655\n",
       "1993Q4   -1.780522\n",
       "1994Q1    1.709714\n",
       "1994Q2    0.336492\n",
       "1994Q3   -1.343289\n",
       "1994Q4    0.682515\n",
       "1995Q1    0.855027\n",
       "1995Q2    0.243655\n",
       "1995Q3    2.115930\n",
       "1995Q4   -2.311617\n",
       "1996Q1   -1.239370\n",
       "1996Q2   -1.689091\n",
       "1996Q3   -1.537858\n",
       "1996Q4   -0.169609\n",
       "1997Q1   -0.914957\n",
       "1997Q2   -0.119093\n",
       "1997Q3    0.711257\n",
       "1997Q4    1.578991\n",
       "1998Q1    1.030323\n",
       "1998Q2   -0.967651\n",
       "1998Q3   -0.921798\n",
       "1998Q4    0.722778\n",
       "1999Q1    0.290557\n",
       "1999Q2   -0.285916\n",
       "1999Q3   -1.609459\n",
       "1999Q4    0.240691\n",
       "2000Q1   -1.476018\n",
       "2000Q2   -0.506293\n",
       "2000Q3   -0.327598\n",
       "2000Q4    1.366814\n",
       "Freq: Q-NOV, dtype: float64"
      ]
     },
     "execution_count": 103,
     "metadata": {},
     "output_type": "execute_result"
    }
   ],
   "source": [
    "ts=pd.Series(np.random.randn(len(prng)),prng)\n",
    "ts"
   ]
  },
  {
   "cell_type": "code",
   "execution_count": 104,
   "metadata": {
    "collapsed": false
   },
   "outputs": [
    {
     "data": {
      "text/plain": [
       "1990-02-28   -1.110566\n",
       "1990-05-31   -0.225029\n",
       "1990-08-31   -0.194286\n",
       "1990-11-30    0.587645\n",
       "1991-02-28    0.524913\n",
       "1991-05-31    0.035808\n",
       "1991-08-31   -1.586455\n",
       "1991-11-30   -0.594330\n",
       "1992-02-29   -1.092877\n",
       "1992-05-31   -0.518045\n",
       "1992-08-31    1.597432\n",
       "1992-11-30   -0.091244\n",
       "1993-02-28    0.278989\n",
       "1993-05-31   -0.609756\n",
       "1993-08-31    0.238655\n",
       "1993-11-30   -1.780522\n",
       "1994-02-28    1.709714\n",
       "1994-05-31    0.336492\n",
       "1994-08-31   -1.343289\n",
       "1994-11-30    0.682515\n",
       "1995-02-28    0.855027\n",
       "1995-05-31    0.243655\n",
       "1995-08-31    2.115930\n",
       "1995-11-30   -2.311617\n",
       "1996-02-29   -1.239370\n",
       "1996-05-31   -1.689091\n",
       "1996-08-31   -1.537858\n",
       "1996-11-30   -0.169609\n",
       "1997-02-28   -0.914957\n",
       "1997-05-31   -0.119093\n",
       "1997-08-31    0.711257\n",
       "1997-11-30    1.578991\n",
       "1998-02-28    1.030323\n",
       "1998-05-31   -0.967651\n",
       "1998-08-31   -0.921798\n",
       "1998-11-30    0.722778\n",
       "1999-02-28    0.290557\n",
       "1999-05-31   -0.285916\n",
       "1999-08-31   -1.609459\n",
       "1999-11-30    0.240691\n",
       "2000-02-29   -1.476018\n",
       "2000-05-31   -0.506293\n",
       "2000-08-31   -0.327598\n",
       "2000-11-30    1.366814\n",
       "Freq: Q-NOV, dtype: float64"
      ]
     },
     "execution_count": 104,
     "metadata": {},
     "output_type": "execute_result"
    }
   ],
   "source": [
    "ts.to_timestamp('m','e')"
   ]
  },
  {
   "cell_type": "code",
   "execution_count": 105,
   "metadata": {
    "collapsed": false
   },
   "outputs": [
    {
     "data": {
      "text/html": [
       "<div>\n",
       "<table border=\"1\" class=\"dataframe\">\n",
       "  <thead>\n",
       "    <tr style=\"text-align: right;\">\n",
       "      <th></th>\n",
       "      <th>id</th>\n",
       "      <th>raw_grade</th>\n",
       "    </tr>\n",
       "  </thead>\n",
       "  <tbody>\n",
       "    <tr>\n",
       "      <th>0</th>\n",
       "      <td>1</td>\n",
       "      <td>a</td>\n",
       "    </tr>\n",
       "    <tr>\n",
       "      <th>1</th>\n",
       "      <td>2</td>\n",
       "      <td>c</td>\n",
       "    </tr>\n",
       "    <tr>\n",
       "      <th>2</th>\n",
       "      <td>3</td>\n",
       "      <td>b</td>\n",
       "    </tr>\n",
       "    <tr>\n",
       "      <th>3</th>\n",
       "      <td>4</td>\n",
       "      <td>a</td>\n",
       "    </tr>\n",
       "    <tr>\n",
       "      <th>4</th>\n",
       "      <td>5</td>\n",
       "      <td>a</td>\n",
       "    </tr>\n",
       "    <tr>\n",
       "      <th>5</th>\n",
       "      <td>6</td>\n",
       "      <td>e</td>\n",
       "    </tr>\n",
       "  </tbody>\n",
       "</table>\n",
       "</div>"
      ],
      "text/plain": [
       "   id raw_grade\n",
       "0   1         a\n",
       "1   2         c\n",
       "2   3         b\n",
       "3   4         a\n",
       "4   5         a\n",
       "5   6         e"
      ]
     },
     "execution_count": 105,
     "metadata": {},
     "output_type": "execute_result"
    }
   ],
   "source": [
    "df=pd.DataFrame({\"id\":[1,2,3,4,5,6],\"raw_grade\":['a','c','b','a','a','e']})\n",
    "df"
   ]
  },
  {
   "cell_type": "code",
   "execution_count": 106,
   "metadata": {
    "collapsed": false
   },
   "outputs": [
    {
     "data": {
      "text/html": [
       "<div>\n",
       "<table border=\"1\" class=\"dataframe\">\n",
       "  <thead>\n",
       "    <tr style=\"text-align: right;\">\n",
       "      <th></th>\n",
       "      <th>id</th>\n",
       "      <th>raw_grade</th>\n",
       "      <th>grade</th>\n",
       "    </tr>\n",
       "  </thead>\n",
       "  <tbody>\n",
       "    <tr>\n",
       "      <th>0</th>\n",
       "      <td>1</td>\n",
       "      <td>a</td>\n",
       "      <td>a</td>\n",
       "    </tr>\n",
       "    <tr>\n",
       "      <th>1</th>\n",
       "      <td>2</td>\n",
       "      <td>c</td>\n",
       "      <td>c</td>\n",
       "    </tr>\n",
       "    <tr>\n",
       "      <th>2</th>\n",
       "      <td>3</td>\n",
       "      <td>b</td>\n",
       "      <td>b</td>\n",
       "    </tr>\n",
       "    <tr>\n",
       "      <th>3</th>\n",
       "      <td>4</td>\n",
       "      <td>a</td>\n",
       "      <td>a</td>\n",
       "    </tr>\n",
       "    <tr>\n",
       "      <th>4</th>\n",
       "      <td>5</td>\n",
       "      <td>a</td>\n",
       "      <td>a</td>\n",
       "    </tr>\n",
       "    <tr>\n",
       "      <th>5</th>\n",
       "      <td>6</td>\n",
       "      <td>e</td>\n",
       "      <td>e</td>\n",
       "    </tr>\n",
       "  </tbody>\n",
       "</table>\n",
       "</div>"
      ],
      "text/plain": [
       "   id raw_grade grade\n",
       "0   1         a     a\n",
       "1   2         c     c\n",
       "2   3         b     b\n",
       "3   4         a     a\n",
       "4   5         a     a\n",
       "5   6         e     e"
      ]
     },
     "execution_count": 106,
     "metadata": {},
     "output_type": "execute_result"
    }
   ],
   "source": [
    "df[\"grade\"] = df[\"raw_grade\"].astype(\"category\")\n",
    "df"
   ]
  },
  {
   "cell_type": "code",
   "execution_count": 107,
   "metadata": {
    "collapsed": false
   },
   "outputs": [
    {
     "data": {
      "text/plain": [
       "0    a\n",
       "1    c\n",
       "2    b\n",
       "3    a\n",
       "4    a\n",
       "5    e\n",
       "Name: grade, dtype: category\n",
       "Categories (4, object): [a, b, c, e]"
      ]
     },
     "execution_count": 107,
     "metadata": {},
     "output_type": "execute_result"
    }
   ],
   "source": [
    "df[\"grade\"]"
   ]
  },
  {
   "cell_type": "code",
   "execution_count": 108,
   "metadata": {
    "collapsed": false
   },
   "outputs": [
    {
     "data": {
      "text/html": [
       "<div>\n",
       "<table border=\"1\" class=\"dataframe\">\n",
       "  <thead>\n",
       "    <tr style=\"text-align: right;\">\n",
       "      <th></th>\n",
       "      <th>id</th>\n",
       "      <th>raw_grade</th>\n",
       "      <th>grade</th>\n",
       "    </tr>\n",
       "  </thead>\n",
       "  <tbody>\n",
       "    <tr>\n",
       "      <th>0</th>\n",
       "      <td>1</td>\n",
       "      <td>a</td>\n",
       "      <td>very good</td>\n",
       "    </tr>\n",
       "    <tr>\n",
       "      <th>1</th>\n",
       "      <td>2</td>\n",
       "      <td>c</td>\n",
       "      <td>very bad</td>\n",
       "    </tr>\n",
       "    <tr>\n",
       "      <th>2</th>\n",
       "      <td>3</td>\n",
       "      <td>b</td>\n",
       "      <td>good</td>\n",
       "    </tr>\n",
       "    <tr>\n",
       "      <th>3</th>\n",
       "      <td>4</td>\n",
       "      <td>a</td>\n",
       "      <td>very good</td>\n",
       "    </tr>\n",
       "    <tr>\n",
       "      <th>4</th>\n",
       "      <td>5</td>\n",
       "      <td>a</td>\n",
       "      <td>very good</td>\n",
       "    </tr>\n",
       "    <tr>\n",
       "      <th>5</th>\n",
       "      <td>6</td>\n",
       "      <td>e</td>\n",
       "      <td>new</td>\n",
       "    </tr>\n",
       "  </tbody>\n",
       "</table>\n",
       "</div>"
      ],
      "text/plain": [
       "   id raw_grade      grade\n",
       "0   1         a  very good\n",
       "1   2         c   very bad\n",
       "2   3         b       good\n",
       "3   4         a  very good\n",
       "4   5         a  very good\n",
       "5   6         e        new"
      ]
     },
     "execution_count": 108,
     "metadata": {},
     "output_type": "execute_result"
    }
   ],
   "source": [
    "df[\"grade\"].cat.categories=['very good',\"good\",\"very bad\",\"new\"]\n",
    "df"
   ]
  },
  {
   "cell_type": "code",
   "execution_count": 109,
   "metadata": {
    "collapsed": false
   },
   "outputs": [
    {
     "data": {
      "text/html": [
       "<div>\n",
       "<table border=\"1\" class=\"dataframe\">\n",
       "  <thead>\n",
       "    <tr style=\"text-align: right;\">\n",
       "      <th></th>\n",
       "      <th>id</th>\n",
       "      <th>raw_grade</th>\n",
       "      <th>grade</th>\n",
       "    </tr>\n",
       "  </thead>\n",
       "  <tbody>\n",
       "    <tr>\n",
       "      <th>0</th>\n",
       "      <td>1</td>\n",
       "      <td>a</td>\n",
       "      <td>very good</td>\n",
       "    </tr>\n",
       "    <tr>\n",
       "      <th>1</th>\n",
       "      <td>2</td>\n",
       "      <td>c</td>\n",
       "      <td>very bad</td>\n",
       "    </tr>\n",
       "    <tr>\n",
       "      <th>2</th>\n",
       "      <td>3</td>\n",
       "      <td>b</td>\n",
       "      <td>good</td>\n",
       "    </tr>\n",
       "    <tr>\n",
       "      <th>3</th>\n",
       "      <td>4</td>\n",
       "      <td>a</td>\n",
       "      <td>very good</td>\n",
       "    </tr>\n",
       "    <tr>\n",
       "      <th>4</th>\n",
       "      <td>5</td>\n",
       "      <td>a</td>\n",
       "      <td>very good</td>\n",
       "    </tr>\n",
       "    <tr>\n",
       "      <th>5</th>\n",
       "      <td>6</td>\n",
       "      <td>e</td>\n",
       "      <td>new</td>\n",
       "    </tr>\n",
       "  </tbody>\n",
       "</table>\n",
       "</div>"
      ],
      "text/plain": [
       "   id raw_grade      grade\n",
       "0   1         a  very good\n",
       "1   2         c   very bad\n",
       "2   3         b       good\n",
       "3   4         a  very good\n",
       "4   5         a  very good\n",
       "5   6         e        new"
      ]
     },
     "execution_count": 109,
     "metadata": {},
     "output_type": "execute_result"
    }
   ],
   "source": [
    "df[\"grade\"] = df[\"grade\"].cat.set_categories([\"test\",\"new\", \"bad\", \"medium\", \"good\", \"very good\",\"very bad\"])\n",
    "df"
   ]
  },
  {
   "cell_type": "code",
   "execution_count": 110,
   "metadata": {
    "collapsed": false
   },
   "outputs": [
    {
     "data": {
      "text/plain": [
       "0    very good\n",
       "1     very bad\n",
       "2         good\n",
       "3    very good\n",
       "4    very good\n",
       "5          new\n",
       "Name: grade, dtype: category\n",
       "Categories (7, object): [test, new, bad, medium, good, very good, very bad]"
      ]
     },
     "execution_count": 110,
     "metadata": {},
     "output_type": "execute_result"
    }
   ],
   "source": [
    "df[\"grade\"]"
   ]
  },
  {
   "cell_type": "code",
   "execution_count": 111,
   "metadata": {
    "collapsed": false
   },
   "outputs": [
    {
     "data": {
      "text/html": [
       "<div>\n",
       "<table border=\"1\" class=\"dataframe\">\n",
       "  <thead>\n",
       "    <tr style=\"text-align: right;\">\n",
       "      <th></th>\n",
       "      <th>id</th>\n",
       "      <th>raw_grade</th>\n",
       "      <th>grade</th>\n",
       "    </tr>\n",
       "  </thead>\n",
       "  <tbody>\n",
       "    <tr>\n",
       "      <th>5</th>\n",
       "      <td>6</td>\n",
       "      <td>e</td>\n",
       "      <td>new</td>\n",
       "    </tr>\n",
       "    <tr>\n",
       "      <th>2</th>\n",
       "      <td>3</td>\n",
       "      <td>b</td>\n",
       "      <td>good</td>\n",
       "    </tr>\n",
       "    <tr>\n",
       "      <th>0</th>\n",
       "      <td>1</td>\n",
       "      <td>a</td>\n",
       "      <td>very good</td>\n",
       "    </tr>\n",
       "    <tr>\n",
       "      <th>3</th>\n",
       "      <td>4</td>\n",
       "      <td>a</td>\n",
       "      <td>very good</td>\n",
       "    </tr>\n",
       "    <tr>\n",
       "      <th>4</th>\n",
       "      <td>5</td>\n",
       "      <td>a</td>\n",
       "      <td>very good</td>\n",
       "    </tr>\n",
       "    <tr>\n",
       "      <th>1</th>\n",
       "      <td>2</td>\n",
       "      <td>c</td>\n",
       "      <td>very bad</td>\n",
       "    </tr>\n",
       "  </tbody>\n",
       "</table>\n",
       "</div>"
      ],
      "text/plain": [
       "   id raw_grade      grade\n",
       "5   6         e        new\n",
       "2   3         b       good\n",
       "0   1         a  very good\n",
       "3   4         a  very good\n",
       "4   5         a  very good\n",
       "1   2         c   very bad"
      ]
     },
     "execution_count": 111,
     "metadata": {},
     "output_type": "execute_result"
    }
   ],
   "source": [
    "df.sort_values(by=\"grade\")"
   ]
  },
  {
   "cell_type": "code",
   "execution_count": 112,
   "metadata": {
    "collapsed": false
   },
   "outputs": [
    {
     "data": {
      "text/plain": [
       "grade\n",
       "test         0\n",
       "new          1\n",
       "bad          0\n",
       "medium       0\n",
       "good         1\n",
       "very good    3\n",
       "very bad     1\n",
       "dtype: int64"
      ]
     },
     "execution_count": 112,
     "metadata": {},
     "output_type": "execute_result"
    }
   ],
   "source": [
    "df.groupby(\"grade\").size()"
   ]
  },
  {
   "cell_type": "code",
   "execution_count": 113,
   "metadata": {
    "collapsed": false
   },
   "outputs": [
    {
     "data": {
      "text/plain": [
       "2000-01-01    0.812362\n",
       "2000-01-02   -0.988999\n",
       "2000-01-03   -0.807604\n",
       "2000-01-04    0.843550\n",
       "2000-01-05    0.945130\n",
       "2000-01-06   -0.055360\n",
       "2000-01-07    0.085963\n",
       "2000-01-08   -0.809408\n",
       "2000-01-09   -0.261288\n",
       "2000-01-10    0.121650\n",
       "2000-01-11    0.239060\n",
       "2000-01-12    0.881136\n",
       "2000-01-13   -1.685542\n",
       "2000-01-14    0.107909\n",
       "2000-01-15    1.131875\n",
       "2000-01-16    0.769652\n",
       "2000-01-17    1.438508\n",
       "2000-01-18   -0.180827\n",
       "2000-01-19    1.380693\n",
       "2000-01-20   -0.490061\n",
       "2000-01-21   -0.584580\n",
       "2000-01-22    0.287631\n",
       "2000-01-23    0.793111\n",
       "2000-01-24   -0.045783\n",
       "2000-01-25   -1.027083\n",
       "2000-01-26   -0.003135\n",
       "2000-01-27    0.636944\n",
       "2000-01-28    0.750216\n",
       "2000-01-29   -0.965302\n",
       "2000-01-30    0.336559\n",
       "                ...   \n",
       "2002-08-28    0.969475\n",
       "2002-08-29    1.472050\n",
       "2002-08-30   -0.211811\n",
       "2002-08-31   -2.240213\n",
       "2002-09-01    1.088143\n",
       "2002-09-02    1.861697\n",
       "2002-09-03    0.200398\n",
       "2002-09-04   -2.623707\n",
       "2002-09-05    0.299783\n",
       "2002-09-06    1.884415\n",
       "2002-09-07    0.673887\n",
       "2002-09-08    1.031289\n",
       "2002-09-09   -0.970403\n",
       "2002-09-10   -0.418737\n",
       "2002-09-11   -0.483354\n",
       "2002-09-12    0.138830\n",
       "2002-09-13   -0.601988\n",
       "2002-09-14   -0.297362\n",
       "2002-09-15    1.562852\n",
       "2002-09-16    0.226859\n",
       "2002-09-17    0.172490\n",
       "2002-09-18    0.094070\n",
       "2002-09-19    0.237950\n",
       "2002-09-20    1.065587\n",
       "2002-09-21    0.704438\n",
       "2002-09-22    0.167822\n",
       "2002-09-23   -1.659608\n",
       "2002-09-24   -1.618236\n",
       "2002-09-25    0.109172\n",
       "2002-09-26   -1.853294\n",
       "Freq: D, dtype: float64"
      ]
     },
     "execution_count": 113,
     "metadata": {},
     "output_type": "execute_result"
    }
   ],
   "source": [
    "ts = pd.Series(np.random.randn(1000), index=pd.date_range('1/1/2000', periods=1000))\n",
    "ts"
   ]
  },
  {
   "cell_type": "code",
   "execution_count": 114,
   "metadata": {
    "collapsed": false
   },
   "outputs": [
    {
     "data": {
      "text/plain": [
       "2000-01-01     0.812362\n",
       "2000-01-02    -0.176636\n",
       "2000-01-03    -0.984240\n",
       "2000-01-04    -0.140691\n",
       "2000-01-05     0.804439\n",
       "2000-01-06     0.749079\n",
       "2000-01-07     0.835042\n",
       "2000-01-08     0.025634\n",
       "2000-01-09    -0.235654\n",
       "2000-01-10    -0.114004\n",
       "2000-01-11     0.125055\n",
       "2000-01-12     1.006191\n",
       "2000-01-13    -0.679350\n",
       "2000-01-14    -0.571442\n",
       "2000-01-15     0.560433\n",
       "2000-01-16     1.330085\n",
       "2000-01-17     2.768594\n",
       "2000-01-18     2.587767\n",
       "2000-01-19     3.968460\n",
       "2000-01-20     3.478398\n",
       "2000-01-21     2.893818\n",
       "2000-01-22     3.181448\n",
       "2000-01-23     3.974559\n",
       "2000-01-24     3.928776\n",
       "2000-01-25     2.901694\n",
       "2000-01-26     2.898559\n",
       "2000-01-27     3.535503\n",
       "2000-01-28     4.285719\n",
       "2000-01-29     3.320417\n",
       "2000-01-30     3.656976\n",
       "                ...    \n",
       "2002-08-28    14.704409\n",
       "2002-08-29    16.176460\n",
       "2002-08-30    15.964649\n",
       "2002-08-31    13.724436\n",
       "2002-09-01    14.812579\n",
       "2002-09-02    16.674277\n",
       "2002-09-03    16.874674\n",
       "2002-09-04    14.250967\n",
       "2002-09-05    14.550750\n",
       "2002-09-06    16.435165\n",
       "2002-09-07    17.109052\n",
       "2002-09-08    18.140341\n",
       "2002-09-09    17.169938\n",
       "2002-09-10    16.751201\n",
       "2002-09-11    16.267847\n",
       "2002-09-12    16.406676\n",
       "2002-09-13    15.804689\n",
       "2002-09-14    15.507327\n",
       "2002-09-15    17.070179\n",
       "2002-09-16    17.297037\n",
       "2002-09-17    17.469528\n",
       "2002-09-18    17.563598\n",
       "2002-09-19    17.801548\n",
       "2002-09-20    18.867135\n",
       "2002-09-21    19.571573\n",
       "2002-09-22    19.739396\n",
       "2002-09-23    18.079787\n",
       "2002-09-24    16.461552\n",
       "2002-09-25    16.570723\n",
       "2002-09-26    14.717430\n",
       "Freq: D, dtype: float64"
      ]
     },
     "execution_count": 114,
     "metadata": {},
     "output_type": "execute_result"
    }
   ],
   "source": [
    "ts=ts.cumsum()\n",
    "ts"
   ]
  },
  {
   "cell_type": "code",
   "execution_count": 127,
   "metadata": {
    "collapsed": false
   },
   "outputs": [
    {
     "data": {
      "text/plain": [
       "<matplotlib.axes._subplots.AxesSubplot at 0x118be4850>"
      ]
     },
     "execution_count": 127,
     "metadata": {},
     "output_type": "execute_result"
    },
    {
     "data": {
      "image/png": "[encoded data removed]",
      "text/plain": [
       "<matplotlib.figure.Figure at 0x118c06490>"
      ]
     },
     "metadata": {},
     "output_type": "display_data"
    }
   ],
   "source": [
    "ts.plot()"
   ]
  },
  {
   "cell_type": "code",
   "execution_count": 132,
   "metadata": {
    "collapsed": true
   },
   "outputs": [],
   "source": [
    "df = pd.DataFrame(np.random.randn(1000, 4), index=ts.index, columns=['A', 'B', 'C', 'D'])"
   ]
  },
  {
   "cell_type": "code",
   "execution_count": 133,
   "metadata": {
    "collapsed": true
   },
   "outputs": [],
   "source": [
    "df=df.cumsum()"
   ]
  },
  {
   "cell_type": "code",
   "execution_count": 134,
   "metadata": {
    "collapsed": false
   },
   "outputs": [
    {
     "data": {
      "text/plain": [
       "<matplotlib.legend.Legend at 0x1193f9310>"
      ]
     },
     "execution_count": 134,
     "metadata": {},
     "output_type": "execute_result"
    },
    {
     "data": {
      "image/png": "[encoded data removed]",
      "text/plain": [
       "<matplotlib.figure.Figure at 0x119024f90>"
      ]
     },
     "metadata": {},
     "output_type": "display_data"
    }
   ],
   "source": [
    "df.plot(); plt.legend(loc='best')"
   ]
  },
  {
   "cell_type": "code",
   "execution_count": 135,
   "metadata": {
    "collapsed": false
   },
   "outputs": [
    {
     "data": {
      "text/plain": [
       "<matplotlib.legend.Legend at 0x1194c1a90>"
      ]
     },
     "execution_count": 135,
     "metadata": {},
     "output_type": "execute_result"
    },
    {
     "data": {
      "text/plain": [
       "<matplotlib.figure.Figure at 0x11956f610>"
      ]
     },
     "metadata": {},
     "output_type": "display_data"
    },
    {
     "data": {
      "image/png": "[encoded data removed]",
      "text/plain": [
       "<matplotlib.figure.Figure at 0x1194c1a50>"
      ]
     },
     "metadata": {},
     "output_type": "display_data"
    }
   ],
   "source": [
    "plt.figure(); df.plot(); plt.legend(loc='best')"
   ]
  },
  {
   "cell_type": "code",
   "execution_count": 140,
   "metadata": {
    "collapsed": false
   },
   "outputs": [],
   "source": [
    "df.to_csv('foo.csv')"
   ]
  },
  {
   "cell_type": "code",
   "execution_count": 145,
   "metadata": {
    "collapsed": false
   },
   "outputs": [
    {
     "data": {
      "text/html": [
       "<div>\n",
       "<table border=\"1\" class=\"dataframe\">\n",
       "  <thead>\n",
       "    <tr style=\"text-align: right;\">\n",
       "      <th></th>\n",
       "      <th>Unnamed: 0</th>\n",
       "      <th>A</th>\n",
       "      <th>B</th>\n",
       "      <th>C</th>\n",
       "      <th>D</th>\n",
       "    </tr>\n",
       "  </thead>\n",
       "  <tbody>\n",
       "    <tr>\n",
       "      <th>0</th>\n",
       "      <td>2000-01-01</td>\n",
       "      <td>0.296579</td>\n",
       "      <td>0.611593</td>\n",
       "      <td>-1.430092</td>\n",
       "      <td>-1.932722</td>\n",
       "    </tr>\n",
       "    <tr>\n",
       "      <th>1</th>\n",
       "      <td>2000-01-02</td>\n",
       "      <td>0.580369</td>\n",
       "      <td>-1.610509</td>\n",
       "      <td>-0.562257</td>\n",
       "      <td>-2.242753</td>\n",
       "    </tr>\n",
       "    <tr>\n",
       "      <th>2</th>\n",
       "      <td>2000-01-03</td>\n",
       "      <td>0.435675</td>\n",
       "      <td>-2.101274</td>\n",
       "      <td>-0.541050</td>\n",
       "      <td>-1.954661</td>\n",
       "    </tr>\n",
       "    <tr>\n",
       "      <th>3</th>\n",
       "      <td>2000-01-04</td>\n",
       "      <td>0.068857</td>\n",
       "      <td>-1.537945</td>\n",
       "      <td>0.178197</td>\n",
       "      <td>-3.226468</td>\n",
       "    </tr>\n",
       "    <tr>\n",
       "      <th>4</th>\n",
       "      <td>2000-01-05</td>\n",
       "      <td>0.289947</td>\n",
       "      <td>-0.250675</td>\n",
       "      <td>-0.951323</td>\n",
       "      <td>-4.602786</td>\n",
       "    </tr>\n",
       "    <tr>\n",
       "      <th>5</th>\n",
       "      <td>2000-01-06</td>\n",
       "      <td>-1.105440</td>\n",
       "      <td>0.414566</td>\n",
       "      <td>-1.914267</td>\n",
       "      <td>-4.285849</td>\n",
       "    </tr>\n",
       "    <tr>\n",
       "      <th>6</th>\n",
       "      <td>2000-01-07</td>\n",
       "      <td>0.882399</td>\n",
       "      <td>-0.382004</td>\n",
       "      <td>-1.339473</td>\n",
       "      <td>-3.581608</td>\n",
       "    </tr>\n",
       "    <tr>\n",
       "      <th>7</th>\n",
       "      <td>2000-01-08</td>\n",
       "      <td>2.453529</td>\n",
       "      <td>-1.180654</td>\n",
       "      <td>-1.039471</td>\n",
       "      <td>-4.973517</td>\n",
       "    </tr>\n",
       "    <tr>\n",
       "      <th>8</th>\n",
       "      <td>2000-01-09</td>\n",
       "      <td>3.849163</td>\n",
       "      <td>-1.935683</td>\n",
       "      <td>-1.074598</td>\n",
       "      <td>-4.256066</td>\n",
       "    </tr>\n",
       "    <tr>\n",
       "      <th>9</th>\n",
       "      <td>2000-01-10</td>\n",
       "      <td>3.833944</td>\n",
       "      <td>-4.179814</td>\n",
       "      <td>-0.883064</td>\n",
       "      <td>-3.097275</td>\n",
       "    </tr>\n",
       "    <tr>\n",
       "      <th>10</th>\n",
       "      <td>2000-01-11</td>\n",
       "      <td>3.762965</td>\n",
       "      <td>-3.638560</td>\n",
       "      <td>-0.719565</td>\n",
       "      <td>-2.918390</td>\n",
       "    </tr>\n",
       "    <tr>\n",
       "      <th>11</th>\n",
       "      <td>2000-01-12</td>\n",
       "      <td>2.774284</td>\n",
       "      <td>-5.820228</td>\n",
       "      <td>0.569816</td>\n",
       "      <td>-4.451438</td>\n",
       "    </tr>\n",
       "    <tr>\n",
       "      <th>12</th>\n",
       "      <td>2000-01-13</td>\n",
       "      <td>4.309329</td>\n",
       "      <td>-5.639481</td>\n",
       "      <td>1.208322</td>\n",
       "      <td>-3.710643</td>\n",
       "    </tr>\n",
       "    <tr>\n",
       "      <th>13</th>\n",
       "      <td>2000-01-14</td>\n",
       "      <td>5.131237</td>\n",
       "      <td>-4.263691</td>\n",
       "      <td>0.402024</td>\n",
       "      <td>-4.981432</td>\n",
       "    </tr>\n",
       "    <tr>\n",
       "      <th>14</th>\n",
       "      <td>2000-01-15</td>\n",
       "      <td>4.578299</td>\n",
       "      <td>-5.651999</td>\n",
       "      <td>0.448820</td>\n",
       "      <td>-5.257453</td>\n",
       "    </tr>\n",
       "    <tr>\n",
       "      <th>15</th>\n",
       "      <td>2000-01-16</td>\n",
       "      <td>5.514215</td>\n",
       "      <td>-5.071999</td>\n",
       "      <td>-0.192409</td>\n",
       "      <td>-4.886217</td>\n",
       "    </tr>\n",
       "    <tr>\n",
       "      <th>16</th>\n",
       "      <td>2000-01-17</td>\n",
       "      <td>4.623886</td>\n",
       "      <td>-5.137108</td>\n",
       "      <td>0.835839</td>\n",
       "      <td>-5.718343</td>\n",
       "    </tr>\n",
       "    <tr>\n",
       "      <th>17</th>\n",
       "      <td>2000-01-18</td>\n",
       "      <td>4.012718</td>\n",
       "      <td>-5.974874</td>\n",
       "      <td>0.421190</td>\n",
       "      <td>-8.408986</td>\n",
       "    </tr>\n",
       "    <tr>\n",
       "      <th>18</th>\n",
       "      <td>2000-01-19</td>\n",
       "      <td>4.593167</td>\n",
       "      <td>-5.826475</td>\n",
       "      <td>2.275589</td>\n",
       "      <td>-10.050970</td>\n",
       "    </tr>\n",
       "    <tr>\n",
       "      <th>19</th>\n",
       "      <td>2000-01-20</td>\n",
       "      <td>3.806512</td>\n",
       "      <td>-5.303291</td>\n",
       "      <td>1.296072</td>\n",
       "      <td>-9.312401</td>\n",
       "    </tr>\n",
       "    <tr>\n",
       "      <th>20</th>\n",
       "      <td>2000-01-21</td>\n",
       "      <td>5.117171</td>\n",
       "      <td>-5.576447</td>\n",
       "      <td>1.526603</td>\n",
       "      <td>-9.133860</td>\n",
       "    </tr>\n",
       "    <tr>\n",
       "      <th>21</th>\n",
       "      <td>2000-01-22</td>\n",
       "      <td>4.092158</td>\n",
       "      <td>-4.348193</td>\n",
       "      <td>2.383036</td>\n",
       "      <td>-9.187363</td>\n",
       "    </tr>\n",
       "    <tr>\n",
       "      <th>22</th>\n",
       "      <td>2000-01-23</td>\n",
       "      <td>3.445734</td>\n",
       "      <td>-5.032995</td>\n",
       "      <td>1.031293</td>\n",
       "      <td>-9.647458</td>\n",
       "    </tr>\n",
       "    <tr>\n",
       "      <th>23</th>\n",
       "      <td>2000-01-24</td>\n",
       "      <td>4.278403</td>\n",
       "      <td>-6.897329</td>\n",
       "      <td>0.890861</td>\n",
       "      <td>-8.823973</td>\n",
       "    </tr>\n",
       "    <tr>\n",
       "      <th>24</th>\n",
       "      <td>2000-01-25</td>\n",
       "      <td>6.319145</td>\n",
       "      <td>-8.497949</td>\n",
       "      <td>0.845234</td>\n",
       "      <td>-8.380481</td>\n",
       "    </tr>\n",
       "    <tr>\n",
       "      <th>25</th>\n",
       "      <td>2000-01-26</td>\n",
       "      <td>7.228889</td>\n",
       "      <td>-8.627801</td>\n",
       "      <td>1.207254</td>\n",
       "      <td>-7.891059</td>\n",
       "    </tr>\n",
       "    <tr>\n",
       "      <th>26</th>\n",
       "      <td>2000-01-27</td>\n",
       "      <td>7.011456</td>\n",
       "      <td>-6.589606</td>\n",
       "      <td>1.716495</td>\n",
       "      <td>-9.439405</td>\n",
       "    </tr>\n",
       "    <tr>\n",
       "      <th>27</th>\n",
       "      <td>2000-01-28</td>\n",
       "      <td>5.976326</td>\n",
       "      <td>-5.939922</td>\n",
       "      <td>0.872725</td>\n",
       "      <td>-9.311471</td>\n",
       "    </tr>\n",
       "    <tr>\n",
       "      <th>28</th>\n",
       "      <td>2000-01-29</td>\n",
       "      <td>5.130578</td>\n",
       "      <td>-6.002320</td>\n",
       "      <td>2.779202</td>\n",
       "      <td>-11.098326</td>\n",
       "    </tr>\n",
       "    <tr>\n",
       "      <th>29</th>\n",
       "      <td>2000-01-30</td>\n",
       "      <td>4.119324</td>\n",
       "      <td>-6.989014</td>\n",
       "      <td>2.388868</td>\n",
       "      <td>-12.499021</td>\n",
       "    </tr>\n",
       "    <tr>\n",
       "      <th>...</th>\n",
       "      <td>...</td>\n",
       "      <td>...</td>\n",
       "      <td>...</td>\n",
       "      <td>...</td>\n",
       "      <td>...</td>\n",
       "    </tr>\n",
       "    <tr>\n",
       "      <th>970</th>\n",
       "      <td>2002-08-28</td>\n",
       "      <td>5.867809</td>\n",
       "      <td>-7.337371</td>\n",
       "      <td>39.245857</td>\n",
       "      <td>11.068042</td>\n",
       "    </tr>\n",
       "    <tr>\n",
       "      <th>971</th>\n",
       "      <td>2002-08-29</td>\n",
       "      <td>3.974706</td>\n",
       "      <td>-6.407267</td>\n",
       "      <td>40.659046</td>\n",
       "      <td>11.583305</td>\n",
       "    </tr>\n",
       "    <tr>\n",
       "      <th>972</th>\n",
       "      <td>2002-08-30</td>\n",
       "      <td>4.745821</td>\n",
       "      <td>-6.575285</td>\n",
       "      <td>40.445438</td>\n",
       "      <td>10.858980</td>\n",
       "    </tr>\n",
       "    <tr>\n",
       "      <th>973</th>\n",
       "      <td>2002-08-31</td>\n",
       "      <td>3.547955</td>\n",
       "      <td>-6.254377</td>\n",
       "      <td>41.329573</td>\n",
       "      <td>10.310589</td>\n",
       "    </tr>\n",
       "    <tr>\n",
       "      <th>974</th>\n",
       "      <td>2002-09-01</td>\n",
       "      <td>1.905166</td>\n",
       "      <td>-6.488274</td>\n",
       "      <td>38.975849</td>\n",
       "      <td>9.094473</td>\n",
       "    </tr>\n",
       "    <tr>\n",
       "      <th>975</th>\n",
       "      <td>2002-09-02</td>\n",
       "      <td>3.247522</td>\n",
       "      <td>-6.021154</td>\n",
       "      <td>38.289288</td>\n",
       "      <td>9.614657</td>\n",
       "    </tr>\n",
       "    <tr>\n",
       "      <th>976</th>\n",
       "      <td>2002-09-03</td>\n",
       "      <td>4.712359</td>\n",
       "      <td>-6.382353</td>\n",
       "      <td>38.769178</td>\n",
       "      <td>9.890945</td>\n",
       "    </tr>\n",
       "    <tr>\n",
       "      <th>977</th>\n",
       "      <td>2002-09-04</td>\n",
       "      <td>3.323537</td>\n",
       "      <td>-7.031822</td>\n",
       "      <td>40.008333</td>\n",
       "      <td>9.816221</td>\n",
       "    </tr>\n",
       "    <tr>\n",
       "      <th>978</th>\n",
       "      <td>2002-09-05</td>\n",
       "      <td>3.067469</td>\n",
       "      <td>-6.118926</td>\n",
       "      <td>40.636401</td>\n",
       "      <td>9.848183</td>\n",
       "    </tr>\n",
       "    <tr>\n",
       "      <th>979</th>\n",
       "      <td>2002-09-06</td>\n",
       "      <td>3.558187</td>\n",
       "      <td>-5.672466</td>\n",
       "      <td>39.400626</td>\n",
       "      <td>10.678443</td>\n",
       "    </tr>\n",
       "    <tr>\n",
       "      <th>980</th>\n",
       "      <td>2002-09-07</td>\n",
       "      <td>3.214511</td>\n",
       "      <td>-4.245812</td>\n",
       "      <td>39.763713</td>\n",
       "      <td>10.987422</td>\n",
       "    </tr>\n",
       "    <tr>\n",
       "      <th>981</th>\n",
       "      <td>2002-09-08</td>\n",
       "      <td>4.732244</td>\n",
       "      <td>-3.546748</td>\n",
       "      <td>41.373478</td>\n",
       "      <td>12.575806</td>\n",
       "    </tr>\n",
       "    <tr>\n",
       "      <th>982</th>\n",
       "      <td>2002-09-09</td>\n",
       "      <td>6.035497</td>\n",
       "      <td>-4.470838</td>\n",
       "      <td>42.374458</td>\n",
       "      <td>11.720133</td>\n",
       "    </tr>\n",
       "    <tr>\n",
       "      <th>983</th>\n",
       "      <td>2002-09-10</td>\n",
       "      <td>6.038313</td>\n",
       "      <td>-3.720494</td>\n",
       "      <td>41.709941</td>\n",
       "      <td>12.942449</td>\n",
       "    </tr>\n",
       "    <tr>\n",
       "      <th>984</th>\n",
       "      <td>2002-09-11</td>\n",
       "      <td>5.360880</td>\n",
       "      <td>-5.555819</td>\n",
       "      <td>41.054506</td>\n",
       "      <td>12.624969</td>\n",
       "    </tr>\n",
       "    <tr>\n",
       "      <th>985</th>\n",
       "      <td>2002-09-12</td>\n",
       "      <td>3.960611</td>\n",
       "      <td>-5.378715</td>\n",
       "      <td>39.466816</td>\n",
       "      <td>12.156450</td>\n",
       "    </tr>\n",
       "    <tr>\n",
       "      <th>986</th>\n",
       "      <td>2002-09-13</td>\n",
       "      <td>2.711943</td>\n",
       "      <td>-3.885589</td>\n",
       "      <td>40.025684</td>\n",
       "      <td>12.015452</td>\n",
       "    </tr>\n",
       "    <tr>\n",
       "      <th>987</th>\n",
       "      <td>2002-09-14</td>\n",
       "      <td>2.968840</td>\n",
       "      <td>-3.644339</td>\n",
       "      <td>39.900902</td>\n",
       "      <td>10.843984</td>\n",
       "    </tr>\n",
       "    <tr>\n",
       "      <th>988</th>\n",
       "      <td>2002-09-15</td>\n",
       "      <td>3.147019</td>\n",
       "      <td>-3.732492</td>\n",
       "      <td>39.328325</td>\n",
       "      <td>8.803863</td>\n",
       "    </tr>\n",
       "    <tr>\n",
       "      <th>989</th>\n",
       "      <td>2002-09-16</td>\n",
       "      <td>1.960232</td>\n",
       "      <td>-3.422979</td>\n",
       "      <td>40.652836</td>\n",
       "      <td>8.501912</td>\n",
       "    </tr>\n",
       "    <tr>\n",
       "      <th>990</th>\n",
       "      <td>2002-09-17</td>\n",
       "      <td>1.746139</td>\n",
       "      <td>-3.879542</td>\n",
       "      <td>40.187864</td>\n",
       "      <td>9.568566</td>\n",
       "    </tr>\n",
       "    <tr>\n",
       "      <th>991</th>\n",
       "      <td>2002-09-18</td>\n",
       "      <td>1.683859</td>\n",
       "      <td>-0.634433</td>\n",
       "      <td>39.717469</td>\n",
       "      <td>9.579630</td>\n",
       "    </tr>\n",
       "    <tr>\n",
       "      <th>992</th>\n",
       "      <td>2002-09-19</td>\n",
       "      <td>2.284506</td>\n",
       "      <td>0.191758</td>\n",
       "      <td>39.820516</td>\n",
       "      <td>9.427705</td>\n",
       "    </tr>\n",
       "    <tr>\n",
       "      <th>993</th>\n",
       "      <td>2002-09-20</td>\n",
       "      <td>1.308624</td>\n",
       "      <td>0.929996</td>\n",
       "      <td>40.719784</td>\n",
       "      <td>10.408138</td>\n",
       "    </tr>\n",
       "    <tr>\n",
       "      <th>994</th>\n",
       "      <td>2002-09-21</td>\n",
       "      <td>4.107839</td>\n",
       "      <td>0.503106</td>\n",
       "      <td>40.094072</td>\n",
       "      <td>11.074580</td>\n",
       "    </tr>\n",
       "    <tr>\n",
       "      <th>995</th>\n",
       "      <td>2002-09-22</td>\n",
       "      <td>5.327211</td>\n",
       "      <td>0.058844</td>\n",
       "      <td>39.225027</td>\n",
       "      <td>9.877166</td>\n",
       "    </tr>\n",
       "    <tr>\n",
       "      <th>996</th>\n",
       "      <td>2002-09-23</td>\n",
       "      <td>6.607680</td>\n",
       "      <td>-0.317259</td>\n",
       "      <td>39.319725</td>\n",
       "      <td>9.360305</td>\n",
       "    </tr>\n",
       "    <tr>\n",
       "      <th>997</th>\n",
       "      <td>2002-09-24</td>\n",
       "      <td>6.816230</td>\n",
       "      <td>-1.008545</td>\n",
       "      <td>38.328943</td>\n",
       "      <td>8.786556</td>\n",
       "    </tr>\n",
       "    <tr>\n",
       "      <th>998</th>\n",
       "      <td>2002-09-25</td>\n",
       "      <td>6.103516</td>\n",
       "      <td>-0.983897</td>\n",
       "      <td>36.553289</td>\n",
       "      <td>8.948845</td>\n",
       "    </tr>\n",
       "    <tr>\n",
       "      <th>999</th>\n",
       "      <td>2002-09-26</td>\n",
       "      <td>4.649360</td>\n",
       "      <td>0.791153</td>\n",
       "      <td>34.720326</td>\n",
       "      <td>7.781983</td>\n",
       "    </tr>\n",
       "  </tbody>\n",
       "</table>\n",
       "<p>1000 rows × 5 columns</p>\n",
       "</div>"
      ],
      "text/plain": [
       "     Unnamed: 0         A         B          C          D\n",
       "0    2000-01-01  0.296579  0.611593  -1.430092  -1.932722\n",
       "1    2000-01-02  0.580369 -1.610509  -0.562257  -2.242753\n",
       "2    2000-01-03  0.435675 -2.101274  -0.541050  -1.954661\n",
       "3    2000-01-04  0.068857 -1.537945   0.178197  -3.226468\n",
       "4    2000-01-05  0.289947 -0.250675  -0.951323  -4.602786\n",
       "5    2000-01-06 -1.105440  0.414566  -1.914267  -4.285849\n",
       "6    2000-01-07  0.882399 -0.382004  -1.339473  -3.581608\n",
       "7    2000-01-08  2.453529 -1.180654  -1.039471  -4.973517\n",
       "8    2000-01-09  3.849163 -1.935683  -1.074598  -4.256066\n",
       "9    2000-01-10  3.833944 -4.179814  -0.883064  -3.097275\n",
       "10   2000-01-11  3.762965 -3.638560  -0.719565  -2.918390\n",
       "11   2000-01-12  2.774284 -5.820228   0.569816  -4.451438\n",
       "12   2000-01-13  4.309329 -5.639481   1.208322  -3.710643\n",
       "13   2000-01-14  5.131237 -4.263691   0.402024  -4.981432\n",
       "14   2000-01-15  4.578299 -5.651999   0.448820  -5.257453\n",
       "15   2000-01-16  5.514215 -5.071999  -0.192409  -4.886217\n",
       "16   2000-01-17  4.623886 -5.137108   0.835839  -5.718343\n",
       "17   2000-01-18  4.012718 -5.974874   0.421190  -8.408986\n",
       "18   2000-01-19  4.593167 -5.826475   2.275589 -10.050970\n",
       "19   2000-01-20  3.806512 -5.303291   1.296072  -9.312401\n",
       "20   2000-01-21  5.117171 -5.576447   1.526603  -9.133860\n",
       "21   2000-01-22  4.092158 -4.348193   2.383036  -9.187363\n",
       "22   2000-01-23  3.445734 -5.032995   1.031293  -9.647458\n",
       "23   2000-01-24  4.278403 -6.897329   0.890861  -8.823973\n",
       "24   2000-01-25  6.319145 -8.497949   0.845234  -8.380481\n",
       "25   2000-01-26  7.228889 -8.627801   1.207254  -7.891059\n",
       "26   2000-01-27  7.011456 -6.589606   1.716495  -9.439405\n",
       "27   2000-01-28  5.976326 -5.939922   0.872725  -9.311471\n",
       "28   2000-01-29  5.130578 -6.002320   2.779202 -11.098326\n",
       "29   2000-01-30  4.119324 -6.989014   2.388868 -12.499021\n",
       "..          ...       ...       ...        ...        ...\n",
       "970  2002-08-28  5.867809 -7.337371  39.245857  11.068042\n",
       "971  2002-08-29  3.974706 -6.407267  40.659046  11.583305\n",
       "972  2002-08-30  4.745821 -6.575285  40.445438  10.858980\n",
       "973  2002-08-31  3.547955 -6.254377  41.329573  10.310589\n",
       "974  2002-09-01  1.905166 -6.488274  38.975849   9.094473\n",
       "975  2002-09-02  3.247522 -6.021154  38.289288   9.614657\n",
       "976  2002-09-03  4.712359 -6.382353  38.769178   9.890945\n",
       "977  2002-09-04  3.323537 -7.031822  40.008333   9.816221\n",
       "978  2002-09-05  3.067469 -6.118926  40.636401   9.848183\n",
       "979  2002-09-06  3.558187 -5.672466  39.400626  10.678443\n",
       "980  2002-09-07  3.214511 -4.245812  39.763713  10.987422\n",
       "981  2002-09-08  4.732244 -3.546748  41.373478  12.575806\n",
       "982  2002-09-09  6.035497 -4.470838  42.374458  11.720133\n",
       "983  2002-09-10  6.038313 -3.720494  41.709941  12.942449\n",
       "984  2002-09-11  5.360880 -5.555819  41.054506  12.624969\n",
       "985  2002-09-12  3.960611 -5.378715  39.466816  12.156450\n",
       "986  2002-09-13  2.711943 -3.885589  40.025684  12.015452\n",
       "987  2002-09-14  2.968840 -3.644339  39.900902  10.843984\n",
       "988  2002-09-15  3.147019 -3.732492  39.328325   8.803863\n",
       "989  2002-09-16  1.960232 -3.422979  40.652836   8.501912\n",
       "990  2002-09-17  1.746139 -3.879542  40.187864   9.568566\n",
       "991  2002-09-18  1.683859 -0.634433  39.717469   9.579630\n",
       "992  2002-09-19  2.284506  0.191758  39.820516   9.427705\n",
       "993  2002-09-20  1.308624  0.929996  40.719784  10.408138\n",
       "994  2002-09-21  4.107839  0.503106  40.094072  11.074580\n",
       "995  2002-09-22  5.327211  0.058844  39.225027   9.877166\n",
       "996  2002-09-23  6.607680 -0.317259  39.319725   9.360305\n",
       "997  2002-09-24  6.816230 -1.008545  38.328943   8.786556\n",
       "998  2002-09-25  6.103516 -0.983897  36.553289   8.948845\n",
       "999  2002-09-26  4.649360  0.791153  34.720326   7.781983\n",
       "\n",
       "[1000 rows x 5 columns]"
      ]
     },
     "execution_count": 145,
     "metadata": {},
     "output_type": "execute_result"
    }
   ],
   "source": [
    "pd.read_csv('foo.csv')"
   ]
  }
 ],
 "metadata": {
  "kernelspec": {
   "display_name": "Python 2",
   "language": "python",
   "name": "python2"
  },
  "language_info": {
   "codemirror_mode": {
    "name": "ipython",
    "version": 2
   },
   "file_extension": ".py",
   "mimetype": "text/x-python",
   "name": "python",
   "nbconvert_exporter": "python",
   "pygments_lexer": "ipython2",
   "version": "2.7.13"
  }
 },
 "nbformat": 4,
 "nbformat_minor": 2
}
