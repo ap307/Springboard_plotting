{
 "cells": [
  {
   "cell_type": "code",
   "execution_count": 1,
   "metadata": {
    "collapsed": true
   },
   "outputs": [],
   "source": [
    "import re"
   ]
  },
  {
   "cell_type": "code",
   "execution_count": 2,
   "metadata": {
    "collapsed": false
   },
   "outputs": [
    {
     "name": "stdout",
     "output_type": "stream",
     "text": [
      "['here', 'are', 'some', 'words', 'some', 'words']\n"
     ]
    }
   ],
   "source": [
    "print re.split(r'\\s*','here are some   words some words')"
   ]
  },
  {
   "cell_type": "code",
   "execution_count": 3,
   "metadata": {
    "collapsed": false
   },
   "outputs": [
    {
     "name": "stdout",
     "output_type": "stream",
     "text": [
      "['here', ' ', 'are', ' ', 'some', '   ', 'words', ' ', 'some', ' ', 'words']\n"
     ]
    }
   ],
   "source": [
    "print re.split(r'(\\s*)','here are some   words some words')"
   ]
  },
  {
   "cell_type": "code",
   "execution_count": 4,
   "metadata": {
    "collapsed": false
   },
   "outputs": [
    {
     "name": "stdout",
     "output_type": "stream",
     "text": [
      "['here are ', 's', 'ome   word', 's', ' ', 's', 'ome word', 's', '']\n"
     ]
    }
   ],
   "source": [
    "print re.split(r'(s*)','here are some   words some words')"
   ]
  },
  {
   "cell_type": "code",
   "execution_count": 5,
   "metadata": {
    "collapsed": false
   },
   "outputs": [
    {
     "name": "stdout",
     "output_type": "stream",
     "text": [
      "['', 's', 'l', 'jks', '', '', 'io', 'ws', '', '', '', '']\n"
     ]
    }
   ],
   "source": [
    "print re.split(r'[a-f]','asdlfjksadfioewsdfaa')"
   ]
  },
  {
   "cell_type": "code",
   "execution_count": 6,
   "metadata": {
    "collapsed": false
   },
   "outputs": [
    {
     "name": "stdout",
     "output_type": "stream",
     "text": [
      "['', 's', 'l', 'jks', 'SDFE', 'io', 'DSSDws', '']\n"
     ]
    }
   ],
   "source": [
    "print re.split(r'[a-f][a-f]*','asdlfjksaSDFEfioeDSSDwsdfaa',re.I|re.M)"
   ]
  },
  {
   "cell_type": "code",
   "execution_count": 7,
   "metadata": {
    "collapsed": false
   },
   "outputs": [
    {
     "name": "stdout",
     "output_type": "stream",
     "text": [
      "['324 main st.']\n"
     ]
    }
   ],
   "source": [
    "print re.findall(r'\\d{1,5}\\s\\w+\\s\\w+\\.','ocimwe324 main st.asdvce')"
   ]
  },
  {
   "cell_type": "code",
   "execution_count": 8,
   "metadata": {
    "collapsed": false
   },
   "outputs": [],
   "source": [
    "import urllib"
   ]
  },
  {
   "cell_type": "code",
   "execution_count": 17,
   "metadata": {
    "collapsed": false
   },
   "outputs": [
    {
     "name": "stdout",
     "output_type": "stream",
     "text": [
      "Searching: google\n",
      "<title>Google</title>\n",
      "Searching: yahoo\n",
      "<title>Yahoo</title>\n",
      "Searching: cnn\n",
      "<title>CNN - Breaking News, Latest News and Videos</title>\n",
      "Searching: msn\n",
      "<title>MSN.com - Hotmail, Outlook, Skype, Bing, Latest News, Photos &amp; Videos</title>\n"
     ]
    }
   ],
   "source": [
    "try:\n",
    "    imoprt.urllib.request\n",
    "except:\n",
    "    pass\n",
    "\n",
    "sites = 'google yahoo cnn msn'.split()\n",
    "pat = re.compile(r'<title>+.*</title>+',re.I|re.M )\n",
    "\n",
    "for s in sites:\n",
    "    print('Searching: '+s)\n",
    "    try:\n",
    "        u=urllib.urlopen('http://'+s+'.com')\n",
    "    except:\n",
    "        u = urllib.request.urlopen('http://'+s+'.com')\n",
    "    text = u.read()\n",
    "    title = re.findall(pat,str(text))\n",
    "    print(title[0])"
   ]
  },
  {
   "cell_type": "code",
   "execution_count": null,
   "metadata": {
    "collapsed": true
   },
   "outputs": [],
   "source": []
  }
 ],
 "metadata": {
  "kernelspec": {
   "display_name": "Python 2",
   "language": "python",
   "name": "python2"
  },
  "language_info": {
   "codemirror_mode": {
    "name": "ipython",
    "version": 2
   },
   "file_extension": ".py",
   "mimetype": "text/x-python",
   "name": "python",
   "nbconvert_exporter": "python",
   "pygments_lexer": "ipython2",
   "version": "2.7.13"
  }
 },
 "nbformat": 4,
 "nbformat_minor": 2
}
